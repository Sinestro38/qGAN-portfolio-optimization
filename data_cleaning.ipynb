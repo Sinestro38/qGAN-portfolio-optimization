{
 "cells": [
  {
   "cell_type": "code",
   "execution_count": 4,
   "metadata": {},
   "outputs": [],
   "source": [
    "import pandas as pd\n",
    "import numpy as np"
   ]
  },
  {
   "cell_type": "code",
   "execution_count": 5,
   "metadata": {},
   "outputs": [],
   "source": [
    "equities = ['MSFT', 'DIS', 'TSLA', 'FB', 'ADBE', 'V']"
   ]
  },
  {
   "cell_type": "code",
   "execution_count": 6,
   "metadata": {},
   "outputs": [],
   "source": [
    "main_df = pd.DataFrame()\n",
    "\n",
    "for equity in equities:\n",
    "    dataset = f'data/{equity}'\n",
    "    df = pd.read_csv(dataset, names=['high','low','open','close'])\n",
    "    df = df[['close']][1:]\n",
    "\n",
    "    df.columns = [f'{equity}']\n",
    "\n",
    "    if len(main_df) == 0:\n",
    "        main_df = df\n",
    "    else:\n",
    "        main_df = main_df.join(df)\n",
    "\n",
    "main_df.fillna(method='ffill', inplace=True)\n",
    "main_df.dropna(inplace=True)\n",
    "Path = 'data/clean_dataframe'\n",
    "main_df.to_csv(Path)"
   ]
  }
 ],
 "metadata": {
  "kernelspec": {
   "display_name": "Python 3",
   "language": "python",
   "name": "python3"
  },
  "language_info": {
   "codemirror_mode": {
    "name": "ipython",
    "version": 3
   },
   "file_extension": ".py",
   "mimetype": "text/x-python",
   "name": "python",
   "nbconvert_exporter": "python",
   "pygments_lexer": "ipython3",
   "version": "3.8.3"
  }
 },
 "nbformat": 4,
 "nbformat_minor": 4
}
