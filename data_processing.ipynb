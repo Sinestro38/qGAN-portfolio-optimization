{
 "cells": [
  {
   "cell_type": "code",
   "execution_count": 440,
   "metadata": {},
   "outputs": [],
   "source": [
    "import pandas as pd\n",
    "from sklearn import preprocessing\n",
    "from collections import deque\n",
    "import numpy as np\n",
    "from itertools import islice\n",
    "from numpy import random"
   ]
  },
  {
   "cell_type": "code",
   "execution_count": 441,
   "metadata": {
    "scrolled": false
   },
   "outputs": [
    {
     "data": {
      "text/html": [
       "<div>\n",
       "<style scoped>\n",
       "    .dataframe tbody tr th:only-of-type {\n",
       "        vertical-align: middle;\n",
       "    }\n",
       "\n",
       "    .dataframe tbody tr th {\n",
       "        vertical-align: top;\n",
       "    }\n",
       "\n",
       "    .dataframe thead th {\n",
       "        text-align: right;\n",
       "    }\n",
       "</style>\n",
       "<table border=\"1\" class=\"dataframe\">\n",
       "  <thead>\n",
       "    <tr style=\"text-align: right;\">\n",
       "      <th></th>\n",
       "      <th>MSFT</th>\n",
       "      <th>DIS</th>\n",
       "      <th>TSLA</th>\n",
       "      <th>FB</th>\n",
       "      <th>ADBE</th>\n",
       "      <th>V</th>\n",
       "    </tr>\n",
       "    <tr>\n",
       "      <th>date</th>\n",
       "      <th></th>\n",
       "      <th></th>\n",
       "      <th></th>\n",
       "      <th></th>\n",
       "      <th></th>\n",
       "      <th></th>\n",
       "    </tr>\n",
       "  </thead>\n",
       "  <tbody>\n",
       "    <tr>\n",
       "      <th>2020-10-01</th>\n",
       "      <td>211.418289</td>\n",
       "      <td>123.309998</td>\n",
       "      <td>448.160004</td>\n",
       "      <td>266.630005</td>\n",
       "      <td>499.510010</td>\n",
       "      <td>202.729340</td>\n",
       "    </tr>\n",
       "    <tr>\n",
       "      <th>2020-10-02</th>\n",
       "      <td>205.179031</td>\n",
       "      <td>122.550003</td>\n",
       "      <td>415.089996</td>\n",
       "      <td>259.940002</td>\n",
       "      <td>478.989990</td>\n",
       "      <td>200.845108</td>\n",
       "    </tr>\n",
       "    <tr>\n",
       "      <th>2020-10-05</th>\n",
       "      <td>209.348495</td>\n",
       "      <td>123.370003</td>\n",
       "      <td>425.679993</td>\n",
       "      <td>264.649994</td>\n",
       "      <td>486.470001</td>\n",
       "      <td>202.918732</td>\n",
       "    </tr>\n",
       "    <tr>\n",
       "      <th>2020-10-06</th>\n",
       "      <td>204.900406</td>\n",
       "      <td>120.930000</td>\n",
       "      <td>413.980011</td>\n",
       "      <td>258.660004</td>\n",
       "      <td>478.980011</td>\n",
       "      <td>199.838181</td>\n",
       "    </tr>\n",
       "    <tr>\n",
       "      <th>2020-10-07</th>\n",
       "      <td>208.801178</td>\n",
       "      <td>122.910004</td>\n",
       "      <td>425.299988</td>\n",
       "      <td>258.119995</td>\n",
       "      <td>493.149994</td>\n",
       "      <td>201.852020</td>\n",
       "    </tr>\n",
       "  </tbody>\n",
       "</table>\n",
       "</div>"
      ],
      "text/plain": [
       "                  MSFT         DIS        TSLA          FB        ADBE  \\\n",
       "date                                                                     \n",
       "2020-10-01  211.418289  123.309998  448.160004  266.630005  499.510010   \n",
       "2020-10-02  205.179031  122.550003  415.089996  259.940002  478.989990   \n",
       "2020-10-05  209.348495  123.370003  425.679993  264.649994  486.470001   \n",
       "2020-10-06  204.900406  120.930000  413.980011  258.660004  478.980011   \n",
       "2020-10-07  208.801178  122.910004  425.299988  258.119995  493.149994   \n",
       "\n",
       "                     V  \n",
       "date                    \n",
       "2020-10-01  202.729340  \n",
       "2020-10-02  200.845108  \n",
       "2020-10-05  202.918732  \n",
       "2020-10-06  199.838181  \n",
       "2020-10-07  201.852020  "
      ]
     },
     "execution_count": 441,
     "metadata": {},
     "output_type": "execute_result"
    }
   ],
   "source": [
    "df = pd.read_csv('data/clean_dataframe')\n",
    "df.set_index('Unnamed: 0', inplace=True)\n",
    "df.index.names = ['date']\n",
    "df.head()"
   ]
  },
  {
   "cell_type": "code",
   "execution_count": 442,
   "metadata": {},
   "outputs": [],
   "source": [
    "dates = sorted(df.index.values)\n",
    "last_25pct = sorted(df.index.values)[-int(0.3 * len(dates))]\n",
    "df_real = df[(df.index >= last_25pct)]\n",
    "df_train = df[(df.index < last_25pct)]"
   ]
  },
  {
   "cell_type": "code",
   "execution_count": 443,
   "metadata": {},
   "outputs": [],
   "source": [
    "b = 15\n",
    "f = 4\n",
    "w = b + f\n",
    "sequential_data = []\n",
    "prev_days = deque(maxlen=w)\n",
    "df_pct = df.pct_change()\n",
    "df_pct.dropna(inplace=True)\n",
    "\n",
    "sequential_data = []\n",
    "for col in df_pct.columns:\n",
    "    full_seq = df_pct[col][:w]\n",
    "    b_seq = full_seq[:b]\n",
    "    f_seq = full_seq[-f:]\n",
    "    \n",
    "    seq_min_max = max(abs(np.min(b_seq)), abs(np.max(b_seq)))\n",
    "    b_seq = np.interp(b_seq, (-seq_min_max, seq_min_max), (-1, 1))\n",
    "    f_seq = np.interp(f_seq, (-seq_min_max, seq_min_max), (-1, 1))\n",
    "    sequential_data.append([b_seq, f_seq])    "
   ]
  },
  {
   "cell_type": "code",
   "execution_count": 444,
   "metadata": {
    "scrolled": false
   },
   "outputs": [
    {
     "name": "stderr",
     "output_type": "stream",
     "text": [
      "<ipython-input-444-cf8598def8db>:1: VisibleDeprecationWarning: Creating an ndarray from ragged nested sequences (which is a list-or-tuple of lists-or-tuples-or ndarrays with different lengths or shapes) is deprecated. If you meant to do this, you must specify 'dtype=object' when creating the ndarray\n",
      "  sequential_data = np.array(sequential_data)\n"
     ]
    }
   ],
   "source": [
    "sequential_data = np.array(sequential_data)\n",
    "np.save('data/prices_15_4', sequential_data)"
   ]
  }
 ],
 "metadata": {
  "kernelspec": {
   "display_name": "Python 3",
   "language": "python",
   "name": "python3"
  },
  "language_info": {
   "codemirror_mode": {
    "name": "ipython",
    "version": 3
   },
   "file_extension": ".py",
   "mimetype": "text/x-python",
   "name": "python",
   "nbconvert_exporter": "python",
   "pygments_lexer": "ipython3",
   "version": "3.8.3"
  }
 },
 "nbformat": 4,
 "nbformat_minor": 4
}
