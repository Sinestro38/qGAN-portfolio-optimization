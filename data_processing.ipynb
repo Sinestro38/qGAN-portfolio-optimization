{
 "cells": [
  {
   "cell_type": "code",
   "execution_count": 33,
   "metadata": {},
   "outputs": [],
   "source": [
    "import pandas as pd\n",
    "import numpy as np"
   ]
  },
  {
   "cell_type": "code",
   "execution_count": 34,
   "metadata": {},
   "outputs": [],
   "source": [
    "b = 15\n",
    "f = 4\n",
    "value_num = b + f"
   ]
  },
  {
   "cell_type": "code",
   "execution_count": 44,
   "metadata": {},
   "outputs": [
    {
     "data": {
      "text/html": [
       "<div>\n",
       "<style scoped>\n",
       "    .dataframe tbody tr th:only-of-type {\n",
       "        vertical-align: middle;\n",
       "    }\n",
       "\n",
       "    .dataframe tbody tr th {\n",
       "        vertical-align: top;\n",
       "    }\n",
       "\n",
       "    .dataframe thead th {\n",
       "        text-align: right;\n",
       "    }\n",
       "</style>\n",
       "<table border=\"1\" class=\"dataframe\">\n",
       "  <thead>\n",
       "    <tr style=\"text-align: right;\">\n",
       "      <th></th>\n",
       "      <th>MSFT</th>\n",
       "      <th>DIS</th>\n",
       "      <th>HAS</th>\n",
       "      <th>JNJ</th>\n",
       "      <th>ADBE</th>\n",
       "      <th>V</th>\n",
       "    </tr>\n",
       "    <tr>\n",
       "      <th>date</th>\n",
       "      <th></th>\n",
       "      <th></th>\n",
       "      <th></th>\n",
       "      <th></th>\n",
       "      <th></th>\n",
       "      <th></th>\n",
       "    </tr>\n",
       "  </thead>\n",
       "  <tbody>\n",
       "    <tr>\n",
       "      <th>2008-10-01</th>\n",
       "      <td>19.923723</td>\n",
       "      <td>26.028379</td>\n",
       "      <td>23.815720</td>\n",
       "      <td>46.272808</td>\n",
       "      <td>38.119999</td>\n",
       "      <td>14.006698</td>\n",
       "    </tr>\n",
       "    <tr>\n",
       "      <th>2008-10-02</th>\n",
       "      <td>19.750673</td>\n",
       "      <td>25.417543</td>\n",
       "      <td>22.762486</td>\n",
       "      <td>46.272808</td>\n",
       "      <td>35.220001</td>\n",
       "      <td>13.156832</td>\n",
       "    </tr>\n",
       "    <tr>\n",
       "      <th>2008-10-03</th>\n",
       "      <td>19.803337</td>\n",
       "      <td>25.061228</td>\n",
       "      <td>22.755554</td>\n",
       "      <td>45.160210</td>\n",
       "      <td>33.689999</td>\n",
       "      <td>12.985491</td>\n",
       "    </tr>\n",
       "    <tr>\n",
       "      <th>2008-10-06</th>\n",
       "      <td>18.742439</td>\n",
       "      <td>23.975292</td>\n",
       "      <td>21.979475</td>\n",
       "      <td>44.027092</td>\n",
       "      <td>30.709999</td>\n",
       "      <td>12.651946</td>\n",
       "    </tr>\n",
       "    <tr>\n",
       "      <th>2008-10-07</th>\n",
       "      <td>17.478403</td>\n",
       "      <td>22.541527</td>\n",
       "      <td>21.141045</td>\n",
       "      <td>42.655083</td>\n",
       "      <td>28.690001</td>\n",
       "      <td>11.685575</td>\n",
       "    </tr>\n",
       "  </tbody>\n",
       "</table>\n",
       "</div>"
      ],
      "text/plain": [
       "                 MSFT        DIS        HAS        JNJ       ADBE          V\n",
       "date                                                                        \n",
       "2008-10-01  19.923723  26.028379  23.815720  46.272808  38.119999  14.006698\n",
       "2008-10-02  19.750673  25.417543  22.762486  46.272808  35.220001  13.156832\n",
       "2008-10-03  19.803337  25.061228  22.755554  45.160210  33.689999  12.985491\n",
       "2008-10-06  18.742439  23.975292  21.979475  44.027092  30.709999  12.651946\n",
       "2008-10-07  17.478403  22.541527  21.141045  42.655083  28.690001  11.685575"
      ]
     },
     "execution_count": 44,
     "metadata": {},
     "output_type": "execute_result"
    }
   ],
   "source": [
    "df = pd.read_csv('data/clean_dataframe')\n",
    "df.set_index('Unnamed: 0', inplace=True)\n",
    "df.index.names = ['date']\n",
    "df.head()"
   ]
  },
  {
   "cell_type": "markdown",
   "metadata": {},
   "source": [
    "## Window Batching"
   ]
  },
  {
   "cell_type": "code",
   "execution_count": 36,
   "metadata": {},
   "outputs": [],
   "source": [
    "batches_by_equity = []\n",
    "\n",
    "for equity in df.columns:\n",
    "    batches = []\n",
    "    for i in range(len(df) - value_num):\n",
    "        batches.append(df[equity][(0+i):(value_num+i)])\n",
    "    np.random.shuffle(batches)\n",
    "    batches_by_equity.append(batches)"
   ]
  },
  {
   "cell_type": "markdown",
   "metadata": {},
   "source": [
    "###### Batch dataframe structure: `[equity_name][shuffled_interval_time_sequence_dataframe]`"
   ]
  },
  {
   "cell_type": "code",
   "execution_count": 37,
   "metadata": {},
   "outputs": [
    {
     "data": {
      "text/plain": [
       "date\n",
       "2019-10-17    137.123764\n",
       "2019-10-18    134.885635\n",
       "2019-10-21    135.886902\n",
       "2019-10-22    133.864761\n",
       "2019-10-23    134.718796\n",
       "2019-10-24    137.369171\n",
       "2019-10-25    138.144653\n",
       "2019-10-28    141.541107\n",
       "2019-10-29    140.206070\n",
       "2019-10-30    141.953400\n",
       "2019-10-31    140.736130\n",
       "2019-11-01    141.079742\n",
       "2019-11-04    141.894485\n",
       "2019-11-05    141.806152\n",
       "2019-11-06    141.413467\n",
       "2019-11-07    141.609802\n",
       "2019-11-08    143.278595\n",
       "2019-11-11    143.425797\n",
       "2019-11-12    144.368195\n",
       "Name: MSFT, dtype: float64"
      ]
     },
     "execution_count": 37,
     "metadata": {},
     "output_type": "execute_result"
    }
   ],
   "source": [
    "# all_the_batches\\[msft\\]\\[batch_number_243\\]\n",
    "batches_by_equity[0][243]"
   ]
  },
  {
   "cell_type": "code",
   "execution_count": 38,
   "metadata": {},
   "outputs": [],
   "source": [
    "proccessed_batches_by_equity = []\n",
    "for equity_batch_set in batches_by_equity:\n",
    "    processed_batch_set = []\n",
    "    for batch in equity_batch_set:     \n",
    "        full_seq = batch.pct_change().dropna(inplace=False)\n",
    "        df_future = full_seq[-f:]\n",
    "        df_past = full_seq[:b]\n",
    "\n",
    "        min_max = max(abs(np.min(df_past)), abs(np.max(df_past)))\n",
    "        df_past = np.interp(df_past, (-min_max, min_max), (-1, 1))\n",
    "        df_future = np.interp(df_future, (-min_max, min_max), (-1, 1)) # future note: mayb find diff bounds than b_seq min_max\n",
    "        processed_batch_set.append([df_past, df_future])\n",
    "    proccessed_batches_by_equity.append(processed_batch_set)"
   ]
  },
  {
   "cell_type": "markdown",
   "metadata": {},
   "source": [
    "###### Proccessed batches structure: `[equity number][sample number][past or future]`"
   ]
  },
  {
   "cell_type": "markdown",
   "metadata": {},
   "source": [
    "## Train test split"
   ]
  },
  {
   "cell_type": "code",
   "execution_count": 39,
   "metadata": {},
   "outputs": [],
   "source": [
    "dataset = []\n",
    "for equity in proccessed_batches_by_equity:\n",
    "    train_dataset = equity[0: int(0.8 * len(equity))]\n",
    "    test_dataset = equity[int(0.8 * len(equity)):]\n",
    "    equity_dataset = [train_dataset, test_dataset]\n",
    "    dataset.append(equity_dataset)"
   ]
  },
  {
   "cell_type": "markdown",
   "metadata": {},
   "source": [
    "###### dataset structure: `[equity number][train or test][sample number][past or future]`"
   ]
  },
  {
   "cell_type": "code",
   "execution_count": 40,
   "metadata": {},
   "outputs": [
    {
     "data": {
      "text/plain": [
       "[array([ 0.28896818, -0.26771403,  0.47088437, -0.59816664,  0.19047819,\n",
       "        -0.30928269,  0.19120271, -0.37379045,  1.        ,  0.32946162,\n",
       "        -0.14152228,  0.26576044,  0.41681932, -0.09076465, -0.22452409]),\n",
       " array([-0.22452409, -0.42166197,  0.21055015, -0.01845843])]"
      ]
     },
     "execution_count": 40,
     "metadata": {},
     "output_type": "execute_result"
    }
   ],
   "source": [
    "# MSFT, train dataset, 246th sample\n",
    "dataset[0][0][245]"
   ]
  },
  {
   "cell_type": "code",
   "execution_count": 41,
   "metadata": {},
   "outputs": [],
   "source": [
    "dataset = np.array(dataset)"
   ]
  },
  {
   "cell_type": "code",
   "execution_count": 42,
   "metadata": {},
   "outputs": [],
   "source": [
    "np.save('data/dataset', dataset)"
   ]
  }
 ],
 "metadata": {
  "instance_type": "ml.t3.medium",
  "kernelspec": {
   "display_name": "Python 3 (TensorFlow 2.3 Python 3.7 CPU Optimized)",
   "language": "python",
   "name": "python3__SAGEMAKER_INTERNAL__arn:aws:sagemaker:us-east-2:429704687514:image/tensorflow-2.3-cpu-py37-ubuntu18.04-v1"
  },
  "language_info": {
   "codemirror_mode": {
    "name": "ipython",
    "version": 3
   },
   "file_extension": ".py",
   "mimetype": "text/x-python",
   "name": "python",
   "nbconvert_exporter": "python",
   "pygments_lexer": "ipython3",
   "version": "3.7.10"
  }
 },
 "nbformat": 4,
 "nbformat_minor": 4
}
