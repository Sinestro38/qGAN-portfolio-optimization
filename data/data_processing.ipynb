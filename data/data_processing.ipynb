{
 "cells": [
  {
   "cell_type": "code",
   "execution_count": 1,
   "metadata": {},
   "outputs": [],
   "source": [
    "import pandas as pd\n",
    "import numpy as np"
   ]
  },
  {
   "cell_type": "code",
   "execution_count": 2,
   "metadata": {},
   "outputs": [],
   "source": [
    "b = 15\n",
    "f = 4\n",
    "value_num = b + f"
   ]
  },
  {
   "cell_type": "code",
   "execution_count": 3,
   "metadata": {},
   "outputs": [
    {
     "data": {
      "text/html": [
       "<div>\n",
       "<style scoped>\n",
       "    .dataframe tbody tr th:only-of-type {\n",
       "        vertical-align: middle;\n",
       "    }\n",
       "\n",
       "    .dataframe tbody tr th {\n",
       "        vertical-align: top;\n",
       "    }\n",
       "\n",
       "    .dataframe thead th {\n",
       "        text-align: right;\n",
       "    }\n",
       "</style>\n",
       "<table border=\"1\" class=\"dataframe\">\n",
       "  <thead>\n",
       "    <tr style=\"text-align: right;\">\n",
       "      <th></th>\n",
       "      <th>DIS</th>\n",
       "    </tr>\n",
       "    <tr>\n",
       "      <th>date</th>\n",
       "      <th></th>\n",
       "    </tr>\n",
       "  </thead>\n",
       "  <tbody>\n",
       "    <tr>\n",
       "      <th>2008-10-01</th>\n",
       "      <td>26.028379</td>\n",
       "    </tr>\n",
       "    <tr>\n",
       "      <th>2008-10-02</th>\n",
       "      <td>25.417543</td>\n",
       "    </tr>\n",
       "    <tr>\n",
       "      <th>2008-10-03</th>\n",
       "      <td>25.061228</td>\n",
       "    </tr>\n",
       "    <tr>\n",
       "      <th>2008-10-06</th>\n",
       "      <td>23.975292</td>\n",
       "    </tr>\n",
       "    <tr>\n",
       "      <th>2008-10-07</th>\n",
       "      <td>22.541527</td>\n",
       "    </tr>\n",
       "  </tbody>\n",
       "</table>\n",
       "</div>"
      ],
      "text/plain": [
       "                  DIS\n",
       "date                 \n",
       "2008-10-01  26.028379\n",
       "2008-10-02  25.417543\n",
       "2008-10-03  25.061228\n",
       "2008-10-06  23.975292\n",
       "2008-10-07  22.541527"
      ]
     },
     "execution_count": 3,
     "metadata": {},
     "output_type": "execute_result"
    }
   ],
   "source": [
    "df = pd.read_csv('./clean_dataframe')\n",
    "df.set_index('Unnamed: 0', inplace=True)\n",
    "df.index.names = ['date']\n",
    "df.head()"
   ]
  },
  {
   "cell_type": "markdown",
   "metadata": {},
   "source": [
    "## Window Batching"
   ]
  },
  {
   "cell_type": "code",
   "execution_count": 4,
   "metadata": {},
   "outputs": [],
   "source": [
    "batches_by_equity = []\n",
    "\n",
    "for equity in df.columns:\n",
    "    batches = []\n",
    "    for i in range(len(df) - value_num):\n",
    "        batches.append(df[equity][(0+i):(value_num+i)])\n",
    "    np.random.shuffle(batches)\n",
    "    batches_by_equity.append(batches)"
   ]
  },
  {
   "cell_type": "markdown",
   "metadata": {},
   "source": [
    "###### Batch dataframe structure: `[equity_name][shuffled_interval_time_sequence_dataframe]`"
   ]
  },
  {
   "cell_type": "code",
   "execution_count": 5,
   "metadata": {},
   "outputs": [
    {
     "data": {
      "text/plain": [
       "date\n",
       "2015-03-04     98.392662\n",
       "2015-03-05     97.889359\n",
       "2015-03-06     96.761627\n",
       "2015-03-09     98.103737\n",
       "2015-03-10     96.081261\n",
       "2015-03-11     95.894875\n",
       "2015-03-12     99.883873\n",
       "2015-03-13     99.203514\n",
       "2015-03-16    100.070274\n",
       "2015-03-17     99.688148\n",
       "2015-03-18    100.629478\n",
       "2015-03-19    100.070274\n",
       "2015-03-20    101.058205\n",
       "2015-03-23    100.862495\n",
       "2015-03-24     99.827957\n",
       "2015-03-25     97.861412\n",
       "2015-03-26     98.085091\n",
       "2015-03-27     98.308769\n",
       "2015-03-30     98.905266\n",
       "Name: DIS, dtype: float64"
      ]
     },
     "execution_count": 5,
     "metadata": {},
     "output_type": "execute_result"
    }
   ],
   "source": [
    "# all_the_batches\\[msft\\]\\[batch_number_243\\]\n",
    "batches_by_equity[0][243]"
   ]
  },
  {
   "cell_type": "code",
   "execution_count": 6,
   "metadata": {},
   "outputs": [],
   "source": [
    "proccessed_batches_by_equity = []\n",
    "for equity_batch_set in batches_by_equity:\n",
    "    processed_batch_set = []\n",
    "    for batch in equity_batch_set:     \n",
    "        full_seq = batch.pct_change().dropna(inplace=False)\n",
    "        df_future = full_seq[-f:]\n",
    "        df_past = full_seq[:b]\n",
    "\n",
    "        min_max = max(abs(np.min(df_past)), abs(np.max(df_past)))\n",
    "        df_past = np.interp(df_past, (-min_max, min_max), (-1, 1))\n",
    "        df_future = np.interp(df_future, (-min_max, min_max), (-1, 1)) # future note: mayb find diff bounds than b_seq min_max\n",
    "        processed_batch_set.append([df_past, df_future])\n",
    "    proccessed_batches_by_equity.append(processed_batch_set)"
   ]
  },
  {
   "cell_type": "markdown",
   "metadata": {},
   "source": [
    "###### Proccessed batches structure: `[equity number][sample number][past or future]`"
   ]
  },
  {
   "cell_type": "markdown",
   "metadata": {},
   "source": [
    "## Train test split"
   ]
  },
  {
   "cell_type": "code",
   "execution_count": 7,
   "metadata": {},
   "outputs": [],
   "source": [
    "dataset = []\n",
    "for equity in proccessed_batches_by_equity:\n",
    "    train_dataset = equity[0: int(0.8 * len(equity))]\n",
    "    test_dataset = equity[int(0.8 * len(equity)):]\n",
    "    equity_dataset = [train_dataset, test_dataset]\n",
    "    dataset.append(equity_dataset)"
   ]
  },
  {
   "cell_type": "markdown",
   "metadata": {},
   "source": [
    "###### dataset structure: `[equity number][train or test][sample number][past or future]`"
   ]
  },
  {
   "cell_type": "code",
   "execution_count": 8,
   "metadata": {},
   "outputs": [
    {
     "data": {
      "text/plain": [
       "[array([ 0.56701509,  0.11481071, -0.11467115, -0.37574573,  0.36678036,\n",
       "        -0.14615776, -0.36592675,  0.96560233,  0.14544839, -0.82984677,\n",
       "         0.83721172, -0.39419055, -1.        , -0.08423274,  0.4742075 ]),\n",
       " array([ 0.4742075 , -0.31455417,  0.43132636,  0.19895961])]"
      ]
     },
     "execution_count": 8,
     "metadata": {},
     "output_type": "execute_result"
    }
   ],
   "source": [
    "# MSFT, train dataset, 246th sample\n",
    "dataset[0][0][245]"
   ]
  },
  {
   "cell_type": "code",
   "execution_count": 9,
   "metadata": {},
   "outputs": [],
   "source": [
    "dataset = np.array(dataset)"
   ]
  },
  {
   "cell_type": "code",
   "execution_count": 10,
   "metadata": {},
   "outputs": [],
   "source": [
    "np.save('./dataset', dataset)"
   ]
  }
 ],
 "metadata": {
  "instance_type": "ml.t3.medium",
  "kernelspec": {
   "display_name": "Python 3 (TensorFlow 2.3 Python 3.7 CPU Optimized)",
   "language": "python",
   "name": "python3__SAGEMAKER_INTERNAL__arn:aws:sagemaker:us-east-2:429704687514:image/tensorflow-2.3-cpu-py37-ubuntu18.04-v1"
  },
  "language_info": {
   "codemirror_mode": {
    "name": "ipython",
    "version": 3
   },
   "file_extension": ".py",
   "mimetype": "text/x-python",
   "name": "python",
   "nbconvert_exporter": "python",
   "pygments_lexer": "ipython3",
   "version": "3.7.10"
  }
 },
 "nbformat": 4,
 "nbformat_minor": 4
}
