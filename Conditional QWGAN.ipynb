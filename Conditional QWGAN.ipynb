{
 "cells": [
  {
   "cell_type": "markdown",
   "metadata": {},
   "source": [
    "# Conditional quantum wasserstein generative adversarial network for learning DIS stock prices"
   ]
  },
  {
   "cell_type": "markdown",
   "metadata": {},
   "source": [
    "Generative adversarial networks (GANs) are notoriously hard to train. Since GANs don't converge—instead reaching an equilibrium—it is hard to gauge when one should stop training. However, there are several challenges towards reaching an equilibrium, the most prominent of which: diminished gradients, non-convergence, and mode collapse. In a paper by Arjovsky et al. in 2017 [[1]](https://arxiv.org/abs/1701.07875), they propose the Wasserstein generative adversarial network (WGAN), using the Wasserstein metric or Earth-Mover's distance, which mitigates several of these problems in training GANs. Here, I take inspiration from the classical WGAN to implement a hybrid quantum-classical wasserstein generative adversarial network conditioned by DIS stock prices. To be transparent, the application of a CQWGAN to stock price prediction is not well motivated but the intention here is not to complete such an intractable machine learning task, but to evaluate and explore the learnability of a CQWGAN given the vanishing gradient problem we came across in the QGAN implementation. With that said, I provide a brief outline of classical WGANs and this specific model implementation below.\n",
    "\n",
    "## Wasserstein Generative Adversarial Networks\n",
    "\n",
    "### Wasserstein Loss\n",
    "Wasserstein GANs improve training by adopting a smooth metric for measuring the distance between two probability distributions. We will briefly overview this metric and why it has smooth gradients. As encountered in the QGAN implementation, the discriminator rapidly learns to differentiate between fake and real data samples. Although this may seem beneficial at first, in reality it overpowers the generator causing near-zero gradients for the generator to train off of. Without a rich gradient, the generator is faced to optimize without enough information/feedback on its prior generated data samples. Fortunately, the Wasserstein loss is mathematically proven to have a much broader support (subset of the domain containing non zero values) and therefore avoids vanishing gradients even when the discriminator is trained to optimality.  \n",
    "\n",
    "For those seeking a deeper intuition behind why the Wasserstein distance works, I explain it here. The traditional loss functions that generative models are trained on depend on the Kullback Leibler divergence or the Jensen Shannon divergence, which I need not mathematically define but know that they both quantify the distance between two probability distributions. This is a crucial aspect of GAN loss functions since the ability for the discriminator to discern between fake and real data centrally depends on the discriminator's ability to learn the distance between the respective data distributions.\n",
    "\n",
    "Unfortunately with KL and JS divergence, they both have near zero gradients as the generated distribution, $p_g$, ventures further from the real distribution, $p_r$. In addition, at the start of a GAN training procedure—when $p_g$ is highly inaccurate—the discriminator $D$ rapidly learns to differentiate between $p_g$ and $p_r$. Therefore, the loss function approaches zero and we end up with no gradient to update the loss during learning iterations.\n",
    "\n",
    "With these problems in mind, we can address Earth Mover's distance and how it can be of help. Wasserstein distance, as also called Earth Mover’s distance (short for EM distance) can be informally interpreted as the minimum energy needed to move and transform a pile of dirt in the shape of one probability distribution to the shape of the other distribution. The cost is quantified by the sum of the amount of dirt moved multiplied by the respective moving distance for each vertical. Below is a depiction of this idea in the case of two discrete distributions ([source](https://arxiv.org/pdf/1904.08994.pdf))\n",
    "\n",
    "<img src=\"./images/em_distance_plot.png\" alt=\"Step-by-step plan of moving dirt between piles in P and Q to make them match.\" align=\"right\" style=\"padding-left: 20px; padding_bottom: 20px\">\n",
    "\n",
    "In spirit of this idea, we will generalize to find a formula for EM distance including continuous distributions. To start, let an individual transport plan, $\\gamma(x,y)$ be the percentage of dirt at point $x$ that needs to be transported such that $x$ follows the same probability distribution as $y$.\n",
    "\n",
    "Taking $x$ as the starting point and $y$ as the ending point, we know that the amount of mass needed to complete the individual transformation is $\\gamma (x, y)$ and that the distance covered is $||x - y||$. Hence, the cost for a given transformation $(x \\rightarrow y)$ is $\\gamma(x, y) \\cdot ||x-y||$ Now to calculate the cost of a certain transport plan from $p_g$ to $p_r$, we just need to sum over the constituent costs of each individual transformation,\n",
    "$$\\underset{x, y}{\\sum} \\gamma (x, y) \\cdot ||x - y|| = \\underset{x,y∼\\gamma}{\\mathop{\\mathbb{E}}} ||x - y||$$\n",
    "\n",
    "After trying all such transport plans from $p_g$ to $p_r$, we conclude at the transport plan with the lowest cost. The cost of this most efficient transport plan is what we define as EM distance. Mathematically, we take the *infimum* (greatest lower bound), or put simply, the smallest cost in a set of all costs associated with each possible transport plan.\n",
    "\n",
    "$$W(p_r, p_g) = \\underset{\\gamma∼\\Pi  (p_r,p_g)}{\\text{inf}} \\mathop{\\mathbb{E}}_{(x,y)∼\\gamma}[||x − y||]$$\n",
    "\n",
    "Above is the Wasserstein distance between two distributions $p_r$ and $p_g$ where $\\Pi(p_r, p_g)$ defines the set of all possible dirt transport plans, $\\gamma \\in \\Pi  (p_r,p_g)$, or joint probability distributions between $p_r$ and $p_g$.\n",
    "\n",
    "### Applied to GANs\n",
    "To remind ourselves of the motivation behind using Wasserstein loss, think of two disjoint distributions. If they're truly is zero overlap, then you can expect the KL divergence to blow up to $+\\infty$ and the JS to jump to $log 2$ rendering both undifferentiable at that point. We observe that using Wasserstein distance, the loss here is $0$ and it remains smooth making for a stable learning process through gradient updates. This quality is especially useful for GANs since it ensures that the generator will be able to smoothly train in the beginning despite how badly its generated samples turn out to be.\n",
    "\n",
    "Due to the intractability of evaluating all possible joint distributions in $\\Pi(p_r, p_g)$, the authors in the [original WGAN paper](https://arxiv.org/abs/1701.07875) introduced a reforumalation of the orginial Wasserstein distance based on the Kantorovich-Rubinstein duality:\n",
    "\n",
    "$$W(p_r, p_g) = \\frac{1}{K} \\underset{ ||f||_L \\leq K}{\\text{sup}} \\space \\mathop{\\mathbb{E}}_{x∼p_r} [f(x)] - \\mathop{\\mathbb{E}}_{x∼p_g} [f(x)]$$\n",
    "\n",
    "where *supremum* measures the least upper bound, or put simply, the maximum value. The derivation is out of the scope of this notebook but if you're interested in peering further I recommend reading through this [post](https://vincentherrmann.github.io/blog/wasserstein/). It's important to note that the new real-valued function $f$ must satisfy the condition $||f||_L \\leq K$ meaning that the function must be $K$-Lipschitz continuous.\n",
    "\n",
    "A real valued function $f$ is called $K$-Lipschitz continuous if there exists a real constant $K ≥ 0$ such that, for all $x_1, x_2 \\in R$\n",
    "\n",
    "$$ |f(x_1) - f(x_2)| \\leq K|x_1 - x_2|$$\n",
    "   \n",
    "Intuitively, the Lipschitz constant $K$ ensures that our loss function is everywhere differentiable and that it doesn't have exploding gradients. Think of it as a condition that makes sure that the loss function is smooth for the whole domain by setting an upper bound on the derivative.\n",
    "\n",
    "If we unbound $K$ to allow $f$ to pull from a family of K-Lipschitz continuous functions, ${\\{f_w\\}}_{\\mathcal{w}\\in W}$, the discriminator's new role would be to learn $w$ and arrive at a suitable $K$-Lipschitz continuous function $f_w$ such that the loss function is configured to measure the Wasserstein distance between $p_r$ and $p_g$. Using the above information, we can formally define the loss function and optimization task as\n",
    "\n",
    "$$ L(p_r, p_g) = W(p_r, p_g) = \\underset{w\\in W}{\\text{max}} \\space \\mathop{\\mathbb{E}}_{x∼p_r} [f_w(x)] - \\mathop{\\mathbb{E}}_{z∼p_r(z)} [f_w(g_\\theta(z))]$$\n",
    "\n",
    "Notice the absence of any logarithms. The Wasserstein GAN loss function is completely dependent on the $K$-Lipschitz continuous functions. Even more importantly, the discriminator here doesn't play the role of a direct classifier for each instance, assigning a value in $[0,1]$ to evaluate the authenticity of a presented data sample. Rather, it outputs a number. This number does not have to be less than one or greater than 0. Discriminator training just tries to make the output bigger for real instances than for fake instances. Because it can't really discriminate between real and fake, the WGAN discriminator is actually called a \"critic\" instead of a \"discriminator\". This holds importance since the critics' job is to widen the gap between the score of $p_r$ and $p_g$, and the generator's objective is to close it. Unsurprisingly, the progression of the generator in this setting correlates with generated data sample quality which wasn't a fixed condition in conventional GANs. \n",
    "\n",
    "The only theoretical caveat to mention is the difficulty of maintaining $K$-Lipschitz continuity of the critic's function $f_w$. To overcome this, the authors of the original paper propose a simple weight clipping technique where after each gradient update, the weights $w$ are clipped between a small window like $[-0.01, 0.01]$.\n",
    "\n",
    "### In practice\n",
    "WGANs are surprisingly simple to implement in practice, even the loss function! Since the essence of the loss function is the distance between the critics evaluation for fake and real data samples, we can implement it into our QGAN like so:\n",
    "\n",
    "$$L_D(x) = D(G(z)) - D(x) $$\n",
    "$$L_G(x) = -D(G(z))$$\n",
    "\n",
    "The critic tries to minimize the first function. In other words, it tries to maximize the difference between its average score on real samples and its score on fake samples. The generator tries to minimize the second function. In other words, It tries to maximize the discriminator's score for its fake data samples. By looking at Brownlee's [implementation](https://machinelearningmastery.com/how-to-code-a-wasserstein-generative-adversarial-network-wgan-from-scratch/) of a WGAN, I arrived at this elegant implementation of the above loss function with class labels of 1, and -1 assigned to fake data and real data, respectively. \n",
    "```\n",
    "def wasserstein_loss(y_true, y_pred):\n",
    "\treturn mean(y_true * y_pred)\n",
    "```\n",
    "\n",
    "## General overview of QWGAN\n",
    "The quantum Wasserstein generative adversarial network consists of one 19 qubit parameterized quantum generator paired with a classical CNN as a discriminator. The 19 qubit quantum generator is compiled as a Keras layer and it takes as input the past 15 days of price data sent in as conditional labels and a Gaussian noise vector of length 12. The intention of the implementation is to investigate if the vanishing gradient problem faced with our QGAN implementation is alleviated with the use of the Wasserstein loss function. Below is an image of the model graph. \n",
    "\n",
    "<img src=\"./images/qwgan_model_graph.png\" alt=\"QWGAN model graph\">"
   ]
  },
  {
   "cell_type": "markdown",
   "metadata": {},
   "source": [
    "<hr>"
   ]
  },
  {
   "cell_type": "markdown",
   "metadata": {
    "id": "5DSuCzfc32we"
   },
   "source": [
    "## Imports"
   ]
  },
  {
   "cell_type": "code",
   "execution_count": 48,
   "metadata": {
    "id": "yUIh5KnTSvt_"
   },
   "outputs": [],
   "source": [
    "import numpy as np\n",
    "import matplotlib.pyplot as plt\n",
    "import pennylane as qml\n",
    "import tensorflow as tf\n",
    "from tensorflow import keras\n",
    "from tensorflow.keras import backend\n",
    "from tensorflow.keras import layers\n",
    "from tensorflow.keras.optimizers import RMSprop\n",
    "from tensorflow.keras.models import Sequential\n",
    "from tensorflow.keras.layers import Dense\n",
    "from tensorflow.keras.layers import Reshape\n",
    "from tensorflow.keras.layers import Flatten\n",
    "from tensorflow.keras.layers import Conv1D\n",
    "from tensorflow.keras.layers import LeakyReLU\n",
    "from tensorflow.keras.layers import BatchNormalization\n",
    "from tensorflow.keras.initializers import RandomNormal\n",
    "from tensorflow.keras.constraints import Constraint\n",
    "from tensorflow.keras.utils import plot_model"
   ]
  },
  {
   "cell_type": "code",
   "execution_count": 2,
   "metadata": {
    "id": "2PWDzTGPSvuD"
   },
   "outputs": [],
   "source": [
    "dataset = np.load('data/dataset.npy', allow_pickle=True)\n",
    "dis_dataset = dataset[1]"
   ]
  },
  {
   "cell_type": "code",
   "execution_count": 3,
   "metadata": {
    "id": "IEWib84pSvuC"
   },
   "outputs": [],
   "source": [
    "num_latent_qubits = 4\n",
    "latent_dim = 3 * num_latent_qubits\n",
    "n_layers = 3\n",
    "wires = range(len(dis_dataset[0][0][0]) + num_latent_qubits)\n",
    "weight_shapes = {\"weights\": (n_layers,len(wires),3)}\n",
    "dev = qml.device('default.qubit', wires=wires)"
   ]
  },
  {
   "cell_type": "code",
   "execution_count": 4,
   "metadata": {},
   "outputs": [],
   "source": [
    "# clip model weights to a given hypercube\n",
    "class ClipConstraint(tf.keras.constraints.Constraint):\n",
    "    # set clip value when initialized\n",
    "    def __init__(self, clip_value):\n",
    "        self.clip_value = clip_value\n",
    "\n",
    "    # clip model weights to hypercube\n",
    "    def __call__(self, weights):\n",
    "        return backend.clip(weights, -self.clip_value, self.clip_value)\n",
    "\n",
    "    # get the config\n",
    "    def get_config(self):\n",
    "        return {'clip_value': self.clip_value}"
   ]
  },
  {
   "cell_type": "code",
   "execution_count": 5,
   "metadata": {},
   "outputs": [],
   "source": [
    "# calculate wasserstein loss\n",
    "def wasserstein_loss(y_true, y_pred):\n",
    "\treturn backend.mean(y_true * y_pred)"
   ]
  },
  {
   "cell_type": "code",
   "execution_count": 6,
   "metadata": {},
   "outputs": [],
   "source": [
    "x_train, y_train = list(), list()\n",
    "x_val, y_val = list(), list()\n",
    "x_test, y_test = list(), list()\n",
    "\n",
    "for i in range(len(dis_dataset[0])):\n",
    "    x_train.append(dis_dataset[0][i][0])\n",
    "    y_train.append(dis_dataset[0][i][1])\n",
    "\n",
    "for i in range(len(dis_dataset[1])):\n",
    "    if i <= len(dis_dataset[1][:int(0.5 * (len(dis_dataset[1])-1))]):\n",
    "        x_val.append(dis_dataset[1][i][0])\n",
    "        y_val.append(dis_dataset[1][i][1])\n",
    "    \n",
    "    if i > len(dis_dataset[1][:int(0.5 * (len(dis_dataset[1])-1))]):\n",
    "        x_test.append(dis_dataset[1][i][0])\n",
    "        y_test.append(dis_dataset[1][i][1])\n",
    "\n",
    "train_labels, train_y = np.asarray(x_train), np.asarray(y_train)\n",
    "val_labels, val_y = np.asarray(x_val), np.asarray(y_val)\n",
    "test_labels, test_y = np.asarray(x_test), np.asarray(y_test)\n",
    "\n",
    "train_dis_dataset = [train_labels, train_y]\n",
    "val_dis_dataset = [val_labels, val_y]\n",
    "test_dis_dataset = [test_labels, test_y]"
   ]
  },
  {
   "cell_type": "markdown",
   "metadata": {
    "id": "5fumLe24SvuE"
   },
   "source": [
    "## Structure of QWGAN"
   ]
  },
  {
   "cell_type": "markdown",
   "metadata": {
    "id": "J5vdqNn8SvuJ"
   },
   "source": [
    "### Discriminator"
   ]
  },
  {
   "cell_type": "code",
   "execution_count": 7,
   "metadata": {
    "id": "R8XPDksNSvuJ"
   },
   "outputs": [],
   "source": [
    "def define_critic():\n",
    "    # weight initialization\n",
    "    init = tf.keras.initializers.RandomNormal(stddev=0.02)\n",
    "    #` weight constraint\n",
    "    const = ClipConstraint(0.01)\n",
    "    \n",
    "    gen_output = layers.Input(shape=(4,))\n",
    "    gen_label = layers.Input(shape=(15,))\n",
    "    merge = layers.Concatenate()([gen_output, gen_label])\n",
    "    merge = tf.reshape(merge, (-1, 1, 1,19))\n",
    "    \n",
    "    x = Conv1D(filters=64, kernel_size=1, kernel_initializer=init, kernel_constraint=const, input_shape=(None, 19))(merge)\n",
    "    x = BatchNormalization()(x)\n",
    "    x = LeakyReLU(alpha=0.2)(x)\n",
    "\n",
    "    x = Conv1D(filters=64, kernel_size=1, kernel_initializer=init, kernel_constraint=const)(x)\n",
    "    x = BatchNormalization()(x)\n",
    "    x = LeakyReLU(alpha=0.2)(x)\n",
    "    \n",
    "    # linear activation\n",
    "    x = Flatten()(x)\n",
    "    Output = Dense(units=1)(x)\n",
    "    \n",
    "    # compile model\n",
    "    model = tf.keras.Model(inputs=[gen_output, gen_label], outputs=Output)\n",
    "    opt = tf.keras.optimizers.RMSprop(lr=0.00005)\n",
    "    model.compile(loss=wasserstein_loss, optimizer=opt)\n",
    "    return model"
   ]
  },
  {
   "cell_type": "code",
   "execution_count": 8,
   "metadata": {
    "colab": {
     "base_uri": "https://localhost:8080/",
     "height": 0
    },
    "id": "a8n-2ExLSvuJ",
    "outputId": "f8808ce5-bb01-4caa-f50c-fac7392b1f15",
    "scrolled": true
   },
   "outputs": [
    {
     "name": "stdout",
     "output_type": "stream",
     "text": [
      "[2021-06-21 00:55:21.896 tensorflow-2-3-cpu-p-ml-m5-4xlarge-b9b58b15c8602c22bc98125af7d7:10403 INFO utils.py:27] RULE_JOB_STOP_SIGNAL_FILENAME: None\n",
      "[2021-06-21 00:55:21.947 tensorflow-2-3-cpu-p-ml-m5-4xlarge-b9b58b15c8602c22bc98125af7d7:10403 INFO profiler_config_parser.py:102] Unable to find config at /opt/ml/input/config/profilerconfig.json. Profiler is disabled.\n",
      "Model: \"functional_1\"\n",
      "__________________________________________________________________________________________________\n",
      "Layer (type)                    Output Shape         Param #     Connected to                     \n",
      "==================================================================================================\n",
      "input_1 (InputLayer)            [(None, 4)]          0                                            \n",
      "__________________________________________________________________________________________________\n",
      "input_2 (InputLayer)            [(None, 15)]         0                                            \n",
      "__________________________________________________________________________________________________\n",
      "concatenate (Concatenate)       (None, 19)           0           input_1[0][0]                    \n",
      "                                                                 input_2[0][0]                    \n",
      "__________________________________________________________________________________________________\n",
      "tf_op_layer_Reshape (TensorFlow [(None, 1, 1, 19)]   0           concatenate[0][0]                \n",
      "__________________________________________________________________________________________________\n",
      "conv1d (Conv1D)                 (None, 1, 1, 64)     1280        tf_op_layer_Reshape[0][0]        \n",
      "__________________________________________________________________________________________________\n",
      "batch_normalization (BatchNorma (None, 1, 1, 64)     256         conv1d[0][0]                     \n",
      "__________________________________________________________________________________________________\n",
      "leaky_re_lu (LeakyReLU)         (None, 1, 1, 64)     0           batch_normalization[0][0]        \n",
      "__________________________________________________________________________________________________\n",
      "conv1d_1 (Conv1D)               (None, 1, 1, 64)     4160        leaky_re_lu[0][0]                \n",
      "__________________________________________________________________________________________________\n",
      "batch_normalization_1 (BatchNor (None, 1, 1, 64)     256         conv1d_1[0][0]                   \n",
      "__________________________________________________________________________________________________\n",
      "leaky_re_lu_1 (LeakyReLU)       (None, 1, 1, 64)     0           batch_normalization_1[0][0]      \n",
      "__________________________________________________________________________________________________\n",
      "flatten (Flatten)               (None, 64)           0           leaky_re_lu_1[0][0]              \n",
      "__________________________________________________________________________________________________\n",
      "dense (Dense)                   (None, 1)            65          flatten[0][0]                    \n",
      "==================================================================================================\n",
      "Total params: 6,017\n",
      "Trainable params: 5,761\n",
      "Non-trainable params: 256\n",
      "__________________________________________________________________________________________________\n"
     ]
    }
   ],
   "source": [
    "discriminator = define_critic()\n",
    "\n",
    "discriminator.summary()"
   ]
  },
  {
   "cell_type": "markdown",
   "metadata": {
    "id": "x9Pda43PSvuE"
   },
   "source": [
    "### Generator"
   ]
  },
  {
   "cell_type": "code",
   "execution_count": 9,
   "metadata": {},
   "outputs": [],
   "source": [
    "tf.keras.backend.set_floatx('float64')"
   ]
  },
  {
   "cell_type": "code",
   "execution_count": 10,
   "metadata": {
    "id": "09FKQFWoSvuF"
   },
   "outputs": [],
   "source": [
    "@qml.qnode(dev, interface=\"tf\")\n",
    "def gen_circuit(inputs, weights):\n",
    "    # Embedding past time series onto circuit (bath)\n",
    "    qml.templates.AngleEmbedding(inputs[:len(dis_dataset[0][0][0])], wires, rotation='X')\n",
    "    \n",
    "    # Gaussian noise through U3 unitaries\n",
    "    noise_params = tf.reshape(inputs[len(dis_dataset[0][0][0]):], (num_latent_qubits, 3))\n",
    "    qml.broadcast(unitary=qml.U3, wires=wires[-num_latent_qubits:], pattern=\"single\", parameters=noise_params)\n",
    "    \n",
    "    # Adjusting parameters of generator ansatz\n",
    "    qml.templates.StronglyEntanglingLayers(weights, wires=wires)\n",
    "    \n",
    "    # Returning normalized percentage price predictions for next 4 days in dataset \n",
    "    return [qml.expval(qml.PauliZ(i)) for i in range(len(dis_dataset[0][1][1]))]"
   ]
  },
  {
   "cell_type": "code",
   "execution_count": 11,
   "metadata": {},
   "outputs": [],
   "source": [
    "def define_generator():    \n",
    "    # Convert gen_circuit to Keras layer\n",
    "    b_labels = keras.layers.Input(shape=(15,))\n",
    "    noise = keras.layers.Input(shape=(num_latent_qubits*3,))\n",
    "    merged = layers.Concatenate()([b_labels, noise])\n",
    "    qlayer = qml.qnn.KerasLayer(gen_circuit, weight_shapes, output_dim=len(dis_dataset[0][1][1]), dtype=\"float64\", name='generator_circ')(merged)\n",
    "    model = tf.keras.models.Model(inputs=[b_labels, noise], outputs=[qlayer])\n",
    "    return model"
   ]
  },
  {
   "cell_type": "markdown",
   "metadata": {},
   "source": [
    "### Complete QWGAN "
   ]
  },
  {
   "cell_type": "code",
   "execution_count": 12,
   "metadata": {},
   "outputs": [],
   "source": [
    "# Combined model for updating generator\n",
    "def define_qgan(generator, critic):\n",
    "    # set weights of critic to not trainable\n",
    "    for layer in critic.layers:\n",
    "        if not isinstance(layer, BatchNormalization):\n",
    "            layer.trainable = False\n",
    "    # get noise and label inputs from generator model\n",
    "    gen_label, gen_noise = generator.input\n",
    "    # get 4 day prediction from the generator model\n",
    "    g_output = generator.output\n",
    "    # connect generator output and generator label as inputs into discriminator\n",
    "    d = critic([g_output, gen_label])\n",
    "    # define full gan as taking in generator labels and noise to output a discriminator loss\n",
    "    model = keras.models.Model(inputs=[gen_label, gen_noise], outputs=d)\n",
    "    \n",
    "    opt = RMSprop(lr=0.00005)\n",
    "    model.compile(loss=wasserstein_loss, optimizer=opt)\n",
    "    return model"
   ]
  },
  {
   "cell_type": "markdown",
   "metadata": {},
   "source": [
    "### Helper functions"
   ]
  },
  {
   "cell_type": "code",
   "execution_count": 40,
   "metadata": {},
   "outputs": [],
   "source": [
    "def accuracy(real_data, fake_data):\n",
    "    m = tf.keras.metrics.MeanAbsoluteError()\n",
    "    m.update_state(real_data, fake_data)\n",
    "    acc = 1 - m.result().numpy()\n",
    "    return acc"
   ]
  },
  {
   "cell_type": "code",
   "execution_count": 13,
   "metadata": {},
   "outputs": [],
   "source": [
    "def generate_real_samples(train_labels, train_y, n_samples):\n",
    "    # choose random instances\n",
    "    ix = np.random.randint(0, train_y.shape[0], n_samples)\n",
    "    # select images and labels\n",
    "    X, labels = train_y[ix], train_labels[ix]\n",
    "    # generate class labels\n",
    "    y = -np.ones((n_samples, 1))\n",
    "    return [X, labels], y"
   ]
  },
  {
   "cell_type": "code",
   "execution_count": 14,
   "metadata": {},
   "outputs": [],
   "source": [
    "def generate_latent_points(n_samples, train_labels, latent_dim):\n",
    "    n_classes = train_labels.shape[0]\n",
    "    # generate points in the latent space with Gaussian structure\n",
    "    noise_input = np.random.normal(size=(n_samples, latent_dim))\n",
    "    # generate labels\n",
    "    ix = np.random.randint(0, n_classes, n_samples)\n",
    "    labels = train_labels[ix]\n",
    "    \n",
    "    return [noise_input, labels]"
   ]
  },
  {
   "cell_type": "code",
   "execution_count": 15,
   "metadata": {},
   "outputs": [],
   "source": [
    "def generate_fake_samples(generator, n_samples, latent_dim):\n",
    "    # generate points in latent space \n",
    "    noise_input, labels_input = generate_latent_points(n_samples, train_labels, latent_dim)\n",
    "    # predict outputs\n",
    "    y_pred = generator.predict([labels_input, noise_input])\n",
    "    # create class labels\n",
    "    y = np.ones((n_samples, 1))\n",
    "    return [y_pred, labels_input], y"
   ]
  },
  {
   "cell_type": "code",
   "execution_count": 16,
   "metadata": {},
   "outputs": [],
   "source": [
    "# create a line plot of loss for the gan and save to file\n",
    "def plot_history(d1_hist, d2_hist, g_hist):\n",
    "    # plot history\n",
    "    plt.plot(d1_hist, label='crit_real')\n",
    "    plt.plot(d2_hist, label='crit_fake')\n",
    "    plt.plot(g_hist, label='gen')\n",
    "    plt.legend()\n",
    "    plt.savefig('loss_plot.png')\n",
    "    plt.close()"
   ]
  },
  {
   "cell_type": "markdown",
   "metadata": {},
   "source": [
    "### Training"
   ]
  },
  {
   "cell_type": "code",
   "execution_count": 36,
   "metadata": {},
   "outputs": [],
   "source": [
    "# train the generator and critic\n",
    "def train(g_model, c_model, gan_model, dataset, latent_dim, n_epochs=10, n_batch=64, n_critic=5):\n",
    "    # calculate the number of batches per training epoch\n",
    "    bat_per_epo = int(len(dataset[0]) / n_batch)\n",
    "    # calculate the size of half a batch of samples\n",
    "    half_batch = int(n_batch / 2)\n",
    "    # lists for keeping track of loss\n",
    "    c1_hist, c2_hist, g_hist = list(), list(), list()\n",
    "    # manually enumerate epochs\n",
    "    for i in range(n_epochs):\n",
    "        for j in range(bat_per_epo):\n",
    "            c1_tmp, c2_tmp = list(), list()\n",
    "            for _ in range(n_critic):\n",
    "                # get randomly selected 'real' samples\n",
    "                [X_real, labels_real], y_real = generate_real_samples(dataset[0], dataset[1], half_batch)\n",
    "                # update critic model weights\n",
    "                c_loss1 = c_model.train_on_batch([X_real, labels_real], y_real)\n",
    "                c1_tmp.append(c_loss1)\n",
    "                # generate 'fake' examples\n",
    "                [X_fake, labels], y_fake = generate_fake_samples(g_model, half_batch, latent_dim)\n",
    "                # update critic model weights\n",
    "                c_loss2 = c_model.train_on_batch([X_fake, labels], y_fake)\n",
    "                c2_tmp.append(c_loss2)     \n",
    "            # store critic loss\n",
    "            c1_hist.append(np.mean(c1_tmp))\n",
    "            c2_hist.append(np.mean(c2_tmp))\n",
    "            # prepare points in latent space as input for the generator\n",
    "            [noise_input, train_labels] = generate_latent_points(n_batch, dataset[0], latent_dim)\n",
    "            # create inverted labels for the fake samples\n",
    "            y_gan = -np.ones((n_batch, 1))\n",
    "            # update the generator via the critic's error\n",
    "            g_loss = gan_model.train_on_batch([train_labels, noise_input], y_gan)\n",
    "            g_hist.append(g_loss)\n",
    "            # summarize loss on this batch\n",
    "            np.save('qwgan_logs/c1_hist.npy', c1_hist)\n",
    "            np.save('qwgan_logs/c2_hist.npy', c2_hist)\n",
    "            np.save('qwgan_logs/g_hist.npy', g_hist)\n",
    "            print('>%d, c1=%.3f, c2=%.3f g=%.3f' % (i+1, c1_hist[-1], c2_hist[-1], g_loss))\n",
    "    # line plots of loss\n",
    "    plot_history(c1_hist, c2_hist, g_hist)\n",
    "    return c1_hist, c2_hist, g_hist"
   ]
  },
  {
   "cell_type": "code",
   "execution_count": 37,
   "metadata": {},
   "outputs": [],
   "source": [
    "# size of the latent space\n",
    "latent_dim = 4 * 3\n",
    "# create the critic\n",
    "critic = define_critic()"
   ]
  },
  {
   "cell_type": "code",
   "execution_count": 38,
   "metadata": {},
   "outputs": [],
   "source": [
    "# create the generator\n",
    "generator = define_generator()\n",
    "# create the gan\n",
    "qgan_model = define_qgan(generator, critic)"
   ]
  },
  {
   "cell_type": "code",
   "execution_count": null,
   "metadata": {
    "collapsed": true,
    "jupyter": {
     "outputs_hidden": true
    }
   },
   "outputs": [
    {
     "name": "stdout",
     "output_type": "stream",
     "text": [
      ">1, c1=-0.000, c2=0.001 g=-0.063\n",
      ">2, c1=-0.001, c2=0.002 g=-0.101\n",
      ">3, c1=-0.002, c2=0.003 g=-0.066\n",
      ">4, c1=-0.003, c2=0.003 g=-0.125\n",
      ">5, c1=-0.004, c2=0.004 g=-0.151\n",
      ">6, c1=-0.004, c2=0.005 g=-0.061\n",
      ">7, c1=-0.005, c2=0.005 g=-0.136\n",
      ">8, c1=-0.005, c2=0.006 g=-0.031\n",
      ">9, c1=-0.006, c2=0.006 g=-0.076\n",
      ">10, c1=-0.006, c2=0.007 g=-0.141\n",
      ">11, c1=-0.007, c2=0.007 g=-0.073\n",
      ">12, c1=-0.007, c2=0.007 g=-0.131\n",
      ">13, c1=-0.007, c2=0.008 g=-0.082\n",
      ">14, c1=-0.008, c2=0.008 g=-0.059\n",
      ">15, c1=-0.008, c2=0.009 g=-0.156\n",
      ">16, c1=-0.009, c2=0.009 g=-0.253\n",
      ">17, c1=-0.009, c2=0.009 g=-0.157\n",
      ">18, c1=-0.009, c2=0.010 g=-0.043\n",
      ">19, c1=-0.010, c2=0.010 g=-0.064\n",
      ">20, c1=-0.010, c2=0.011 g=-0.093\n",
      ">21, c1=-0.011, c2=0.011 g=-0.107\n",
      ">22, c1=-0.011, c2=0.011 g=-0.157\n",
      ">23, c1=-0.011, c2=0.012 g=-0.109\n",
      ">24, c1=-0.012, c2=0.012 g=-0.188\n",
      ">25, c1=-0.012, c2=0.013 g=-0.145\n",
      ">26, c1=-0.012, c2=0.013 g=-0.056\n",
      ">27, c1=-0.013, c2=0.013 g=-0.077\n",
      ">28, c1=-0.013, c2=0.014 g=-0.241\n",
      ">29, c1=-0.014, c2=0.014 g=-0.147\n",
      ">30, c1=-0.014, c2=0.014 g=-0.226\n",
      ">31, c1=-0.014, c2=0.015 g=-0.150\n",
      ">32, c1=-0.015, c2=0.015 g=-0.113\n",
      ">33, c1=-0.015, c2=0.015 g=-0.064\n",
      ">34, c1=-0.015, c2=0.016 g=-0.098\n",
      ">35, c1=-0.016, c2=0.016 g=-0.215\n",
      ">36, c1=-0.016, c2=0.017 g=-0.146\n",
      ">37, c1=-0.017, c2=0.017 g=-0.143\n",
      ">38, c1=-0.017, c2=0.017 g=-0.198\n",
      ">39, c1=-0.017, c2=0.018 g=-0.113\n",
      ">40, c1=-0.018, c2=0.018 g=-0.065\n",
      ">41, c1=-0.018, c2=0.018 g=-0.166\n",
      ">42, c1=-0.018, c2=0.019 g=-0.101\n",
      ">43, c1=-0.019, c2=0.019 g=-0.273\n",
      ">44, c1=-0.019, c2=0.019 g=-0.066\n",
      ">45, c1=-0.019, c2=0.020 g=-0.146\n",
      ">46, c1=-0.020, c2=0.020 g=-0.145\n",
      ">47, c1=-0.020, c2=0.021 g=-0.082\n",
      ">48, c1=-0.020, c2=0.021 g=-0.294\n",
      ">49, c1=-0.021, c2=0.021 g=-0.166\n",
      ">50, c1=-0.021, c2=0.022 g=-0.152\n",
      ">51, c1=-0.022, c2=0.022 g=-0.066\n",
      ">52, c1=-0.022, c2=0.022 g=-0.190\n",
      ">53, c1=-0.022, c2=0.023 g=-0.160\n",
      ">54, c1=-0.023, c2=0.023 g=-0.061\n",
      ">55, c1=-0.023, c2=0.023 g=-0.115\n",
      ">56, c1=-0.023, c2=0.024 g=-0.058\n",
      ">57, c1=-0.024, c2=0.024 g=-0.114\n",
      ">58, c1=-0.024, c2=0.024 g=-0.111\n",
      ">59, c1=-0.024, c2=0.025 g=-0.140\n",
      ">60, c1=-0.025, c2=0.025 g=-0.239\n",
      ">61, c1=-0.025, c2=0.026 g=-0.085\n",
      ">62, c1=-0.025, c2=0.026 g=-0.177\n",
      ">63, c1=-0.026, c2=0.026 g=-0.183\n",
      ">64, c1=-0.026, c2=0.027 g=-0.263\n",
      ">65, c1=-0.027, c2=0.027 g=-0.237\n",
      ">66, c1=-0.027, c2=0.027 g=-0.116\n",
      ">67, c1=-0.027, c2=0.028 g=-0.121\n",
      ">68, c1=-0.028, c2=0.028 g=-0.246\n",
      ">69, c1=-0.028, c2=0.028 g=-0.272\n",
      ">70, c1=-0.028, c2=0.029 g=-0.207\n",
      ">71, c1=-0.029, c2=0.029 g=-0.275\n",
      ">72, c1=-0.029, c2=0.029 g=-0.108\n",
      ">73, c1=-0.029, c2=0.030 g=-0.156\n",
      ">74, c1=-0.030, c2=0.030 g=-0.108\n",
      ">75, c1=-0.030, c2=0.030 g=-0.167\n",
      ">76, c1=-0.030, c2=0.031 g=-0.232\n",
      ">77, c1=-0.031, c2=0.031 g=-0.134\n",
      ">78, c1=-0.031, c2=0.032 g=-0.178\n",
      ">79, c1=-0.031, c2=0.032 g=-0.160\n",
      ">80, c1=-0.032, c2=0.032 g=-0.127\n",
      ">81, c1=-0.032, c2=0.033 g=-0.127\n",
      ">82, c1=-0.033, c2=0.033 g=-0.246\n",
      ">83, c1=-0.033, c2=0.033 g=-0.314\n",
      ">84, c1=-0.033, c2=0.034 g=-0.123\n",
      ">85, c1=-0.034, c2=0.034 g=-0.086\n",
      ">86, c1=-0.034, c2=0.034 g=-0.170\n",
      ">87, c1=-0.034, c2=0.035 g=-0.095\n",
      ">88, c1=-0.035, c2=0.035 g=-0.164\n",
      ">89, c1=-0.035, c2=0.035 g=-0.054\n",
      ">90, c1=-0.035, c2=0.036 g=-0.060\n",
      ">91, c1=-0.036, c2=0.036 g=-0.208\n",
      ">92, c1=-0.036, c2=0.037 g=-0.157\n",
      ">93, c1=-0.036, c2=0.037 g=-0.241\n",
      ">94, c1=-0.037, c2=0.037 g=-0.261\n",
      ">95, c1=-0.037, c2=0.038 g=-0.045\n",
      ">96, c1=-0.038, c2=0.038 g=-0.262\n",
      ">97, c1=-0.038, c2=0.038 g=-0.176\n",
      ">98, c1=-0.038, c2=0.039 g=-0.199\n",
      ">99, c1=-0.039, c2=0.039 g=-0.069\n",
      ">100, c1=-0.039, c2=0.039 g=-0.194\n",
      ">101, c1=-0.039, c2=0.040 g=-0.166\n",
      ">102, c1=-0.040, c2=0.040 g=-0.116\n",
      ">103, c1=-0.040, c2=0.040 g=-0.132\n",
      ">104, c1=-0.040, c2=0.041 g=-0.195\n",
      ">105, c1=-0.041, c2=0.041 g=-0.054\n",
      ">106, c1=-0.041, c2=0.042 g=-0.094\n",
      ">107, c1=-0.041, c2=0.042 g=-0.252\n",
      ">108, c1=-0.042, c2=0.042 g=-0.154\n",
      ">109, c1=-0.042, c2=0.043 g=-0.218\n",
      ">110, c1=-0.043, c2=0.043 g=-0.136\n",
      ">111, c1=-0.043, c2=0.043 g=-0.244\n",
      ">112, c1=-0.043, c2=0.044 g=-0.165\n",
      ">113, c1=-0.044, c2=0.044 g=-0.204\n",
      ">114, c1=-0.044, c2=0.044 g=-0.170\n",
      ">115, c1=-0.044, c2=0.045 g=-0.054\n",
      ">116, c1=-0.045, c2=0.045 g=-0.205\n",
      ">117, c1=-0.045, c2=0.045 g=-0.148\n",
      ">118, c1=-0.045, c2=0.046 g=-0.249\n",
      ">119, c1=-0.046, c2=0.046 g=-0.166\n",
      ">120, c1=-0.046, c2=0.047 g=-0.247\n",
      ">121, c1=-0.046, c2=0.047 g=-0.089\n",
      ">122, c1=-0.047, c2=0.047 g=-0.091\n",
      ">123, c1=-0.047, c2=0.048 g=-0.061\n",
      ">124, c1=-0.048, c2=0.048 g=-0.096\n",
      ">125, c1=-0.048, c2=0.048 g=-0.131\n",
      ">126, c1=-0.048, c2=0.049 g=-0.171\n",
      ">127, c1=-0.049, c2=0.049 g=-0.091\n",
      ">128, c1=-0.049, c2=0.049 g=-0.140\n",
      ">129, c1=-0.049, c2=0.050 g=-0.124\n",
      ">130, c1=-0.050, c2=0.050 g=-0.144\n",
      ">131, c1=-0.050, c2=0.050 g=-0.158\n",
      ">132, c1=-0.050, c2=0.051 g=-0.178\n",
      ">133, c1=-0.051, c2=0.051 g=-0.151\n",
      ">134, c1=-0.051, c2=0.051 g=-0.225\n",
      ">135, c1=-0.051, c2=0.052 g=-0.078\n",
      ">136, c1=-0.052, c2=0.052 g=-0.142\n",
      ">137, c1=-0.052, c2=0.053 g=-0.178\n",
      ">138, c1=-0.052, c2=0.053 g=-0.136\n",
      ">139, c1=-0.053, c2=0.053 g=-0.245\n",
      ">140, c1=-0.053, c2=0.054 g=-0.142\n",
      ">141, c1=-0.053, c2=0.054 g=-0.077\n",
      ">142, c1=-0.054, c2=0.054 g=-0.240\n",
      ">143, c1=-0.054, c2=0.055 g=-0.192\n",
      ">144, c1=-0.055, c2=0.055 g=-0.100\n",
      ">145, c1=-0.055, c2=0.055 g=-0.305\n",
      ">146, c1=-0.055, c2=0.056 g=-0.245\n",
      ">147, c1=-0.056, c2=0.056 g=-0.116\n",
      ">148, c1=-0.056, c2=0.056 g=-0.232\n",
      ">149, c1=-0.056, c2=0.057 g=-0.151\n",
      ">150, c1=-0.057, c2=0.057 g=-0.168\n",
      ">151, c1=-0.057, c2=0.057 g=-0.242\n",
      ">152, c1=-0.057, c2=0.058 g=-0.206\n",
      ">153, c1=-0.058, c2=0.058 g=-0.223\n",
      ">154, c1=-0.058, c2=0.059 g=-0.306\n",
      ">155, c1=-0.058, c2=0.059 g=-0.129\n",
      ">156, c1=-0.059, c2=0.059 g=-0.120\n",
      ">157, c1=-0.059, c2=0.060 g=-0.263\n",
      ">158, c1=-0.060, c2=0.060 g=-0.294\n",
      ">159, c1=-0.060, c2=0.060 g=-0.244\n",
      ">160, c1=-0.060, c2=0.061 g=-0.201\n",
      ">161, c1=-0.061, c2=0.061 g=-0.229\n",
      ">162, c1=-0.061, c2=0.061 g=-0.143\n",
      ">163, c1=-0.061, c2=0.062 g=-0.225\n",
      ">164, c1=-0.062, c2=0.062 g=-0.227\n",
      ">165, c1=-0.062, c2=0.062 g=-0.247\n",
      ">166, c1=-0.062, c2=0.063 g=-0.179\n",
      ">167, c1=-0.063, c2=0.063 g=-0.379\n",
      ">168, c1=-0.063, c2=0.063 g=-0.223\n",
      ">169, c1=-0.063, c2=0.064 g=-0.213\n",
      ">170, c1=-0.064, c2=0.064 g=-0.241\n",
      ">171, c1=-0.064, c2=0.065 g=-0.345\n",
      ">172, c1=-0.064, c2=0.065 g=-0.148\n",
      ">173, c1=-0.065, c2=0.065 g=-0.186\n",
      ">174, c1=-0.065, c2=0.066 g=-0.235\n",
      ">175, c1=-0.066, c2=0.066 g=-0.210\n",
      ">176, c1=-0.066, c2=0.066 g=-0.110\n",
      ">177, c1=-0.066, c2=0.067 g=-0.252\n",
      ">178, c1=-0.067, c2=0.067 g=-0.435\n",
      ">179, c1=-0.067, c2=0.067 g=-0.185\n",
      ">180, c1=-0.067, c2=0.068 g=-0.239\n",
      ">181, c1=-0.068, c2=0.068 g=-0.129\n",
      ">182, c1=-0.068, c2=0.068 g=-0.076\n",
      ">183, c1=-0.068, c2=0.069 g=-0.225\n",
      ">184, c1=-0.069, c2=0.069 g=-0.283\n",
      ">185, c1=-0.069, c2=0.070 g=-0.135\n",
      ">186, c1=-0.069, c2=0.070 g=-0.132\n",
      ">187, c1=-0.070, c2=0.070 g=-0.197\n",
      ">188, c1=-0.070, c2=0.071 g=-0.164\n",
      ">189, c1=-0.070, c2=0.071 g=-0.303\n",
      ">190, c1=-0.071, c2=0.071 g=-0.236\n",
      ">191, c1=-0.071, c2=0.072 g=-0.183\n",
      ">192, c1=-0.072, c2=0.072 g=-0.198\n",
      ">193, c1=-0.072, c2=0.072 g=-0.238\n",
      ">194, c1=-0.072, c2=0.073 g=-0.344\n",
      ">195, c1=-0.073, c2=0.073 g=-0.138\n",
      ">196, c1=-0.073, c2=0.073 g=-0.093\n",
      ">197, c1=-0.073, c2=0.074 g=-0.220\n",
      ">198, c1=-0.074, c2=0.074 g=-0.253\n",
      ">199, c1=-0.074, c2=0.074 g=-0.155\n",
      ">200, c1=-0.074, c2=0.075 g=-0.157\n",
      ">201, c1=-0.075, c2=0.075 g=-0.271\n",
      ">202, c1=-0.075, c2=0.075 g=-0.157\n",
      ">203, c1=-0.075, c2=0.076 g=-0.236\n",
      ">204, c1=-0.076, c2=0.076 g=-0.246\n",
      ">205, c1=-0.076, c2=0.077 g=-0.191\n",
      ">206, c1=-0.076, c2=0.077 g=-0.245\n",
      ">207, c1=-0.077, c2=0.077 g=-0.171\n",
      ">208, c1=-0.077, c2=0.078 g=-0.158\n",
      ">209, c1=-0.078, c2=0.078 g=-0.124\n",
      ">210, c1=-0.078, c2=0.078 g=-0.282\n",
      ">211, c1=-0.078, c2=0.079 g=-0.160\n",
      ">212, c1=-0.079, c2=0.079 g=-0.247\n",
      ">213, c1=-0.079, c2=0.079 g=-0.309\n",
      ">214, c1=-0.079, c2=0.080 g=-0.143\n",
      ">215, c1=-0.080, c2=0.080 g=-0.272\n",
      ">216, c1=-0.080, c2=0.080 g=-0.162\n",
      ">217, c1=-0.080, c2=0.081 g=-0.179\n",
      ">218, c1=-0.081, c2=0.081 g=-0.233\n",
      ">219, c1=-0.081, c2=0.081 g=-0.166\n",
      ">220, c1=-0.081, c2=0.082 g=-0.192\n",
      ">221, c1=-0.082, c2=0.082 g=-0.218\n",
      ">222, c1=-0.082, c2=0.083 g=-0.214\n",
      ">223, c1=-0.082, c2=0.083 g=-0.152\n",
      ">224, c1=-0.083, c2=0.083 g=-0.200\n",
      ">225, c1=-0.083, c2=0.084 g=-0.128\n",
      ">226, c1=-0.084, c2=0.084 g=-0.197\n",
      ">227, c1=-0.084, c2=0.084 g=-0.275\n",
      ">228, c1=-0.084, c2=0.085 g=-0.244\n",
      ">229, c1=-0.085, c2=0.085 g=-0.367\n",
      ">230, c1=-0.085, c2=0.085 g=-0.097\n",
      ">231, c1=-0.085, c2=0.086 g=-0.247\n",
      ">232, c1=-0.086, c2=0.086 g=-0.124\n",
      ">233, c1=-0.086, c2=0.086 g=-0.417\n",
      ">234, c1=-0.086, c2=0.087 g=-0.306\n",
      ">235, c1=-0.087, c2=0.087 g=-0.242\n",
      ">236, c1=-0.087, c2=0.088 g=-0.169\n",
      ">237, c1=-0.087, c2=0.088 g=-0.279\n",
      ">238, c1=-0.088, c2=0.088 g=-0.230\n",
      ">239, c1=-0.088, c2=0.089 g=-0.259\n",
      ">240, c1=-0.088, c2=0.089 g=-0.161\n",
      ">241, c1=-0.089, c2=0.089 g=-0.334\n",
      ">242, c1=-0.089, c2=0.090 g=-0.261\n",
      ">243, c1=-0.090, c2=0.090 g=-0.281\n",
      ">244, c1=-0.090, c2=0.090 g=-0.287\n",
      ">245, c1=-0.090, c2=0.091 g=-0.106\n",
      ">246, c1=-0.091, c2=0.091 g=-0.294\n",
      ">247, c1=-0.091, c2=0.091 g=-0.292\n",
      ">248, c1=-0.091, c2=0.092 g=-0.246\n",
      ">249, c1=-0.092, c2=0.092 g=-0.339\n",
      ">250, c1=-0.092, c2=0.092 g=-0.104\n",
      ">251, c1=-0.092, c2=0.093 g=-0.146\n",
      ">252, c1=-0.093, c2=0.093 g=-0.276\n",
      ">253, c1=-0.093, c2=0.094 g=-0.303\n",
      ">254, c1=-0.093, c2=0.094 g=-0.138\n",
      ">255, c1=-0.094, c2=0.094 g=-0.149\n",
      ">256, c1=-0.094, c2=0.095 g=-0.263\n",
      ">257, c1=-0.095, c2=0.095 g=-0.197\n",
      ">258, c1=-0.095, c2=0.095 g=-0.201\n",
      ">259, c1=-0.095, c2=0.096 g=-0.167\n",
      ">260, c1=-0.096, c2=0.096 g=-0.213\n",
      ">261, c1=-0.096, c2=0.096 g=-0.256\n",
      ">262, c1=-0.096, c2=0.097 g=-0.268\n",
      ">263, c1=-0.097, c2=0.097 g=-0.129\n",
      ">264, c1=-0.097, c2=0.097 g=-0.331\n",
      ">265, c1=-0.097, c2=0.098 g=-0.253\n",
      ">266, c1=-0.098, c2=0.098 g=-0.102\n",
      ">267, c1=-0.098, c2=0.098 g=-0.286\n",
      ">268, c1=-0.098, c2=0.099 g=-0.139\n",
      ">269, c1=-0.099, c2=0.099 g=-0.122\n",
      ">270, c1=-0.099, c2=0.100 g=-0.112\n",
      ">271, c1=-0.100, c2=0.100 g=-0.135\n",
      ">272, c1=-0.100, c2=0.100 g=-0.174\n",
      ">273, c1=-0.100, c2=0.101 g=-0.258\n",
      ">274, c1=-0.101, c2=0.101 g=-0.297\n",
      ">275, c1=-0.101, c2=0.101 g=-0.277\n",
      ">276, c1=-0.101, c2=0.102 g=-0.170\n",
      ">277, c1=-0.102, c2=0.102 g=-0.205\n",
      ">278, c1=-0.102, c2=0.102 g=-0.347\n",
      ">279, c1=-0.102, c2=0.103 g=-0.448\n",
      ">280, c1=-0.103, c2=0.103 g=-0.169\n",
      ">281, c1=-0.103, c2=0.103 g=-0.293\n",
      ">282, c1=-0.103, c2=0.104 g=-0.274\n",
      ">283, c1=-0.104, c2=0.104 g=-0.205\n",
      ">284, c1=-0.104, c2=0.104 g=-0.399\n",
      ">285, c1=-0.104, c2=0.105 g=-0.214\n",
      ">286, c1=-0.105, c2=0.105 g=-0.291\n",
      ">287, c1=-0.105, c2=0.105 g=-0.150\n",
      ">288, c1=-0.105, c2=0.106 g=-0.120\n",
      ">289, c1=-0.106, c2=0.106 g=-0.163\n",
      ">290, c1=-0.106, c2=0.107 g=-0.259\n",
      ">291, c1=-0.106, c2=0.107 g=-0.275\n",
      ">292, c1=-0.107, c2=0.107 g=-0.183\n",
      ">293, c1=-0.107, c2=0.108 g=-0.267\n",
      ">294, c1=-0.107, c2=0.108 g=-0.140\n",
      ">295, c1=-0.108, c2=0.108 g=-0.132\n",
      ">296, c1=-0.108, c2=0.109 g=-0.328\n",
      ">297, c1=-0.109, c2=0.109 g=-0.282\n",
      ">298, c1=-0.109, c2=0.109 g=-0.125\n",
      ">299, c1=-0.109, c2=0.110 g=-0.205\n",
      ">300, c1=-0.110, c2=0.110 g=-0.209\n",
      ">301, c1=-0.110, c2=0.110 g=-0.186\n",
      ">302, c1=-0.110, c2=0.111 g=-0.233\n",
      ">303, c1=-0.111, c2=0.111 g=-0.268\n",
      ">304, c1=-0.111, c2=0.111 g=-0.273\n",
      ">305, c1=-0.111, c2=0.112 g=-0.184\n",
      ">306, c1=-0.112, c2=0.112 g=-0.354\n",
      ">307, c1=-0.112, c2=0.112 g=-0.198\n",
      ">308, c1=-0.112, c2=0.113 g=-0.180\n",
      ">309, c1=-0.113, c2=0.113 g=-0.206\n",
      ">310, c1=-0.113, c2=0.114 g=-0.134\n",
      ">311, c1=-0.114, c2=0.114 g=-0.368\n",
      ">312, c1=-0.114, c2=0.114 g=-0.280\n",
      ">313, c1=-0.114, c2=0.115 g=-0.297\n",
      ">314, c1=-0.115, c2=0.115 g=-0.153\n",
      ">315, c1=-0.115, c2=0.115 g=-0.388\n",
      ">316, c1=-0.115, c2=0.116 g=-0.211\n",
      ">317, c1=-0.116, c2=0.116 g=-0.123\n",
      ">318, c1=-0.116, c2=0.116 g=-0.235\n",
      ">319, c1=-0.116, c2=0.117 g=-0.296\n",
      ">320, c1=-0.117, c2=0.117 g=-0.250\n",
      ">321, c1=-0.117, c2=0.117 g=-0.272\n",
      ">322, c1=-0.117, c2=0.118 g=-0.246\n",
      ">323, c1=-0.118, c2=0.118 g=-0.136\n",
      ">324, c1=-0.118, c2=0.119 g=-0.155\n",
      ">325, c1=-0.118, c2=0.119 g=-0.247\n",
      ">326, c1=-0.119, c2=0.119 g=-0.243\n",
      ">327, c1=-0.119, c2=0.120 g=-0.150\n",
      ">328, c1=-0.119, c2=0.120 g=-0.277\n",
      ">329, c1=-0.120, c2=0.120 g=-0.358\n",
      ">330, c1=-0.120, c2=0.121 g=-0.228\n",
      ">331, c1=-0.121, c2=0.121 g=-0.158\n",
      ">332, c1=-0.121, c2=0.121 g=-0.222\n",
      ">333, c1=-0.121, c2=0.122 g=-0.192\n",
      ">334, c1=-0.122, c2=0.122 g=-0.349\n",
      ">335, c1=-0.122, c2=0.122 g=-0.346\n"
     ]
    }
   ],
   "source": [
    "n_batch = 2\n",
    "n_epochs = 1000\n",
    "\n",
    "# train model\n",
    "c1_loss, c2_loss, g_loss = train(generator, critic, qgan_model, [train_dis_dataset[0][:n_batch], train_dis_dataset[1][:n_batch]], latent_dim, n_batch=n_batch, n_epochs=n_epochs)"
   ]
  },
  {
   "cell_type": "markdown",
   "metadata": {
    "id": "EpF5loDU4RKr"
   },
   "source": [
    "### Visualizing the training process"
   ]
  },
  {
   "cell_type": "code",
   "execution_count": 47,
   "metadata": {},
   "outputs": [
    {
     "data": {
      "image/png": "[encoded data removed]",
      "text/plain": [
       "<Figure size 432x288 with 1 Axes>"
      ]
     },
     "metadata": {
      "needs_background": "light"
     },
     "output_type": "display_data"
    }
   ],
   "source": [
    "plt.plot(c1_loss, label='crit_real')\n",
    "plt.plot(c2_loss, label='crit_fake')\n",
    "plt.legend()\n",
    "plt.show()"
   ]
  },
  {
   "cell_type": "code",
   "execution_count": 42,
   "metadata": {},
   "outputs": [
    {
     "data": {
      "image/png": "[encoded data removed]",
      "text/plain": [
       "<Figure size 432x288 with 1 Axes>"
      ]
     },
     "metadata": {
      "needs_background": "light"
     },
     "output_type": "display_data"
    }
   ],
   "source": [
    "plt.plot(g_loss, label='gen', color='green')\n",
    "plt.legend()\n",
    "plt.show()"
   ]
  },
  {
   "cell_type": "code",
   "execution_count": 53,
   "metadata": {},
   "outputs": [
    {
     "data": {
      "image/png": "[encoded data removed]",
      "text/plain": [
       "<Figure size 432x288 with 1 Axes>"
      ]
     },
     "metadata": {
      "needs_background": "light"
     },
     "output_type": "display_data"
    },
    {
     "name": "stdout",
     "output_type": "stream",
     "text": [
      "Accuracy: 0.9317530660908312\n"
     ]
    },
    {
     "data": {
      "image/png": "[encoded data removed]",
      "text/plain": [
       "<Figure size 432x288 with 1 Axes>"
      ]
     },
     "metadata": {
      "needs_background": "light"
     },
     "output_type": "display_data"
    },
    {
     "name": "stdout",
     "output_type": "stream",
     "text": [
      "Accuracy: 0.9610850602197446\n"
     ]
    }
   ],
   "source": [
    "for i in range(n_batch):\n",
    "    days =  np.arange(1, len(dis_dataset[0][0][0]) + len(dis_dataset[0][0][1]) + 1)\n",
    "    real_stats = np.append(train_dis_dataset[0][i], train_dis_dataset[1][i])\n",
    "    fake_stats = tf.reshape(tf.concat([np.reshape(train_dis_dataset[0][i], (1,15)), generator.predict([np.reshape(train_dis_dataset[0][i], (1,15)), np.random.normal(size=(1,12))])], 1), (19,)).numpy()\n",
    "\n",
    "    plt.plot(days, fake_stats, label=\"trained generated data\")\n",
    "    plt.plot(days, real_stats, label=\"real data\")\n",
    "    plt.title(\"DIS real stock price\")\n",
    "    plt.xlabel(\"Days\")\n",
    "    plt.ylabel(\"Normalized Pctg inc/dec\")\n",
    "    plt.legend()\n",
    "    plt.show()\n",
    "    \n",
    "    print(f\"Accuracy: {accuracy(real_stats, fake_stats)}\")"
   ]
  },
  {
   "cell_type": "markdown",
   "metadata": {},
   "source": [
    "<hr>"
   ]
  },
  {
   "cell_type": "markdown",
   "metadata": {},
   "source": [
    "## Conclusion"
   ]
  },
  {
   "cell_type": "markdown",
   "metadata": {},
   "source": [
    "Due to limited computational resources, we only trained the CQWGAN for 1000 epochs on two data samples to evaluate the quantum generator's learnability and thus couldn't see the model through to completion. However, we observe that the quantum generator shows evidence of learning to map the latent variable space to the real distribution by the generated predictions. The diverging scores of the critic for fake and real data samples demonstrates the WGAN model at play in a quantum setting without much of a difference from the classical implementation. We conclude that the vanishing gradients we encountered with our conventional QGAN are not present in training the WGAN! "
   ]
  },
  {
   "cell_type": "markdown",
   "metadata": {},
   "source": [
    "## References"
   ]
  },
  {
   "cell_type": "markdown",
   "metadata": {},
   "source": [
    "- Martin Arjovsky, Soumith Chintala, and Léon Bottou. Wasserstein gan. [arXiv:1701.07875, 2017](https://arxiv.org/abs/1701.07875).\n",
    "- Mehdi Mirza, and Simon Osindero. Conditional Generative Adversarial Nets. [arXiv:1411.1784](https://arxiv.org/abs/1411.1784).\n",
    "- Bobak Toussi Kiani, et al. Quantum Earth Mover's Distance: A New Approach to Learning Quantum Data. [arXiv:2101.03037](https://arxiv.org/abs/2101.03037)\n",
    "- Lilian Weng. From GAN to WGAN [arXiv:1904.08994, 2019](https://arxiv.org/pdf/1904.08994.pdf).\n",
    "- Brownlee. J, 2019. [How to Implement Wasserstein Loss for Generative Adversarial Networks](https://machinelearningmastery.com/how-to-implement-wasserstein-loss-for-generative-adversarial-networks/)\n",
    "- Brownlee. J, 2019. [How to Develop a Wasserstein Generative Adversarial Network (WGAN) From Scratch](https://machinelearningmastery.com/how-to-code-a-wasserstein-generative-adversarial-network-wgan-from-scratch/)"
   ]
  }
 ],
 "metadata": {
  "colab": {
   "collapsed_sections": [],
   "name": "QGAN.ipynb",
   "provenance": []
  },
  "instance_type": "ml.m5.4xlarge",
  "kernelspec": {
   "display_name": "Python 3 (TensorFlow 2.3 Python 3.7 CPU Optimized)",
   "language": "python",
   "name": "python3__SAGEMAKER_INTERNAL__arn:aws:sagemaker:us-east-2:429704687514:image/tensorflow-2.3-cpu-py37-ubuntu18.04-v1"
  },
  "language_info": {
   "codemirror_mode": {
    "name": "ipython",
    "version": 3
   },
   "file_extension": ".py",
   "mimetype": "text/x-python",
   "name": "python",
   "nbconvert_exporter": "python",
   "pygments_lexer": "ipython3",
   "version": "3.7.10"
  }
 },
 "nbformat": 4,
 "nbformat_minor": 4
}
