{
 "cells": [
  {
   "cell_type": "markdown",
   "metadata": {},
   "source": [
    "# A conditional quantum wasserstein generative adversarial network for learning DIS stock prices"
   ]
  },
  {
   "cell_type": "markdown",
   "metadata": {
    "id": "5DSuCzfc32we"
   },
   "source": [
    "## Imports"
   ]
  },
  {
   "cell_type": "code",
   "execution_count": 1,
   "metadata": {
    "id": "yUIh5KnTSvt_"
   },
   "outputs": [],
   "source": [
    "import numpy as np\n",
    "import matplotlib.pyplot as plt\n",
    "import pennylane as qml\n",
    "import tensorflow as tf\n",
    "from tensorflow import keras\n",
    "from tensorflow.keras import backend\n",
    "from tensorflow.keras import layers\n",
    "from tensorflow.keras.optimizers import RMSprop\n",
    "from tensorflow.keras.models import Sequential\n",
    "from tensorflow.keras.layers import Dense\n",
    "from tensorflow.keras.layers import Reshape\n",
    "from tensorflow.keras.layers import Flatten\n",
    "from tensorflow.keras.layers import Conv2D\n",
    "from tensorflow.keras.layers import Conv2DTranspose\n",
    "from tensorflow.keras.layers import LeakyReLU\n",
    "from tensorflow.keras.layers import BatchNormalization\n",
    "from tensorflow.keras.initializers import RandomNormal\n",
    "from tensorflow.keras.constraints import Constraint\n",
    "from tensorflow.keras.utils import plot_model"
   ]
  },
  {
   "cell_type": "code",
   "execution_count": 2,
   "metadata": {
    "id": "2PWDzTGPSvuD"
   },
   "outputs": [],
   "source": [
    "dataset = np.load('data/dataset.npy', allow_pickle=True)\n",
    "dis_dataset = dataset[1]"
   ]
  },
  {
   "cell_type": "code",
   "execution_count": 3,
   "metadata": {
    "id": "IEWib84pSvuC"
   },
   "outputs": [],
   "source": [
    "num_latent_qubits = 4\n",
    "latent_dim = 3 * num_latent_qubits\n",
    "n_layers = 3\n",
    "wires = range(len(dis_dataset[0][0][0]) + num_latent_qubits)\n",
    "weight_shapes = {\"weights\": (n_layers,len(wires),3)}\n",
    "dev = qml.device('default.qubit', wires=wires)"
   ]
  },
  {
   "cell_type": "code",
   "execution_count": 4,
   "metadata": {},
   "outputs": [],
   "source": [
    "# clip model weights to a given hypercube\n",
    "class ClipConstraint(tf.keras.constraints.Constraint):\n",
    "    # set clip value when initialized\n",
    "    def __init__(self, clip_value):\n",
    "        self.clip_value = clip_value\n",
    "\n",
    "    # clip model weights to hypercube\n",
    "    def __call__(self, weights):\n",
    "        return backend.clip(weights, -self.clip_value, self.clip_value)\n",
    "\n",
    "    # get the config\n",
    "    def get_config(self):\n",
    "        return {'clip_value': self.clip_value}"
   ]
  },
  {
   "cell_type": "code",
   "execution_count": 5,
   "metadata": {},
   "outputs": [],
   "source": [
    "# calculate wasserstein loss\n",
    "def wasserstein_loss(y_true, y_pred):\n",
    "\treturn backend.mean(y_true * y_pred)"
   ]
  },
  {
   "cell_type": "code",
   "execution_count": 6,
   "metadata": {},
   "outputs": [],
   "source": [
    "x_train, y_train = list(), list()\n",
    "x_val, y_val = list(), list()\n",
    "x_test, y_test = list(), list()\n",
    "\n",
    "for i in range(len(dis_dataset[0])):\n",
    "    x_train.append(dis_dataset[0][i][0])\n",
    "    y_train.append(dis_dataset[0][i][1])\n",
    "\n",
    "for i in range(len(dis_dataset[1])):\n",
    "    if i <= len(dis_dataset[1][:int(0.5 * (len(dis_dataset[1])-1))]):\n",
    "        x_val.append(dis_dataset[1][i][0])\n",
    "        y_val.append(dis_dataset[1][i][1])\n",
    "    \n",
    "    if i > len(dis_dataset[1][:int(0.5 * (len(dis_dataset[1])-1))]):\n",
    "        x_test.append(dis_dataset[1][i][0])\n",
    "        y_test.append(dis_dataset[1][i][1])\n",
    "\n",
    "train_labels, train_y = np.asarray(x_train), np.asarray(y_train)\n",
    "val_labels, val_y = np.asarray(x_val), np.asarray(y_val)\n",
    "test_labels, test_y = np.asarray(x_test), np.asarray(y_test)\n",
    "\n",
    "train_dis_dataset = [train_labels, train_y]\n",
    "val_dis_dataset = [val_labels, val_y]\n",
    "test_dis_dataset = [test_labels, test_y]"
   ]
  },
  {
   "cell_type": "markdown",
   "metadata": {
    "id": "5fumLe24SvuE"
   },
   "source": [
    "## Structure of QWGAN"
   ]
  },
  {
   "cell_type": "markdown",
   "metadata": {
    "id": "J5vdqNn8SvuJ"
   },
   "source": [
    "### Discriminator"
   ]
  },
  {
   "cell_type": "code",
   "execution_count": 7,
   "metadata": {
    "id": "R8XPDksNSvuJ"
   },
   "outputs": [],
   "source": [
    "def define_critic():\n",
    "    # weight initialization\n",
    "    init = tf.keras.initializers.RandomNormal(stddev=0.02)\n",
    "    #` weight constraint\n",
    "    const = ClipConstraint(0.01)\n",
    "    \n",
    "    gen_output = layers.Input(shape=(4,))\n",
    "    gen_label = layers.Input(shape=(15,))\n",
    "    merge = layers.Concatenate()([gen_output, gen_label])\n",
    "    merge = tf.reshape(merge, (-1, 1, 1,19))\n",
    "    \n",
    "    x = layers.Conv1D(filters=64, kernel_size=1, kernel_initializer=init, kernel_constraint=const, input_shape=(None, 19))(merge)\n",
    "    x = layers.BatchNormalization()(x)\n",
    "    x = layers.LeakyReLU(alpha=0.2)(x)\n",
    "\n",
    "    x = layers.Conv1D(filters=64, kernel_size=1, kernel_initializer=init, kernel_constraint=const)(x)\n",
    "    x = layers.BatchNormalization()(x)\n",
    "    x = layers.LeakyReLU(alpha=0.2)(x)\n",
    "    \n",
    "    # linear activation\n",
    "    x = layers.Flatten()(x)\n",
    "    Output = layers.Dense(units=1)(x)\n",
    "    \n",
    "    # compile model\n",
    "    model = tf.keras.Model(inputs=[gen_output, gen_label], outputs=Output)\n",
    "    opt = tf.keras.optimizers.RMSprop(lr=0.00005)\n",
    "    model.compile(loss=wasserstein_loss, optimizer=opt)\n",
    "    return model"
   ]
  },
  {
   "cell_type": "code",
   "execution_count": 8,
   "metadata": {
    "colab": {
     "base_uri": "https://localhost:8080/",
     "height": 0
    },
    "id": "a8n-2ExLSvuJ",
    "outputId": "f8808ce5-bb01-4caa-f50c-fac7392b1f15",
    "scrolled": true
   },
   "outputs": [
    {
     "name": "stdout",
     "output_type": "stream",
     "text": [
      "[2021-06-21 00:55:21.896 tensorflow-2-3-cpu-p-ml-m5-4xlarge-b9b58b15c8602c22bc98125af7d7:10403 INFO utils.py:27] RULE_JOB_STOP_SIGNAL_FILENAME: None\n",
      "[2021-06-21 00:55:21.947 tensorflow-2-3-cpu-p-ml-m5-4xlarge-b9b58b15c8602c22bc98125af7d7:10403 INFO profiler_config_parser.py:102] Unable to find config at /opt/ml/input/config/profilerconfig.json. Profiler is disabled.\n",
      "Model: \"functional_1\"\n",
      "__________________________________________________________________________________________________\n",
      "Layer (type)                    Output Shape         Param #     Connected to                     \n",
      "==================================================================================================\n",
      "input_1 (InputLayer)            [(None, 4)]          0                                            \n",
      "__________________________________________________________________________________________________\n",
      "input_2 (InputLayer)            [(None, 15)]         0                                            \n",
      "__________________________________________________________________________________________________\n",
      "concatenate (Concatenate)       (None, 19)           0           input_1[0][0]                    \n",
      "                                                                 input_2[0][0]                    \n",
      "__________________________________________________________________________________________________\n",
      "tf_op_layer_Reshape (TensorFlow [(None, 1, 1, 19)]   0           concatenate[0][0]                \n",
      "__________________________________________________________________________________________________\n",
      "conv1d (Conv1D)                 (None, 1, 1, 64)     1280        tf_op_layer_Reshape[0][0]        \n",
      "__________________________________________________________________________________________________\n",
      "batch_normalization (BatchNorma (None, 1, 1, 64)     256         conv1d[0][0]                     \n",
      "__________________________________________________________________________________________________\n",
      "leaky_re_lu (LeakyReLU)         (None, 1, 1, 64)     0           batch_normalization[0][0]        \n",
      "__________________________________________________________________________________________________\n",
      "conv1d_1 (Conv1D)               (None, 1, 1, 64)     4160        leaky_re_lu[0][0]                \n",
      "__________________________________________________________________________________________________\n",
      "batch_normalization_1 (BatchNor (None, 1, 1, 64)     256         conv1d_1[0][0]                   \n",
      "__________________________________________________________________________________________________\n",
      "leaky_re_lu_1 (LeakyReLU)       (None, 1, 1, 64)     0           batch_normalization_1[0][0]      \n",
      "__________________________________________________________________________________________________\n",
      "flatten (Flatten)               (None, 64)           0           leaky_re_lu_1[0][0]              \n",
      "__________________________________________________________________________________________________\n",
      "dense (Dense)                   (None, 1)            65          flatten[0][0]                    \n",
      "==================================================================================================\n",
      "Total params: 6,017\n",
      "Trainable params: 5,761\n",
      "Non-trainable params: 256\n",
      "__________________________________________________________________________________________________\n"
     ]
    }
   ],
   "source": [
    "discriminator = define_critic()\n",
    "\n",
    "discriminator.summary()"
   ]
  },
  {
   "cell_type": "markdown",
   "metadata": {
    "id": "x9Pda43PSvuE"
   },
   "source": [
    "### Generator"
   ]
  },
  {
   "cell_type": "code",
   "execution_count": 9,
   "metadata": {},
   "outputs": [],
   "source": [
    "tf.keras.backend.set_floatx('float64')"
   ]
  },
  {
   "cell_type": "code",
   "execution_count": 10,
   "metadata": {
    "id": "09FKQFWoSvuF"
   },
   "outputs": [],
   "source": [
    "@qml.qnode(dev, interface=\"tf\")\n",
    "def gen_circuit(inputs, weights):\n",
    "    # Embedding past time series onto circuit (bath)\n",
    "    qml.templates.AngleEmbedding(inputs[:len(dis_dataset[0][0][0])], wires, rotation='X')\n",
    "    \n",
    "    # Gaussian noise through U3 unitaries\n",
    "    noise_params = tf.reshape(inputs[len(dis_dataset[0][0][0]):], (num_latent_qubits, 3))\n",
    "    qml.broadcast(unitary=qml.U3, wires=wires[-num_latent_qubits:], pattern=\"single\", parameters=noise_params)\n",
    "    \n",
    "    # Adjusting parameters of generator ansatz\n",
    "    qml.templates.StronglyEntanglingLayers(weights, wires=wires)\n",
    "    \n",
    "    # Returning normalized percentage price predictions for next 4 days in dataset \n",
    "    return [qml.expval(qml.PauliZ(i)) for i in range(len(dis_dataset[0][1][1]))]"
   ]
  },
  {
   "cell_type": "code",
   "execution_count": 11,
   "metadata": {},
   "outputs": [],
   "source": [
    "def define_generator():    \n",
    "    # Convert gen_circuit to Keras layer\n",
    "    b_labels = keras.layers.Input(shape=(15,))\n",
    "    noise = keras.layers.Input(shape=(num_latent_qubits*3,))\n",
    "    merged = layers.Concatenate()([b_labels, noise])\n",
    "    qlayer = qml.qnn.KerasLayer(gen_circuit, weight_shapes, output_dim=len(dis_dataset[0][1][1]), dtype=\"float64\", name='generator_circ')(merged)\n",
    "    model = tf.keras.models.Model(inputs=[b_labels, noise], outputs=[qlayer])\n",
    "    return model"
   ]
  },
  {
   "cell_type": "code",
   "execution_count": 12,
   "metadata": {},
   "outputs": [],
   "source": [
    "# Combined model for updating generator\n",
    "def define_qgan(generator, critic):\n",
    "    # set weights of critic to not trainable\n",
    "    for layer in critic.layers:\n",
    "        if not isinstance(layer, BatchNormalization):\n",
    "            layer.trainable = False\n",
    "    # get noise and label inputs from generator model\n",
    "    gen_label, gen_noise = generator.input\n",
    "    # get 4 day prediction from the generator model\n",
    "    g_output = generator.output\n",
    "    # connect generator output and generator label as inputs into discriminator\n",
    "    d = critic([g_output, gen_label])\n",
    "    # define full gan as taking in generator labels and noise to output a discriminator loss\n",
    "    model = keras.models.Model(inputs=[gen_label, gen_noise], outputs=d)\n",
    "    \n",
    "    opt = RMSprop(lr=0.00005)\n",
    "    model.compile(loss=wasserstein_loss, optimizer=opt)\n",
    "    return model"
   ]
  },
  {
   "cell_type": "code",
   "execution_count": 13,
   "metadata": {},
   "outputs": [],
   "source": [
    "def generate_real_samples(train_labels, train_y, n_samples):\n",
    "    # choose random instances\n",
    "    ix = np.random.randint(0, train_y.shape[0], n_samples)\n",
    "    # select images and labels\n",
    "    X, labels = train_y[ix], train_labels[ix]\n",
    "    # generate class labels\n",
    "    y = -np.ones((n_samples, 1))\n",
    "    return [X, labels], y"
   ]
  },
  {
   "cell_type": "code",
   "execution_count": 14,
   "metadata": {},
   "outputs": [],
   "source": [
    "def generate_latent_points(n_samples, train_labels, latent_dim):\n",
    "    n_classes = train_labels.shape[0]\n",
    "    # generate points in the latent space\n",
    "    noise_input = np.random.normal(size=(n_samples, latent_dim))\n",
    "    # generate labels\n",
    "    ix = np.random.randint(0, n_classes, n_samples)\n",
    "    labels = train_labels[ix]\n",
    "    \n",
    "    return [noise_input, labels]"
   ]
  },
  {
   "cell_type": "code",
   "execution_count": 15,
   "metadata": {},
   "outputs": [],
   "source": [
    "def generate_fake_samples(generator, n_samples, latent_dim):\n",
    "    # generate points in latent space\n",
    "    noise_input, labels_input = generate_latent_points(n_samples, train_labels, latent_dim)\n",
    "    # predict outputs\n",
    "    y_pred = generator.predict([labels_input, noise_input])\n",
    "    # create class labels\n",
    "    y = np.ones((n_samples, 1))\n",
    "    return [y_pred, labels_input], y"
   ]
  },
  {
   "cell_type": "code",
   "execution_count": 16,
   "metadata": {},
   "outputs": [],
   "source": [
    "# create a line plot of loss for the gan and save to file\n",
    "def plot_history(d1_hist, d2_hist, g_hist):\n",
    "    # plot history\n",
    "    plt.plot(d1_hist, label='crit_real')\n",
    "    plt.plot(d2_hist, label='crit_fake')\n",
    "    plt.plot(g_hist, label='gen')\n",
    "    plt.legend()\n",
    "    plt.savefig('plot_line_plot_loss.png')\n",
    "    plt.close()"
   ]
  },
  {
   "cell_type": "code",
   "execution_count": 17,
   "metadata": {},
   "outputs": [],
   "source": [
    "# train the generator and critic\n",
    "def train(g_model, c_model, gan_model, dataset, latent_dim, n_epochs=10, n_batch=64, n_critic=5):\n",
    "    # calculate the number of batches per training epoch\n",
    "    bat_per_epo = int(len(dataset[0]) / n_batch)\n",
    "    # calculate the size of half a batch of samples\n",
    "    half_batch = int(n_batch / 2)\n",
    "    # lists for keeping track of loss\n",
    "    c1_hist, c2_hist, g_hist = list(), list(), list()\n",
    "    # manually enumerate epochs\n",
    "    for i in range(n_epochs):\n",
    "        for j in range(bat_per_epo):\n",
    "            c1_tmp, c2_tmp = list(), list()\n",
    "            for _ in range(n_critic):\n",
    "                # get randomly selected 'real' samples\n",
    "                [X_real, labels_real], y_real = generate_real_samples(dataset[0], dataset[1], half_batch)\n",
    "                # update critic model weights\n",
    "                c_loss1 = c_model.train_on_batch([X_real, labels_real], y_real)\n",
    "                c1_tmp.append(c_loss1)\n",
    "                # generate 'fake' examples\n",
    "                [X_fake, labels], y_fake = generate_fake_samples(g_model, half_batch, latent_dim)\n",
    "                # update critic model weights\n",
    "                c_loss2 = c_model.train_on_batch([X_fake, labels], y_fake)\n",
    "                c2_tmp.append(c_loss2)     \n",
    "            # store critic loss\n",
    "            c1_hist.append(np.mean(c1_tmp))\n",
    "            c2_hist.append(np.mean(c2_tmp))\n",
    "            # prepare points in latent space as input for the generator\n",
    "            [noise_input, train_labels] = generate_latent_points(n_batch, dataset[0], latent_dim)\n",
    "            # create inverted labels for the fake samples\n",
    "            y_gan = -np.ones((n_batch, 1))\n",
    "            # update the generator via the critic's error\n",
    "            g_loss = gan_model.train_on_batch([train_labels, noise_input], y_gan)\n",
    "            g_hist.append(g_loss)\n",
    "            # summarize loss on this batch\n",
    "            print('>%d, c1=%.3f, c2=%.3f g=%.3f' % (i+1, c1_hist[-1], c2_hist[-1], g_loss))\n",
    "    # line plots of loss\n",
    "    plot_history(c1_hist, c2_hist, g_hist)\n",
    "    return c1_hist, c2_hist, g_hist"
   ]
  },
  {
   "cell_type": "code",
   "execution_count": 18,
   "metadata": {},
   "outputs": [],
   "source": [
    "# size of the latent space\n",
    "latent_dim = 4 * 3\n",
    "# create the critic\n",
    "critic = define_critic()"
   ]
  },
  {
   "cell_type": "code",
   "execution_count": 19,
   "metadata": {},
   "outputs": [],
   "source": [
    "# create the generator\n",
    "generator = define_generator()\n",
    "# create the gan\n",
    "qgan_model = define_qgan(generator, critic)"
   ]
  },
  {
   "cell_type": "code",
   "execution_count": 20,
   "metadata": {},
   "outputs": [
    {
     "name": "stdout",
     "output_type": "stream",
     "text": [
      ">1, c1=-0.000, c2=0.001 g=-0.124\n",
      ">2, c1=-0.001, c2=0.002 g=0.110\n",
      ">3, c1=-0.002, c2=0.002 g=0.028\n",
      ">4, c1=-0.003, c2=0.003 g=-0.085\n",
      ">5, c1=-0.003, c2=0.003 g=-0.077\n",
      ">6, c1=-0.004, c2=0.004 g=0.002\n",
      ">7, c1=-0.004, c2=0.004 g=0.007\n",
      ">8, c1=-0.004, c2=0.005 g=-0.038\n",
      ">9, c1=-0.005, c2=0.005 g=0.102\n",
      ">10, c1=-0.005, c2=0.006 g=0.031\n",
      ">11, c1=-0.006, c2=0.006 g=0.003\n",
      ">12, c1=-0.006, c2=0.006 g=-0.006\n",
      ">13, c1=-0.006, c2=0.007 g=-0.080\n",
      ">14, c1=-0.007, c2=0.007 g=-0.075\n",
      ">15, c1=-0.007, c2=0.007 g=-0.007\n",
      ">16, c1=-0.007, c2=0.008 g=0.063\n",
      ">17, c1=-0.008, c2=0.008 g=-0.014\n",
      ">18, c1=-0.008, c2=0.008 g=0.130\n",
      ">19, c1=-0.008, c2=0.009 g=-0.025\n",
      ">20, c1=-0.009, c2=0.009 g=-0.033\n",
      ">21, c1=-0.009, c2=0.009 g=-0.034\n",
      ">22, c1=-0.009, c2=0.010 g=0.081\n",
      ">23, c1=-0.010, c2=0.010 g=-0.078\n",
      ">24, c1=-0.010, c2=0.010 g=-0.000\n",
      ">25, c1=-0.010, c2=0.011 g=-0.033\n",
      ">26, c1=-0.011, c2=0.011 g=-0.021\n",
      ">27, c1=-0.011, c2=0.011 g=-0.060\n",
      ">28, c1=-0.011, c2=0.012 g=-0.041\n",
      ">29, c1=-0.012, c2=0.012 g=-0.038\n",
      ">30, c1=-0.012, c2=0.012 g=-0.039\n",
      ">31, c1=-0.012, c2=0.013 g=-0.066\n",
      ">32, c1=-0.013, c2=0.013 g=-0.030\n",
      ">33, c1=-0.013, c2=0.013 g=-0.079\n",
      ">34, c1=-0.013, c2=0.014 g=-0.008\n",
      ">35, c1=-0.014, c2=0.014 g=0.028\n",
      ">36, c1=-0.014, c2=0.014 g=0.040\n",
      ">37, c1=-0.014, c2=0.015 g=-0.109\n",
      ">38, c1=-0.014, c2=0.015 g=0.137\n",
      ">39, c1=-0.015, c2=0.015 g=-0.008\n",
      ">40, c1=-0.015, c2=0.015 g=-0.059\n",
      ">41, c1=-0.015, c2=0.016 g=-0.015\n",
      ">42, c1=-0.016, c2=0.016 g=-0.038\n",
      ">43, c1=-0.016, c2=0.016 g=0.004\n",
      ">44, c1=-0.016, c2=0.017 g=-0.024\n",
      ">45, c1=-0.017, c2=0.017 g=-0.094\n",
      ">46, c1=-0.017, c2=0.017 g=-0.088\n",
      ">47, c1=-0.017, c2=0.018 g=-0.110\n",
      ">48, c1=-0.018, c2=0.018 g=-0.094\n",
      ">49, c1=-0.018, c2=0.018 g=-0.101\n",
      ">50, c1=-0.018, c2=0.019 g=-0.100\n",
      ">51, c1=-0.018, c2=0.019 g=0.040\n",
      ">52, c1=-0.019, c2=0.019 g=-0.032\n",
      ">53, c1=-0.019, c2=0.019 g=-0.047\n",
      ">54, c1=-0.019, c2=0.020 g=-0.012\n",
      ">55, c1=-0.020, c2=0.020 g=-0.024\n",
      ">56, c1=-0.020, c2=0.020 g=-0.007\n",
      ">57, c1=-0.020, c2=0.021 g=-0.107\n",
      ">58, c1=-0.021, c2=0.021 g=-0.018\n",
      ">59, c1=-0.021, c2=0.021 g=-0.062\n",
      ">60, c1=-0.021, c2=0.022 g=-0.008\n",
      ">61, c1=-0.022, c2=0.022 g=-0.065\n",
      ">62, c1=-0.022, c2=0.022 g=-0.107\n",
      ">63, c1=-0.022, c2=0.022 g=-0.034\n",
      ">64, c1=-0.022, c2=0.023 g=-0.114\n",
      ">65, c1=-0.023, c2=0.023 g=-0.022\n",
      ">66, c1=-0.023, c2=0.023 g=-0.043\n",
      ">67, c1=-0.023, c2=0.024 g=-0.018\n",
      ">68, c1=-0.024, c2=0.024 g=0.063\n",
      ">69, c1=-0.024, c2=0.024 g=-0.013\n",
      ">70, c1=-0.024, c2=0.025 g=-0.036\n",
      ">71, c1=-0.025, c2=0.025 g=-0.046\n",
      ">72, c1=-0.025, c2=0.025 g=-0.020\n",
      ">73, c1=-0.025, c2=0.026 g=0.037\n",
      ">74, c1=-0.025, c2=0.026 g=-0.117\n",
      ">75, c1=-0.026, c2=0.026 g=-0.160\n",
      ">76, c1=-0.026, c2=0.026 g=-0.044\n",
      ">77, c1=-0.026, c2=0.027 g=-0.077\n",
      ">78, c1=-0.027, c2=0.027 g=-0.079\n",
      ">79, c1=-0.027, c2=0.027 g=-0.084\n",
      ">80, c1=-0.027, c2=0.028 g=-0.032\n",
      ">81, c1=-0.028, c2=0.028 g=0.009\n",
      ">82, c1=-0.028, c2=0.028 g=-0.051\n",
      ">83, c1=-0.028, c2=0.029 g=-0.133\n",
      ">84, c1=-0.029, c2=0.029 g=-0.101\n",
      ">85, c1=-0.029, c2=0.029 g=-0.032\n",
      ">86, c1=-0.029, c2=0.029 g=-0.034\n",
      ">87, c1=-0.029, c2=0.030 g=-0.021\n",
      ">88, c1=-0.030, c2=0.030 g=-0.142\n",
      ">89, c1=-0.030, c2=0.030 g=-0.010\n",
      ">90, c1=-0.030, c2=0.031 g=-0.026\n",
      ">91, c1=-0.031, c2=0.031 g=-0.034\n",
      ">92, c1=-0.031, c2=0.031 g=-0.064\n",
      ">93, c1=-0.031, c2=0.032 g=0.010\n",
      ">94, c1=-0.032, c2=0.032 g=-0.044\n",
      ">95, c1=-0.032, c2=0.032 g=-0.026\n",
      ">96, c1=-0.032, c2=0.033 g=-0.075\n",
      ">97, c1=-0.033, c2=0.033 g=-0.168\n",
      ">98, c1=-0.033, c2=0.033 g=-0.032\n",
      ">99, c1=-0.033, c2=0.033 g=-0.040\n",
      ">100, c1=-0.033, c2=0.034 g=0.017\n"
     ]
    }
   ],
   "source": [
    "n_batch = 2\n",
    "n_epochs = 100\n",
    "\n",
    "# train model\n",
    "c1_loss, c2_loss, g_loss = train(generator, critic, qgan_model, [train_dis_dataset[0][:n_batch], train_dis_dataset[1][:n_batch]], latent_dim, n_batch=n_batch, n_epochs=n_epochs)"
   ]
  },
  {
   "cell_type": "markdown",
   "metadata": {
    "id": "EpF5loDU4RKr"
   },
   "source": [
    "### Visualizing the training process"
   ]
  },
  {
   "cell_type": "code",
   "execution_count": 21,
   "metadata": {},
   "outputs": [],
   "source": [
    "def accuracy(real_data, fake_data):\n",
    "    m = tf.keras.metrics.MeanAbsoluteError()\n",
    "    m.update_state(real_data, fake_data)\n",
    "    acc = 1 - m.result().numpy()\n",
    "    return acc"
   ]
  },
  {
   "cell_type": "code",
   "execution_count": 22,
   "metadata": {},
   "outputs": [
    {
     "data": {
      "image/png": "[encoded data removed]",
      "text/plain": [
       "<Figure size 432x288 with 1 Axes>"
      ]
     },
     "metadata": {
      "needs_background": "light"
     },
     "output_type": "display_data"
    }
   ],
   "source": [
    "plt.plot(c1_loss, label='crit_real')\n",
    "plt.plot(c2_loss, label='crit_fake')\n",
    "plt.legend()\n",
    "plt.show()"
   ]
  },
  {
   "cell_type": "code",
   "execution_count": 23,
   "metadata": {},
   "outputs": [
    {
     "data": {
      "image/png": "[encoded data removed]",
      "text/plain": [
       "<Figure size 432x288 with 1 Axes>"
      ]
     },
     "metadata": {
      "needs_background": "light"
     },
     "output_type": "display_data"
    }
   ],
   "source": [
    "plt.plot(g_loss, label='gen', color='green')\n",
    "plt.legend()\n",
    "plt.show()"
   ]
  },
  {
   "cell_type": "code",
   "execution_count": 25,
   "metadata": {},
   "outputs": [
    {
     "data": {
      "image/png": "[encoded data removed]",
      "text/plain": [
       "<Figure size 432x288 with 1 Axes>"
      ]
     },
     "metadata": {
      "needs_background": "light"
     },
     "output_type": "display_data"
    },
    {
     "name": "stdout",
     "output_type": "stream",
     "text": [
      "Accuracy: 0.91558687960044\n"
     ]
    },
    {
     "data": {
      "image/png": "[encoded data removed]",
      "text/plain": [
       "<Figure size 432x288 with 1 Axes>"
      ]
     },
     "metadata": {
      "needs_background": "light"
     },
     "output_type": "display_data"
    },
    {
     "name": "stdout",
     "output_type": "stream",
     "text": [
      "Accuracy: 0.9307809384975808\n"
     ]
    }
   ],
   "source": [
    "for i in range(n_batch):\n",
    "    days =  np.arange(1, len(dis_dataset[0][0][0]) + len(dis_dataset[0][0][1]) + 1)\n",
    "    real_stats = np.append(train_dis_dataset[0][i], train_dis_dataset[1][i])\n",
    "    fake_stats = tf.reshape(tf.concat([np.reshape(train_dis_dataset[0][i], (1,15)), generator.predict([np.reshape(train_dis_dataset[0][i], (1,15)), np.random.normal(size=(1,12))])], 1), (19,)).numpy()\n",
    "\n",
    "    plt.plot(days, fake_stats, label=\"trained generated data\")\n",
    "    plt.plot(days, real_stats, label=\"real data\")\n",
    "    plt.title(\"DIS real stock price\")\n",
    "    plt.xlabel(\"Days\")\n",
    "    plt.ylabel(\"Normalized Pctg inc/dec\")\n",
    "    plt.legend()\n",
    "    plt.show()\n",
    "    \n",
    "    print(f\"Accuracy: {accuracy(real_stats, fake_stats)}\")"
   ]
  },
  {
   "cell_type": "markdown",
   "metadata": {},
   "source": [
    "<hr>"
   ]
  }
 ],
 "metadata": {
  "colab": {
   "collapsed_sections": [],
   "name": "QGAN.ipynb",
   "provenance": []
  },
  "instance_type": "ml.m5.4xlarge",
  "kernelspec": {
   "display_name": "Python 3 (TensorFlow 2.3 Python 3.7 CPU Optimized)",
   "language": "python",
   "name": "python3__SAGEMAKER_INTERNAL__arn:aws:sagemaker:us-east-2:429704687514:image/tensorflow-2.3-cpu-py37-ubuntu18.04-v1"
  },
  "language_info": {
   "codemirror_mode": {
    "name": "ipython",
    "version": 3
   },
   "file_extension": ".py",
   "mimetype": "text/x-python",
   "name": "python",
   "nbconvert_exporter": "python",
   "pygments_lexer": "ipython3",
   "version": "3.7.10"
  }
 },
 "nbformat": 4,
 "nbformat_minor": 4
}
