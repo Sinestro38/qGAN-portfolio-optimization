{
 "cells": [
  {
   "cell_type": "markdown",
   "metadata": {},
   "source": [
    "# Time Series Data Forecasting with QGANs"
   ]
  },
  {
   "cell_type": "code",
   "execution_count": 470,
   "metadata": {},
   "outputs": [],
   "source": [
    "# Load the TensorBoard notebook extension\n",
    "%load_ext tensorboard"
   ]
  },
  {
   "cell_type": "code",
   "execution_count": 518,
   "metadata": {},
   "outputs": [],
   "source": [
    "import datetime\n",
    "import time\n",
    "import pennylane as qml\n",
    "import tensorflow as tf\n",
    "import numpy as np\n",
    "import matplotlib.pyplot as plt"
   ]
  },
  {
   "cell_type": "code",
   "execution_count": 519,
   "metadata": {},
   "outputs": [],
   "source": [
    "wires = range(15)\n",
    "dev = qml.device('default.qubit', wires=wires)"
   ]
  },
  {
   "cell_type": "code",
   "execution_count": 520,
   "metadata": {},
   "outputs": [],
   "source": [
    "data = np.load('data/prices_15_4.npy', allow_pickle=True)"
   ]
  },
  {
   "cell_type": "code",
   "execution_count": 521,
   "metadata": {},
   "outputs": [],
   "source": [
    "msft_data = data[0]\n",
    "msft_b = msft_data[0]\n",
    "msft_f = msft_data[1]"
   ]
  },
  {
   "cell_type": "code",
   "execution_count": 522,
   "metadata": {},
   "outputs": [],
   "source": [
    "def flatten(data):\n",
    "    in_one_arr = []\n",
    "    for i in range(19):\n",
    "        if i <= 14:\n",
    "            in_one_arr.append(data[0][i])\n",
    "        elif i >=15:\n",
    "            in_one_arr.append(data[1][i-15])\n",
    "    return np.reshape(in_one_arr, (1,1,19))"
   ]
  },
  {
   "cell_type": "markdown",
   "metadata": {},
   "source": [
    "## Structure of QGAN"
   ]
  },
  {
   "cell_type": "markdown",
   "metadata": {},
   "source": [
    "### Generator — parameterized quantum circuit"
   ]
  },
  {
   "cell_type": "code",
   "execution_count": 523,
   "metadata": {},
   "outputs": [],
   "source": [
    "@qml.qnode(dev, interface=\"tf\")\n",
    "def gen_circuit(b_seq, gen_weights):\n",
    "    # Embedding past time series onto circuit\n",
    "    qml.templates.AngleEmbedding(b_seq, wires, rotation='X')\n",
    "    \n",
    "    # Adjusting parameters of generator ansatz\n",
    "    qml.broadcast(unitary=qml.RY, pattern = 'single', wires = wires, parameters = gen_weights[0:15])\n",
    "    for k in range(1, int(len(gen_weights)) // 15):\n",
    "        qml.broadca\n",
    "        st(unitary=qml.CZ, pattern = 'ring', wires=wires)\n",
    "        qml.broadcast(unitary=qml.RY, pattern = 'single', wires = wires, parameters = gen_weights[(15*k):(15*(k+1))])\n",
    "    \n",
    "    # Returning normalized percentage price predictions for next 4 days in dataset \n",
    "    return [qml.expval(qml.PauliZ(i)) for i in range(4)]"
   ]
  },
  {
   "cell_type": "code",
   "execution_count": 524,
   "metadata": {},
   "outputs": [],
   "source": [
    "def generator(equity_data, gen_weights):\n",
    "    generated_prices =  gen_circuit(equity_data[0], gen_weights).numpy()\n",
    "    return [equity_data[0], gen_circuit(equity_data[0], gen_weights).numpy()]"
   ]
  },
  {
   "cell_type": "code",
   "execution_count": 525,
   "metadata": {
    "scrolled": false
   },
   "outputs": [],
   "source": [
    "init_gen_weights = tf.Variable(np.random.normal(0, 1, 15))"
   ]
  },
  {
   "cell_type": "markdown",
   "metadata": {},
   "source": [
    "#### Testing generator and gradients of generator"
   ]
  },
  {
   "cell_type": "code",
   "execution_count": 526,
   "metadata": {
    "scrolled": true
   },
   "outputs": [
    {
     "data": {
      "text/plain": [
       "[array([-1.        ,  0.68858394, -0.71996818,  0.64508565,  0.12111897,\n",
       "         0.84157581,  0.8777076 ,  0.22345133, -0.30409296, -0.18410706,\n",
       "         0.        , -0.8391851 ,  0.06801392,  0.02368372,  0.0141945 ]),\n",
       " array([0.46836688, 0.00559263, 0.46434005, 0.24259269])]"
      ]
     },
     "execution_count": 526,
     "metadata": {},
     "output_type": "execute_result"
    }
   ],
   "source": [
    "generator(msft_data, init_gen_weights)"
   ]
  },
  {
   "cell_type": "code",
   "execution_count": 527,
   "metadata": {},
   "outputs": [
    {
     "data": {
      "text/plain": [
       "<tf.Tensor: shape=(4,), dtype=float64, numpy=array([0.46836688, 0.00559263, 0.46434005, 0.24259269])>"
      ]
     },
     "execution_count": 527,
     "metadata": {},
     "output_type": "execute_result"
    }
   ],
   "source": [
    "gen_circuit(msft_data[0], init_gen_weights)"
   ]
  },
  {
   "cell_type": "code",
   "execution_count": 528,
   "metadata": {},
   "outputs": [
    {
     "name": "stdout",
     "output_type": "stream",
     "text": [
      "tf.Tensor(\n",
      "[-0.26936786  0.77212636  0.59129664 -0.76133234  0.          0.\n",
      "  0.          0.          0.          0.          0.          0.\n",
      "  0.          0.          0.        ], shape=(15,), dtype=float64)\n"
     ]
    }
   ],
   "source": [
    "with tf.GradientTape() as tape:\n",
    "    res = gen_circuit(msft_data[0], init_gen_weights)\n",
    "grad = tape.gradient(res, init_gen_weights)\n",
    "print(grad)"
   ]
  },
  {
   "cell_type": "markdown",
   "metadata": {},
   "source": [
    "### Discriminator — classical CNN"
   ]
  },
  {
   "cell_type": "code",
   "execution_count": 529,
   "metadata": {},
   "outputs": [],
   "source": [
    "def make_discrim():\n",
    "    model = tf.keras.models.Sequential()\n",
    "    model.add(tf.keras.layers.Conv1D(filters=16, kernel_size=1, activation='relu', input_shape=[1, 19]))\n",
    "    model.add(tf.keras.layers.Conv1D(filters=16, kernel_size=1, activation='relu'))\n",
    "    model.add(tf.keras.layers.Dense(units=128, activation='relu'))\n",
    "    model.add(tf.keras.layers.Dense(units=1, activation='sigmoid'))\n",
    "    \n",
    "    return model"
   ]
  },
  {
   "cell_type": "code",
   "execution_count": 530,
   "metadata": {
    "scrolled": false
   },
   "outputs": [
    {
     "name": "stdout",
     "output_type": "stream",
     "text": [
      "Model: \"sequential_5\"\n",
      "_________________________________________________________________\n",
      "Layer (type)                 Output Shape              Param #   \n",
      "=================================================================\n",
      "conv1d_10 (Conv1D)           (None, 1, 16)             320       \n",
      "_________________________________________________________________\n",
      "conv1d_11 (Conv1D)           (None, 1, 16)             272       \n",
      "_________________________________________________________________\n",
      "dense_10 (Dense)             (None, 1, 128)            2176      \n",
      "_________________________________________________________________\n",
      "dense_11 (Dense)             (None, 1, 1)              129       \n",
      "=================================================================\n",
      "Total params: 2,897\n",
      "Trainable params: 2,897\n",
      "Non-trainable params: 0\n",
      "_________________________________________________________________\n"
     ]
    }
   ],
   "source": [
    "discriminator = make_discrim()\n",
    "discriminator.summary()"
   ]
  },
  {
   "cell_type": "markdown",
   "metadata": {},
   "source": [
    "## Training"
   ]
  },
  {
   "cell_type": "markdown",
   "metadata": {},
   "source": [
    "### Loss — real is 1, fake is 0"
   ]
  },
  {
   "cell_type": "code",
   "execution_count": 531,
   "metadata": {},
   "outputs": [],
   "source": [
    "cross_entropy = tf.keras.losses.BinaryCrossentropy(from_logits=True)\n",
    "\n",
    "def generator_loss(fake_output):\n",
    "    \"\"\"Calculating loss\"\"\"\n",
    "    return cross_entropy(np.ones_like(fake_output), fake_output)"
   ]
  },
  {
   "cell_type": "code",
   "execution_count": 532,
   "metadata": {},
   "outputs": [],
   "source": [
    "def discriminator_loss(fake_output, real_output):    \n",
    "    \"\"\"Compute discriminator loss.\"\"\" \n",
    "    real_loss = cross_entropy(tf.ones_like(real_output), real_output)\n",
    "    fake_loss = cross_entropy(tf.zeros_like(fake_output), fake_output)\n",
    "    total_loss = real_loss + fake_loss\n",
    "    return total_loss"
   ]
  },
  {
   "cell_type": "markdown",
   "metadata": {},
   "source": [
    "### Optimizer — Adam"
   ]
  },
  {
   "cell_type": "code",
   "execution_count": 533,
   "metadata": {},
   "outputs": [],
   "source": [
    "generator_optimizer = tf.keras.optimizers.Adam(1e-4)\n",
    "discriminator_optimizer = tf.keras.optimizers.Adam(1e-4)"
   ]
  },
  {
   "cell_type": "markdown",
   "metadata": {},
   "source": [
    "### One train step"
   ]
  },
  {
   "cell_type": "code",
   "execution_count": 534,
   "metadata": {},
   "outputs": [],
   "source": [
    "BATCH_SIZE=256\n",
    "\n",
    "def train_step(equity_data, gen_weights):\n",
    "    \"\"\"Run train step on provided image batch.\"\"\"\n",
    "    with tf.GradientTape() as disc_tape, tf.GradientTape() as gen_tape: \n",
    "        generated_prices = tf.concat([equity_data[0], gen_circuit(equity_data[0], gen_weights)], 0)\n",
    "        generated_prices = tf.reshape(generated_prices, (1,1,19))\n",
    "\n",
    "        real_prices = tf.concat([equity_data[0], equity_data[1]], 0)\n",
    "        real_prices = tf.reshape(real_prices, (1,1,19))\n",
    "        \"\"\"Getting outputs from discrim\"\"\"\n",
    "        real_output = discriminator(real_prices)\n",
    "        fake_output = discriminator(generated_prices)\n",
    "\n",
    "        \"\"\"Calculating loss\"\"\"\n",
    "        gen_loss = generator_loss(fake_output)\n",
    "        disc_loss = discriminator_loss(real_output, fake_output)\n",
    "    \n",
    "    print(f\"Generator loss: {gen_loss} \\n Discriminator loss: {disc_loss}\")\n",
    "    gradients_of_generator = gen_tape.gradient(gen_loss, gen_weights)\n",
    "    gradients_of_discriminator = disc_tape.gradient(disc_loss, discriminator.trainable_variables)\n",
    "\n",
    "    generator_optimizer.apply_gradients(\n",
    "        zip([gradients_of_generator], [gen_weights]))\n",
    "    discriminator_optimizer.apply_gradients(\n",
    "        zip(gradients_of_discriminator, discriminator.trainable_variables))\n",
    "    \n",
    "    return gen_loss, disc_loss, gen_weights"
   ]
  },
  {
   "cell_type": "code",
   "execution_count": 535,
   "metadata": {},
   "outputs": [
    {
     "data": {
      "text/plain": [
       "<tf.Variable 'Variable:0' shape=(15,) dtype=float64, numpy=\n",
       "array([ 0.52192557, -1.56355331, -0.90508874,  1.26232546, -0.7493758 ,\n",
       "        0.56009356, -1.02414739, -0.08734031, -0.44967353,  1.60362236,\n",
       "       -0.05913132, -0.02008548,  1.06564651,  1.03896621, -0.30832588])>"
      ]
     },
     "execution_count": 535,
     "metadata": {},
     "output_type": "execute_result"
    }
   ],
   "source": [
    "init_gen_weights"
   ]
  },
  {
   "cell_type": "code",
   "execution_count": 536,
   "metadata": {},
   "outputs": [
    {
     "name": "stdout",
     "output_type": "stream",
     "text": [
      "Generator loss: 0.712684154510498 \n",
      " Discriminator loss: 1.3834013938903809\n"
     ]
    },
    {
     "data": {
      "text/plain": [
       "(<tf.Tensor: shape=(), dtype=float32, numpy=0.71268415>,\n",
       " <tf.Tensor: shape=(), dtype=float32, numpy=1.3834014>,\n",
       " <tf.Variable 'Variable:0' shape=(15,) dtype=float64, numpy=\n",
       " array([ 0.52182568, -1.56365327, -0.90518873,  1.26222552, -0.7493758 ,\n",
       "         0.56009356, -1.02414739, -0.08734031, -0.44967353,  1.60362236,\n",
       "        -0.05913132, -0.02008548,  1.06564651,  1.03896621, -0.30832588])>)"
      ]
     },
     "execution_count": 536,
     "metadata": {},
     "output_type": "execute_result"
    }
   ],
   "source": [
    "train_step(msft_data, tf.Variable(init_gen_weights))"
   ]
  },
  {
   "cell_type": "markdown",
   "metadata": {},
   "source": [
    "### Visualizing training process"
   ]
  },
  {
   "cell_type": "code",
   "execution_count": 465,
   "metadata": {},
   "outputs": [],
   "source": [
    "logdir = \"tb_logs/\" + datetime.datetime.now().strftime(\"%Y%m%d-%H%M%S\")\n",
    "file_writer = tf.summary.create_file_writer(logdir + \"/metrics\")\n",
    "file_writer.set_as_default()"
   ]
  },
  {
   "cell_type": "code",
   "execution_count": 466,
   "metadata": {},
   "outputs": [],
   "source": [
    "# Define our metrics\n",
    "train_loss = tf.keras.metrics.Mean('train_loss', dtype=tf.float32)\n",
    "train_accuracy = tf.keras.metrics.SparseCategoricalAccuracy('train_accuracy')"
   ]
  },
  {
   "cell_type": "code",
   "execution_count": 468,
   "metadata": {},
   "outputs": [
    {
     "name": "stdout",
     "output_type": "stream",
     "text": [
      "Epoch 1\n",
      "Generator loss: 0.11164283007383347 \n",
      " Discriminator loss: 0.16651295125484467\n",
      "Epoch 2\n",
      "Generator loss: 0.11103152483701706 \n",
      " Discriminator loss: 0.16562409698963165\n",
      "Epoch 3\n",
      "Generator loss: 0.11045683920383453 \n",
      " Discriminator loss: 0.16473866999149323\n",
      "Epoch 4\n",
      "Generator loss: 0.10989206284284592 \n",
      " Discriminator loss: 0.16385594010353088\n",
      "Epoch 5\n",
      "Generator loss: 0.10933192074298859 \n",
      " Discriminator loss: 0.1629711091518402\n"
     ]
    }
   ],
   "source": [
    "EPOCHS = 5\n",
    "visgen_weights = init_gen_weights\n",
    "\n",
    "for epoch in range(EPOCHS):\n",
    "    print(f\"Epoch {epoch + 1}\")\n",
    "    gen_loss, disc_loss, visgen_weights = train_step(msft_data, visgen_weights)\n",
    "        \n",
    "    with file_writer.as_default():\n",
    "        tf.summary.scalar('gen_loss', gen_loss, step=epoch)\n",
    "        tf.summary.scalar('disc_loss', disc_loss, step=epoch)\n",
    "    \n",
    "    # Reset metrics every epoch\n",
    "    train_loss.reset_states()\n",
    "    test_loss.reset_states()\n",
    "    train_accuracy.reset_states()\n",
    "    test_accuracy.reset_states()"
   ]
  },
  {
   "cell_type": "code",
   "execution_count": 473,
   "metadata": {},
   "outputs": [
    {
     "data": {
      "text/plain": [
       "ERROR: Timed out waiting for TensorBoard to start. It may still be running as pid 22464."
      ]
     },
     "metadata": {},
     "output_type": "display_data"
    }
   ],
   "source": [
    "%tensorboard --logdir tb_logs/"
   ]
  },
  {
   "cell_type": "markdown",
   "metadata": {},
   "source": [
    "## Visualizing results"
   ]
  },
  {
   "cell_type": "code",
   "execution_count": 447,
   "metadata": {},
   "outputs": [
    {
     "data": {
      "image/png": "[encoded data removed]",
      "text/plain": [
       "<Figure size 432x288 with 1 Axes>"
      ]
     },
     "metadata": {
      "needs_background": "light"
     },
     "output_type": "display_data"
    }
   ],
   "source": [
    "days =  np.arange(1, 20)\n",
    "real_stats = np.append(msft_data[0], msft_data[1])\n",
    "plt.plot(days, real_stats)\n",
    "plt.title(\"MSFT stock price\")\n",
    "plt.xlabel(\"Days\")\n",
    "plt.ylabel(\"Normalized Pctg inc/dec\")\n",
    "plt.show()"
   ]
  },
  {
   "cell_type": "code",
   "execution_count": 446,
   "metadata": {},
   "outputs": [
    {
     "data": {
      "image/png": "[encoded data removed]",
      "text/plain": [
       "<Figure size 432x288 with 1 Axes>"
      ]
     },
     "metadata": {
      "needs_background": "light"
     },
     "output_type": "display_data"
    }
   ],
   "source": [
    "b_days = np.arange(1,20)\n",
    "fake_stats = tf.concat([msft_data[0], gen_circuit(msft_data[0], gen_weights)], 0).numpy()\n",
    "plt.plot(b_days, fake_stats)\n",
    "plt.title(\"MSFT stock price\")\n",
    "plt.xlabel(\"Days\")\n",
    "plt.ylabel(\"Normalized Pctg inc/dec\")\n",
    "plt.show()"
   ]
  },
  {
   "cell_type": "markdown",
   "metadata": {},
   "source": [
    "<hr>"
   ]
  },
  {
   "cell_type": "markdown",
   "metadata": {},
   "source": [
    "### Visualizing training process"
   ]
  },
  {
   "cell_type": "code",
   "execution_count": 370,
   "metadata": {},
   "outputs": [],
   "source": [
    "logdir = \"tb_logs/\" + datetime.datetime.now().strftime(\"%Y%m%d-%H%M%S\")\n",
    "file_writer = tf.summary.create_file_writer(logdir + \"/metrics\")\n",
    "file_writer.set_as_default()"
   ]
  },
  {
   "cell_type": "code",
   "execution_count": null,
   "metadata": {},
   "outputs": [],
   "source": [
    "def train(dataset, epochs, start_epoch=1):\n",
    "    \"\"\"Launch full training run for given number of epochs.\"\"\"\n",
    "        \n",
    "    batched_data = tf.data.Dataset.from_tensor_slices(dataset).shuffle(N_SAMPLES).batch(512)\n",
    "    t = time.time()\n",
    "    for epoch in range(start_epoch, start_epoch + epochs):\n",
    "        for i, image_batch in enumerate(batched_data):\n",
    "            # Log batch-wise loss.\n",
    "            gl, dl = train_step(image_batch)\n",
    "            tf.summary.scalar(\n",
    "                'Generator loss', data=gl, step=epoch * len(batched_data) + i)\n",
    "            tf.summary.scalar(\n",
    "                'Discriminator loss', data=dl, step=epoch * len(batched_data) + i)\n",
    "\n",
    "        # Log full dataset XEB Fidelity and generated distribution.\n",
    "        generated_samples = generator(tf.random.normal([N_SAMPLES, 100]))\n",
    "        tf.summary.scalar(\n",
    "        'Generator XEB Fidelity Estimate', data=xeb_fid(generated_samples), step=epoch)\n",
    "        tf.summary.histogram(\n",
    "        'Generator distribution', data=bits_to_ints(generated_samples), step=epoch)\n",
    "        # Log new samples drawn from this particular random circuit.\n",
    "        random_new_distribution = generate_data(REFERENCE_CIRCUIT, N_SAMPLES)\n",
    "        tf.summary.histogram(\n",
    "        'New round of True samples', data=bits_to_ints(random_new_distribution), step=epoch)\n",
    "\n",
    "        if epoch % 10 == 0:\n",
    "            print('Epoch {}, took {}(s)'.format(epoch, time.time() - t))\n",
    "            t = time.time()"
   ]
  }
 ],
 "metadata": {
  "kernelspec": {
   "display_name": "Python 3",
   "language": "python",
   "name": "python3"
  },
  "language_info": {
   "codemirror_mode": {
    "name": "ipython",
    "version": 3
   },
   "file_extension": ".py",
   "mimetype": "text/x-python",
   "name": "python",
   "nbconvert_exporter": "python",
   "pygments_lexer": "ipython3",
   "version": "3.8.3"
  }
 },
 "nbformat": 4,
 "nbformat_minor": 4
}
