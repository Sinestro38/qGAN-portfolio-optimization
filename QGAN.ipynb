{
 "cells": [
  {
   "cell_type": "markdown",
   "metadata": {
    "id": "5DSuCzfc32we"
   },
   "source": [
    "# Imports"
   ]
  },
  {
   "cell_type": "code",
   "execution_count": 177,
   "metadata": {
    "id": "yUIh5KnTSvt_"
   },
   "outputs": [],
   "source": [
    "import datetime\n",
    "import time\n",
    "import pennylane as qml\n",
    "import tensorflow as tf\n",
    "import numpy as np\n",
    "import matplotlib.pyplot as plt\n",
    "import sagemaker"
   ]
  },
  {
   "cell_type": "markdown",
   "metadata": {
    "id": "5_Jet5Qk3vlf"
   },
   "source": [
    "<hr>"
   ]
  },
  {
   "cell_type": "code",
   "execution_count": 178,
   "metadata": {
    "id": "IEWib84pSvuC"
   },
   "outputs": [],
   "source": [
    "wires = range(15)\n",
    "n_layers = 3\n",
    "dev = qml.device('default.qubit', wires=wires)"
   ]
  },
  {
   "cell_type": "markdown",
   "metadata": {},
   "source": [
    "###### dataset structure: `[equity number][train or test][sample number][past or future]`"
   ]
  },
  {
   "cell_type": "code",
   "execution_count": 179,
   "metadata": {
    "id": "2PWDzTGPSvuD"
   },
   "outputs": [],
   "source": [
    "dataset = np.load('data/dataset.npy', allow_pickle=True)\n",
    "data = np.load('data/prices_15_4.npy', allow_pickle=True)"
   ]
  },
  {
   "cell_type": "code",
   "execution_count": 180,
   "metadata": {},
   "outputs": [],
   "source": [
    "dis_dataset = dataset[1]"
   ]
  },
  {
   "cell_type": "code",
   "execution_count": 181,
   "metadata": {
    "id": "D9AQJ7daSvuD"
   },
   "outputs": [],
   "source": [
    "msft_data = data[0]\n",
    "msft_b = msft_data[0]\n",
    "msft_f = msft_data[1]"
   ]
  },
  {
   "cell_type": "code",
   "execution_count": 182,
   "metadata": {
    "id": "sfoaYm8dSvuD"
   },
   "outputs": [],
   "source": [
    "def flatten(data):\n",
    "    in_one_arr = []\n",
    "    for i in range(19):\n",
    "        if i <= 14:\n",
    "            in_one_arr.append(data[0][i])\n",
    "        elif i >=15:\n",
    "            in_one_arr.append(data[1][i-15])\n",
    "    return np.reshape(in_one_arr, (1,1,19))"
   ]
  },
  {
   "cell_type": "markdown",
   "metadata": {
    "id": "5fumLe24SvuE"
   },
   "source": [
    "# Structure of QGAN"
   ]
  },
  {
   "cell_type": "markdown",
   "metadata": {
    "id": "x9Pda43PSvuE"
   },
   "source": [
    "## Generator"
   ]
  },
  {
   "cell_type": "code",
   "execution_count": 183,
   "metadata": {
    "id": "09FKQFWoSvuF"
   },
   "outputs": [],
   "source": [
    "@qml.qnode(dev, interface=\"tf\")\n",
    "def gen_circuit(b_seq, gen_weights):\n",
    "    # Embedding past time series onto circuit (bath)\n",
    "    qml.templates.AngleEmbedding(b_seq, wires, rotation='X')\n",
    "        \n",
    "    # Adjusting parameters of generator ansatz\n",
    "    qml.templates.StronglyEntanglingLayers(gen_weights, wires=wires)\n",
    "    \n",
    "    # Returning normalized percentage price predictions for next 4 days in dataset \n",
    "    return [qml.expval(qml.PauliZ(i)) for i in range(len(dis_dataset[0][1][1]))]"
   ]
  },
  {
   "cell_type": "code",
   "execution_count": 184,
   "metadata": {
    "id": "dR7vaWY0SvuG"
   },
   "outputs": [],
   "source": [
    "init_gen_weights = tf.Variable(np.random.uniform(-np.pi, np.pi, (n_layers, len(wires), 3)))"
   ]
  },
  {
   "cell_type": "code",
   "execution_count": 185,
   "metadata": {
    "colab": {
     "base_uri": "https://localhost:8080/",
     "height": 0
    },
    "id": "zlQ2KL1FTtxA",
    "outputId": "0afb530b-d777-46a6-9ff9-cada44e6fba8"
   },
   "outputs": [
    {
     "data": {
      "text/plain": [
       "<tf.Variable 'Variable:0' shape=(3, 15, 3) dtype=float64, numpy=\n",
       "array([[[ 1.36261116, -2.79491778, -1.83895745],\n",
       "        [-2.93394818,  0.04231392,  0.19416223],\n",
       "        [ 1.79943539,  0.42691041, -0.73783131],\n",
       "        [-0.74939649, -2.86694191, -1.10190247],\n",
       "        [-2.47571856,  2.82741802, -0.66860746],\n",
       "        [ 2.66789976,  2.77520896, -0.74305397],\n",
       "        [-0.29789047,  1.61608301, -0.69312041],\n",
       "        [-2.36472992,  0.55359983,  1.10941988],\n",
       "        [-0.66489347, -0.66233769, -2.1115642 ],\n",
       "        [-2.0605086 ,  2.60169093, -1.85911558],\n",
       "        [-1.60142565, -1.52158944, -2.46572492],\n",
       "        [ 2.81872326,  1.62395138, -2.64152669],\n",
       "        [ 0.38479026, -1.27336543,  1.13479408],\n",
       "        [-0.14627147, -2.05976807, -2.00476034],\n",
       "        [ 0.05698578, -0.94310694,  0.96383709]],\n",
       "\n",
       "       [[-1.91176152, -1.08404075, -1.14473982],\n",
       "        [ 0.63192623, -3.05366879, -0.79273765],\n",
       "        [-1.65385356, -2.70066334,  2.44591124],\n",
       "        [-0.80376348,  2.48391025,  0.47847137],\n",
       "        [-0.63745088, -2.26267912, -0.44244594],\n",
       "        [ 3.09114112,  1.34865314, -2.59060309],\n",
       "        [ 2.44119712, -2.22213159,  1.48497227],\n",
       "        [-2.76653654, -2.90990583, -0.19855571],\n",
       "        [-2.2578838 , -0.48859389, -0.16142491],\n",
       "        [ 1.75368383,  0.16426752, -2.08866245],\n",
       "        [ 0.80242348,  1.8235827 ,  3.01641838],\n",
       "        [-1.36445103, -2.09595118, -2.48396264],\n",
       "        [ 0.15065624, -2.17734158, -2.66015989],\n",
       "        [ 2.07545536,  2.18336082, -2.56143539],\n",
       "        [-1.82156163, -3.05699462, -0.25294532]],\n",
       "\n",
       "       [[-2.58557478,  0.08217674, -2.89955541],\n",
       "        [ 1.30116801, -2.62237714, -2.30466933],\n",
       "        [ 0.51354544,  0.82924873,  2.5173025 ],\n",
       "        [ 2.18969631, -0.13420499, -2.23403941],\n",
       "        [ 2.48534056, -1.63552293,  0.37059755],\n",
       "        [ 0.61600142, -0.84791883,  2.07205621],\n",
       "        [-2.23611694, -1.13887005,  0.96157467],\n",
       "        [-0.39822036,  0.41695755,  1.98633621],\n",
       "        [-0.81898016,  1.56877243,  1.13264523],\n",
       "        [-1.18516501,  0.04360916, -2.04409651],\n",
       "        [ 1.49981664, -0.54155361, -2.88586929],\n",
       "        [ 1.55174549, -2.18045017,  0.53075531],\n",
       "        [-0.26222321,  1.9171242 ,  3.06471592],\n",
       "        [ 1.18753739,  1.78560926,  1.29133   ],\n",
       "        [ 0.06174938, -0.46430883, -0.2621377 ]]])>"
      ]
     },
     "execution_count": 185,
     "metadata": {},
     "output_type": "execute_result"
    }
   ],
   "source": [
    "init_gen_weights"
   ]
  },
  {
   "cell_type": "code",
   "execution_count": 186,
   "metadata": {},
   "outputs": [
    {
     "data": {
      "text/plain": [
       "<tf.Tensor: shape=(4,), dtype=float64, numpy=array([-0.00031769,  0.006511  ,  0.01390315, -0.00513738])>"
      ]
     },
     "execution_count": 186,
     "metadata": {},
     "output_type": "execute_result"
    }
   ],
   "source": [
    "gen_circuit(dis_dataset[0][1][0], init_gen_weights)"
   ]
  },
  {
   "cell_type": "markdown",
   "metadata": {
    "id": "J5vdqNn8SvuJ"
   },
   "source": [
    "## Discriminator"
   ]
  },
  {
   "cell_type": "code",
   "execution_count": 187,
   "metadata": {
    "id": "R8XPDksNSvuJ"
   },
   "outputs": [],
   "source": [
    "def make_discrim():\n",
    "    model = tf.keras.models.Sequential()\n",
    "    model.add(tf.keras.layers.Conv1D(filters=16, kernel_size=1, input_shape=[1, 19]))\n",
    "    model.add(tf.keras.layers.LeakyReLU(alpha=0.2))\n",
    "    \n",
    "    model.add(tf.keras.layers.Conv1D(filters=16, kernel_size=1))\n",
    "    model.add(tf.keras.layers.LeakyReLU(alpha=0.2))\n",
    "    \n",
    "    model.add(tf.keras.layers.Dropout(.3))\n",
    "    model.add(tf.keras.layers.Dense(units=128, activation='relu'))\n",
    "    model.add(tf.keras.layers.Dense(units=1, activation='sigmoid'))\n",
    "    \n",
    "    return model"
   ]
  },
  {
   "cell_type": "code",
   "execution_count": 188,
   "metadata": {
    "colab": {
     "base_uri": "https://localhost:8080/",
     "height": 0
    },
    "id": "a8n-2ExLSvuJ",
    "outputId": "f8808ce5-bb01-4caa-f50c-fac7392b1f15",
    "scrolled": true
   },
   "outputs": [
    {
     "name": "stdout",
     "output_type": "stream",
     "text": [
      "Model: \"sequential_5\"\n",
      "_________________________________________________________________\n",
      "Layer (type)                 Output Shape              Param #   \n",
      "=================================================================\n",
      "conv1d_10 (Conv1D)           (None, 1, 16)             320       \n",
      "_________________________________________________________________\n",
      "leaky_re_lu_10 (LeakyReLU)   (None, 1, 16)             0         \n",
      "_________________________________________________________________\n",
      "conv1d_11 (Conv1D)           (None, 1, 16)             272       \n",
      "_________________________________________________________________\n",
      "leaky_re_lu_11 (LeakyReLU)   (None, 1, 16)             0         \n",
      "_________________________________________________________________\n",
      "dropout_5 (Dropout)          (None, 1, 16)             0         \n",
      "_________________________________________________________________\n",
      "dense_10 (Dense)             (None, 1, 128)            2176      \n",
      "_________________________________________________________________\n",
      "dense_11 (Dense)             (None, 1, 1)              129       \n",
      "=================================================================\n",
      "Total params: 2,897\n",
      "Trainable params: 2,897\n",
      "Non-trainable params: 0\n",
      "_________________________________________________________________\n"
     ]
    }
   ],
   "source": [
    "discriminator = make_discrim()\n",
    "discriminator.summary()"
   ]
  },
  {
   "cell_type": "code",
   "execution_count": 189,
   "metadata": {},
   "outputs": [
    {
     "data": {
      "text/plain": [
       "<tf.Tensor: shape=(1, 1, 1), dtype=float32, numpy=array([[[0.47649205]]], dtype=float32)>"
      ]
     },
     "execution_count": 189,
     "metadata": {},
     "output_type": "execute_result"
    }
   ],
   "source": [
    "discriminator(tf.reshape(tf.concat([msft_data[0], msft_data[1]], 0), (1,1,19)))"
   ]
  },
  {
   "cell_type": "markdown",
   "metadata": {
    "id": "mkteglBlSvuK"
   },
   "source": [
    "## Loss — real is 1, fake is 0"
   ]
  },
  {
   "cell_type": "code",
   "execution_count": 190,
   "metadata": {
    "id": "nICWzgAOSvuK"
   },
   "outputs": [],
   "source": [
    "cross_entropy = tf.keras.losses.BinaryCrossentropy()\n",
    "\n",
    "def generator_loss(fake_output):\n",
    "    \"\"\"Calculating loss\"\"\"\n",
    "    return cross_entropy(np.ones_like(fake_output), fake_output)"
   ]
  },
  {
   "cell_type": "code",
   "execution_count": 191,
   "metadata": {
    "id": "PrCV9nAMSvuL"
   },
   "outputs": [],
   "source": [
    "def discriminator_loss(fake_output, real_output):    \n",
    "    \"\"\"Compute discriminator loss.\"\"\" \n",
    "    real_loss = cross_entropy(tf.ones_like(real_output), real_output)\n",
    "    fake_loss = cross_entropy(tf.zeros_like(fake_output), fake_output)\n",
    "    total_loss = real_loss + fake_loss\n",
    "    return total_loss"
   ]
  },
  {
   "cell_type": "code",
   "execution_count": 192,
   "metadata": {},
   "outputs": [],
   "source": [
    "def accuracy(real_data, fake_data):\n",
    "    m = tf.keras.metrics.MeanAbsoluteError()\n",
    "    m.update_state(real_data, fake_data)\n",
    "    acc = 1 - m.result().numpy()\n",
    "    return acc"
   ]
  },
  {
   "cell_type": "markdown",
   "metadata": {
    "id": "0v6y22c34Diq"
   },
   "source": [
    "## Optimizer"
   ]
  },
  {
   "cell_type": "code",
   "execution_count": 193,
   "metadata": {
    "id": "yD2pNAF7SvuL"
   },
   "outputs": [],
   "source": [
    "generator_optimizer = tf.keras.optimizers.Adam(lr=0.0001)\n",
    "discriminator_optimizer = tf.keras.optimizers.Adam(lr=0.0001)"
   ]
  },
  {
   "cell_type": "markdown",
   "metadata": {
    "id": "z90NVCtw4KeP"
   },
   "source": [
    "## One train step"
   ]
  },
  {
   "cell_type": "code",
   "execution_count": 194,
   "metadata": {
    "id": "tYUv2VaJSvuL"
   },
   "outputs": [],
   "source": [
    "def train_step(equity_data, gen_weights):\n",
    "    \"\"\"Run train step on provided image batch.\"\"\"\n",
    "    with tf.GradientTape() as disc_tape, tf.GradientTape() as gen_tape: \n",
    "        generated_prices = tf.concat([equity_data[0], gen_circuit(equity_data[0], gen_weights)], 0)\n",
    "        generated_prices = tf.reshape(generated_prices, (1,1,(len(equity_data[0]) + len(equity_data[1]))))\n",
    "\n",
    "        real_prices = tf.concat([equity_data[0], equity_data[1]], 0)\n",
    "        real_prices = tf.reshape(real_prices, (1,1,(len(equity_data[0]) + len(equity_data[1]))))\n",
    "        \n",
    "        \"\"\"Getting outputs from discrim\"\"\"\n",
    "        real_output = discriminator(real_prices)\n",
    "        fake_output = discriminator(generated_prices)\n",
    "        \n",
    "        \"\"\"Calculating loss\"\"\"\n",
    "        gen_loss = generator_loss(fake_output)\n",
    "        disc_loss = discriminator_loss(fake_output, real_output)\n",
    "    \n",
    "    gradients_of_generator = gen_tape.gradient(gen_loss, gen_weights)\n",
    "    gradients_of_discriminator = disc_tape.gradient(disc_loss, discriminator.trainable_variables)\n",
    "\n",
    "    generator_optimizer.apply_gradients(\n",
    "        zip([gradients_of_generator], [gen_weights]))\n",
    "    discriminator_optimizer.apply_gradients(\n",
    "        zip(gradients_of_discriminator, discriminator.trainable_variables))\n",
    "    \n",
    "    \"\"\"Accuracy\"\"\"\n",
    "    acc = accuracy(equity_data[1], gen_circuit(equity_data[0], gen_weights))\n",
    "    \n",
    "    return gen_loss, disc_loss, gen_weights, acc, real_output[0][0][0], fake_output[0][0][0]"
   ]
  },
  {
   "cell_type": "markdown",
   "metadata": {
    "id": "EpF5loDU4RKr"
   },
   "source": [
    "## Visualizing the training process"
   ]
  },
  {
   "cell_type": "code",
   "execution_count": 196,
   "metadata": {
    "id": "siBk1SAvVTG7"
   },
   "outputs": [],
   "source": [
    "logdir = \"tb_logs/\" + datetime.datetime.now().strftime(\"%Y%m%d-%H%M%S\") + \"/metrics\"\n",
    "file_writer = tf.summary.create_file_writer(logdir)\n",
    "file_writer.set_as_default()"
   ]
  },
  {
   "cell_type": "code",
   "execution_count": 197,
   "metadata": {},
   "outputs": [],
   "source": [
    "gloss = []\n",
    "dloss = []\n",
    "acc_results = []\n",
    "epoch_acc_results = []"
   ]
  },
  {
   "cell_type": "code",
   "execution_count": 198,
   "metadata": {
    "id": "fp7cBqT2SvuM"
   },
   "outputs": [],
   "source": [
    "EPOCHS = 2000\n",
    "batch_size = 1\n",
    "\n",
    "def train(dataset, epochs, start_epoch=1, new_gen_w=None):    \n",
    "    for epoch in range(start_epoch, start_epoch + epochs):\n",
    "        if epoch == 1:\n",
    "            new_gen_w = tf.Variable(np.ones_like(init_gen_weights.numpy()), dtype=\"float64\")\n",
    "            new_gen_w.assign(init_gen_weights)\n",
    "        \n",
    "        for i, sample in enumerate(dataset[0:batch_size]):\n",
    "            sample_b = sample[0]\n",
    "            sample_f = sample[1]\n",
    "            gl, dl, w, acc, fake_output, real_output = train_step(dataset[i], new_gen_w)\n",
    "            \n",
    "            new_gen_w.assign(w)\n",
    "            acc_results.append(acc)\n",
    "            gloss.append(gl)\n",
    "            dloss.append(dl)\n",
    "\n",
    "            tf.summary.scalar('Generator Loss', data=gl.numpy(), step=epoch)\n",
    "            tf.summary.scalar('Discriminator Loss', data=dl.numpy(), step=epoch)\n",
    "            tf.summary.scalar('Prediction Accuracy', data=acc, step=epoch)\n",
    "        \n",
    "            if epoch % 10 == 0:\n",
    "                print(f\"Step {i} in {epoch} epoch: Gen loss: {gl} \\n         Disc loss: {dl} \\n             Accuracy: {acc}\")\n",
    "        \n",
    "        epoch_acc = 0\n",
    "        for i, sample in enumerate(dataset[0:batch_size]):\n",
    "            epoch_acc += accuracy(sample[1], gen_circuit(sample[0], new_gen_w))\n",
    "        epoch_acc = epoch_acc / len(dataset[0:batch_size])\n",
    "        epoch_acc_results.append(epoch_acc)\n",
    "\n",
    "    return new_gen_w"
   ]
  },
  {
   "cell_type": "code",
   "execution_count": null,
   "metadata": {},
   "outputs": [],
   "source": [
    "new_gen_w = train(dis_dataset[0], EPOCHS, start_epoch=1, new_gen_w=new_gen_w) "
   ]
  },
  {
   "cell_type": "markdown",
   "metadata": {},
   "source": [
    "## Training metrics"
   ]
  },
  {
   "cell_type": "code",
   "execution_count": null,
   "metadata": {},
   "outputs": [],
   "source": [
    "plt.plot(range(len(epoch_acc_results)), epoch_acc_results)\n",
    "plt.title(\"Training Accuracy\")\n",
    "plt.xlabel(\"Epoch\")\n",
    "plt.show()"
   ]
  },
  {
   "cell_type": "code",
   "execution_count": null,
   "metadata": {},
   "outputs": [],
   "source": [
    "plt.figure(figsize=(10, 5))\n",
    "plt.plot(range(len(acc_results)), acc_results)\n",
    "plt.title(\"Batch wise accuracy\")\n",
    "plt.xlabel(f\"Batch number (take % {batch_size})\")\n",
    "plt.show()"
   ]
  },
  {
   "cell_type": "code",
   "execution_count": 148,
   "metadata": {},
   "outputs": [
    {
     "data": {
      "image/png": "[encoded data removed]",
      "text/plain": [
       "<Figure size 720x360 with 1 Axes>"
      ]
     },
     "metadata": {
      "needs_background": "light"
     },
     "output_type": "display_data"
    }
   ],
   "source": [
    "plt.figure(figsize=(10, 5))\n",
    "plt.plot(range(len(gloss)), gloss, label=\"Generator loss\")\n",
    "plt.plot(range(len(dloss)), dloss, label=\"Discriminator loss\")\n",
    "plt.title(\"Loss\")\n",
    "plt.xlabel(\"Epoch\")\n",
    "plt.legend()\n",
    "plt.show()"
   ]
  },
  {
   "cell_type": "markdown",
   "metadata": {
    "id": "7YW3dC5XHVe_"
   },
   "source": [
    "## Results compared"
   ]
  },
  {
   "cell_type": "code",
   "execution_count": 144,
   "metadata": {
    "colab": {
     "base_uri": "https://localhost:8080/",
     "height": 295
    },
    "id": "1ezLI7CXHZUy",
    "outputId": "20173ef7-a5b7-42f1-8188-5347dd97934a"
   },
   "outputs": [
    {
     "data": {
      "image/png": "[encoded data removed]",
      "text/plain": [
       "<Figure size 432x288 with 1 Axes>"
      ]
     },
     "metadata": {
      "needs_background": "light"
     },
     "output_type": "display_data"
    }
   ],
   "source": [
    "for i in range(batch_size):\n",
    "    days =  np.arange(1, len(dis_dataset[0][0][0]) + len(dis_dataset[0][0][1]) + 1)\n",
    "    real_stats = np.append(dis_dataset[0][i][0], dis_dataset[0][i][1])\n",
    "    fake_stats = tf.concat([dis_dataset[0][i][0], gen_circuit(dis_dataset[0][i][0], new_gen_w)], 0).numpy()\n",
    "    init_fake_stats = tf.concat([dis_dataset[0][i][0], gen_circuit(dis_dataset[0][i][0], init_gen_weights)], 0).numpy()\n",
    "\n",
    "    plt.plot(days, fake_stats, label=\"trained generated data\")\n",
    "    plt.plot(days, init_fake_stats, label=\"initial fake data\")\n",
    "    plt.plot(days, real_stats, label=\"real data\")\n",
    "    plt.title(\"DIS real stock price\")\n",
    "    plt.xlabel(\"Days\")\n",
    "    plt.ylabel(\"Normalized Pctg inc/dec\")\n",
    "    plt.legend()\n",
    "    plt.show()"
   ]
  }
 ],
 "metadata": {
  "colab": {
   "collapsed_sections": [],
   "name": "QGAN.ipynb",
   "provenance": []
  },
  "instance_type": "ml.m5.4xlarge",
  "kernelspec": {
   "display_name": "Python 3 (TensorFlow 2.3 Python 3.7 CPU Optimized)",
   "language": "python",
   "name": "python3__SAGEMAKER_INTERNAL__arn:aws:sagemaker:us-east-2:429704687514:image/tensorflow-2.3-cpu-py37-ubuntu18.04-v1"
  },
  "language_info": {
   "codemirror_mode": {
    "name": "ipython",
    "version": 3
   },
   "file_extension": ".py",
   "mimetype": "text/x-python",
   "name": "python",
   "nbconvert_exporter": "python",
   "pygments_lexer": "ipython3",
   "version": "3.7.10"
  }
 },
 "nbformat": 4,
 "nbformat_minor": 4
}
