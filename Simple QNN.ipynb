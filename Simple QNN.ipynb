{
 "cells": [
  {
   "cell_type": "markdown",
   "metadata": {},
   "source": [
    "# Simple QNN"
   ]
  },
  {
   "cell_type": "markdown",
   "metadata": {
    "id": "5_Jet5Qk3vlf"
   },
   "source": [
    "<hr>"
   ]
  },
  {
   "cell_type": "markdown",
   "metadata": {
    "id": "5DSuCzfc32we"
   },
   "source": [
    "## Imports"
   ]
  },
  {
   "cell_type": "code",
   "execution_count": 143,
   "metadata": {
    "id": "yUIh5KnTSvt_"
   },
   "outputs": [],
   "source": [
    "import datetime\n",
    "import time\n",
    "import pennylane as qml\n",
    "import tensorflow as tf\n",
    "import numpy as np\n",
    "import matplotlib.pyplot as plt"
   ]
  },
  {
   "cell_type": "markdown",
   "metadata": {},
   "source": [
    "\n",
    "Equities: `['MSFT', 'DIS', 'HAS', 'JNJ', 'ADBE', 'V']`\n",
    "\n",
    "dataset structure: `[equity number][train or test][sample number][past or future daily close prices (normalized percentage difference)]`"
   ]
  },
  {
   "cell_type": "code",
   "execution_count": 145,
   "metadata": {
    "id": "2PWDzTGPSvuD"
   },
   "outputs": [],
   "source": [
    "dataset = np.load('data/dataset.npy', allow_pickle=True)"
   ]
  },
  {
   "cell_type": "code",
   "execution_count": 214,
   "metadata": {},
   "outputs": [],
   "source": [
    "dis_dataset = dataset[1] # normalized percentage diff close prices of DIS"
   ]
  },
  {
   "cell_type": "code",
   "execution_count": 213,
   "metadata": {},
   "outputs": [
    {
     "name": "stdout",
     "output_type": "stream",
     "text": [
      "[array([-0.17309885,  0.02608121,  0.01737789,  0.31266864,  0.62879317,\n",
      "       -0.19485459, -0.54502302, -0.43207662,  0.67312319,  0.05152636,\n",
      "       -0.47169321, -0.31266864,  0.13138134, -0.84658933, -1.        ]), array([-1.        ,  0.3485534 ,  0.70889132, -0.26760999])]\n"
     ]
    }
   ],
   "source": [
    "print(dis_dataset[0][235]) # arbitrary data sample (first array = features or past price data, second array = labels or consecutive price data)"
   ]
  },
  {
   "cell_type": "markdown",
   "metadata": {
    "id": "x9Pda43PSvuE"
   },
   "source": [
    "## QNN Structure"
   ]
  },
  {
   "cell_type": "code",
   "execution_count": 144,
   "metadata": {
    "id": "IEWib84pSvuC"
   },
   "outputs": [],
   "source": [
    "wires = range(15)\n",
    "n_layers = 3\n",
    "dev = qml.device('default.qubit', wires=wires)"
   ]
  },
  {
   "cell_type": "code",
   "execution_count": 148,
   "metadata": {
    "id": "09FKQFWoSvuF"
   },
   "outputs": [],
   "source": [
    "@qml.qnode(dev, interface=\"tf\")\n",
    "def qnn(b_seq, gen_weights):\n",
    "    # Embedding past time series onto circuit\n",
    "    qml.templates.AngleEmbedding(b_seq, wires, rotation='X')\n",
    "        \n",
    "    # Ansatz of choice\n",
    "    qml.templates.StronglyEntanglingLayers(gen_weights, wires=wires)\n",
    "    \n",
    "    # Returning normalized percentage price predictions for next 4 days in dataset \n",
    "    return [qml.expval(qml.PauliZ(i)) for i in range(len(dis_dataset[0][1][1]))]"
   ]
  },
  {
   "cell_type": "code",
   "execution_count": 149,
   "metadata": {
    "id": "dR7vaWY0SvuG"
   },
   "outputs": [],
   "source": [
    "init_weights = tf.Variable(np.random.uniform(-np.pi, np.pi, (n_layers, len(wires), 3)))"
   ]
  },
  {
   "cell_type": "code",
   "execution_count": 150,
   "metadata": {
    "colab": {
     "base_uri": "https://localhost:8080/",
     "height": 0
    },
    "id": "zlQ2KL1FTtxA",
    "outputId": "0afb530b-d777-46a6-9ff9-cada44e6fba8"
   },
   "outputs": [
    {
     "data": {
      "text/plain": [
       "<tf.Variable 'Variable:0' shape=(3, 15, 3) dtype=float64, numpy=\n",
       "array([[[-3.04638246, -2.90255347, -2.20289814],\n",
       "        [-1.95327889,  1.47919498, -0.7149597 ],\n",
       "        [ 2.89287985, -2.79650894,  1.33512771],\n",
       "        [-0.13354587, -1.03641932, -2.54839845],\n",
       "        [-1.48427838,  0.15471408,  0.81465928],\n",
       "        [ 1.89485737, -1.41911684, -1.15163592],\n",
       "        [ 2.69052767,  2.78328966,  1.54263153],\n",
       "        [-0.77321815,  2.99636022, -2.4074464 ],\n",
       "        [ 0.07284635,  2.85503142,  1.94183321],\n",
       "        [ 0.75098423, -2.60100231, -1.72987457],\n",
       "        [-2.62036917, -3.12371966, -0.96563664],\n",
       "        [-2.29411486, -2.70329896, -1.43956463],\n",
       "        [-0.39348817, -1.99171504,  1.17296891],\n",
       "        [-2.6752982 ,  2.60459119,  1.87543891],\n",
       "        [ 0.65215318, -2.70198787,  1.98180348]],\n",
       "\n",
       "       [[-0.92774591, -2.63880338,  2.6922026 ],\n",
       "        [-1.37652879,  1.39245053,  2.62515032],\n",
       "        [ 0.24613491, -2.85952006,  0.03859217],\n",
       "        [-2.27265478,  0.44965653,  2.51797471],\n",
       "        [-0.85320836,  0.65024255,  2.26560567],\n",
       "        [ 0.59848836, -0.0981787 ,  0.48610065],\n",
       "        [-0.17358185, -2.82178073,  0.47647693],\n",
       "        [ 0.04938547,  0.55082197,  1.89290758],\n",
       "        [ 2.00142006,  2.84835247, -1.58194533],\n",
       "        [-0.71567897, -2.20928194, -0.01355205],\n",
       "        [-1.19135199,  1.91320087,  1.98036716],\n",
       "        [ 0.69419293,  2.03112247, -1.81480251],\n",
       "        [ 1.99425527, -3.11435703,  1.824412  ],\n",
       "        [ 1.94276331,  0.77814145, -0.8503373 ],\n",
       "        [ 0.31181938, -0.84961274,  0.65806922]],\n",
       "\n",
       "       [[ 2.44516136,  2.58080688,  2.3199478 ],\n",
       "        [-0.73172232,  0.6199145 , -2.53534015],\n",
       "        [ 0.36260028, -1.60781579, -1.73270416],\n",
       "        [ 3.07159849, -0.9546522 ,  0.8950222 ],\n",
       "        [-2.4343062 ,  2.40037185,  2.51688308],\n",
       "        [-1.96196711, -1.09895902, -0.81974196],\n",
       "        [-1.75660862, -0.31319379, -0.18626875],\n",
       "        [ 1.29847244, -2.97948003,  0.0195095 ],\n",
       "        [ 2.43350178, -2.82188343,  2.28293228],\n",
       "        [-1.99195565, -2.34743425,  2.40059656],\n",
       "        [ 0.51070754, -0.89172458, -0.89188394],\n",
       "        [ 0.9244303 ,  0.45627009,  0.56433971],\n",
       "        [ 1.75259095, -1.3158845 , -2.54904299],\n",
       "        [-1.98989919, -1.48312624,  1.61864118],\n",
       "        [ 2.43650169, -1.5590713 , -0.54521148]]])>"
      ]
     },
     "execution_count": 150,
     "metadata": {},
     "output_type": "execute_result"
    }
   ],
   "source": [
    "init_weights"
   ]
  },
  {
   "cell_type": "code",
   "execution_count": 151,
   "metadata": {},
   "outputs": [
    {
     "data": {
      "text/plain": [
       "<tf.Tensor: shape=(4,), dtype=float64, numpy=array([-0.01329655,  0.00078226, -0.0029407 , -0.00977846])>"
      ]
     },
     "execution_count": 151,
     "metadata": {},
     "output_type": "execute_result"
    }
   ],
   "source": [
    "qnn(dis_dataset[0][1][0], init_weights)"
   ]
  },
  {
   "cell_type": "code",
   "execution_count": 211,
   "metadata": {},
   "outputs": [],
   "source": [
    "mse = tf.keras.losses.MeanSquaredError()\n",
    "def accuracy(y_true, y_pred):\n",
    "    m = tf.keras.metrics.MeanAbsoluteError()\n",
    "    m.update_state(y_true, y_pred)\n",
    "    acc = 1 - m.result().numpy()\n",
    "    return acc"
   ]
  },
  {
   "cell_type": "markdown",
   "metadata": {
    "id": "z90NVCtw4KeP"
   },
   "source": [
    "## One train step"
   ]
  },
  {
   "cell_type": "code",
   "execution_count": 188,
   "metadata": {
    "id": "yD2pNAF7SvuL"
   },
   "outputs": [],
   "source": [
    "opt = tf.keras.optimizers.Adam(lr=0.0002)"
   ]
  },
  {
   "cell_type": "code",
   "execution_count": 189,
   "metadata": {
    "id": "tYUv2VaJSvuL"
   },
   "outputs": [],
   "source": [
    "def train_step(equity_data, gen_weights):\n",
    "    \"\"\"Run train step on provided image batch.\"\"\"\n",
    "    with tf.GradientTape() as gen_tape: \n",
    "        pred_prices = qnn(equity_data[0], gen_weights)\n",
    "        loss = mse(equity_data[1], pred_prices)\n",
    "    \n",
    "    grad = gen_tape.gradient(loss, gen_weights)\n",
    "    opt.apply_gradients(zip([grad], [gen_weights]))\n",
    "    \n",
    "    \"\"\"Accuracy\"\"\"\n",
    "    acc = accuracy(equity_data[1], qnn(equity_data[0], gen_weights))\n",
    "    \n",
    "    return loss, gen_weights, acc"
   ]
  },
  {
   "cell_type": "markdown",
   "metadata": {
    "id": "EpF5loDU4RKr"
   },
   "source": [
    "## Training"
   ]
  },
  {
   "cell_type": "code",
   "execution_count": 156,
   "metadata": {
    "id": "siBk1SAvVTG7"
   },
   "outputs": [],
   "source": [
    "logdir = \"tb_logs/\" + datetime.datetime.now().strftime(\"%Y%m%d-%H%M%S\") + \"/metrics\"\n",
    "file_writer = tf.summary.create_file_writer(logdir)\n",
    "file_writer.set_as_default()"
   ]
  },
  {
   "cell_type": "code",
   "execution_count": 157,
   "metadata": {},
   "outputs": [],
   "source": [
    "gloss = []\n",
    "acc_results = []\n",
    "acc_results_avg = []"
   ]
  },
  {
   "cell_type": "code",
   "execution_count": 196,
   "metadata": {
    "id": "fp7cBqT2SvuM"
   },
   "outputs": [],
   "source": [
    "EPOCHS = 6000\n",
    "batch_size = 2\n",
    "\n",
    "def train(dataset, epochs, start_epoch=1, new_gen_w=None):    \n",
    "    for epoch in range(start_epoch, start_epoch + epochs):\n",
    "        if epoch == 1:\n",
    "            new_gen_w = tf.Variable(np.ones_like(init_weights.numpy()), dtype=\"float64\")\n",
    "            new_gen_w.assign(init_weights)\n",
    "        \n",
    "        for i, sample in enumerate(dataset[0:batch_size]):\n",
    "            sample_b = sample[0]\n",
    "            sample_f = sample[1]\n",
    "            gl, w, acc = train_step(dataset[i], new_gen_w)\n",
    "            \n",
    "            new_gen_w.assign(w)\n",
    "            acc_results.append(acc)\n",
    "            gloss.append(gl)\n",
    "\n",
    "            tf.summary.scalar('Generator Loss', data=gl.numpy(), step=epoch)\n",
    "            tf.summary.scalar('Prediction Accuracy', data=acc, step=epoch)\n",
    "        \n",
    "            if epoch % 10 == 0:\n",
    "                print(f\"Step {i} in {epoch} epoch: Gen loss: {gl} \\n             Accuracy: {acc}\")\n",
    "        \n",
    "        \"\"\"Average accuracy of QNN\"\"\"\n",
    "        epoch_acc = 0\n",
    "        for i, sample in enumerate(dataset[0:batch_size]):\n",
    "            epoch_acc += accuracy(sample[1], qnn(sample[0], new_gen_w))\n",
    "        epoch_acc = epoch_acc / len(dataset[0:batch_size])\n",
    "        acc_results_avg.append(epoch_acc)\n",
    "\n",
    "    return new_gen_w"
   ]
  },
  {
   "cell_type": "code",
   "execution_count": 206,
   "metadata": {
    "collapsed": true,
    "jupyter": {
     "outputs_hidden": true
    }
   },
   "outputs": [
    {
     "name": "stdout",
     "output_type": "stream",
     "text": [
      "Step 0 in 5510 epoch: Gen loss: 0.12081238627433777 \n",
      "             Accuracy: 0.6578865647315979\n",
      "Step 1 in 5510 epoch: Gen loss: 0.13840650022029877 \n",
      "             Accuracy: 0.718648374080658\n",
      "Step 0 in 5520 epoch: Gen loss: 0.12052378803491592 \n",
      "             Accuracy: 0.658231109380722\n",
      "Step 1 in 5520 epoch: Gen loss: 0.1380031853914261 \n",
      "             Accuracy: 0.7189469337463379\n",
      "Step 0 in 5530 epoch: Gen loss: 0.12023841589689255 \n",
      "             Accuracy: 0.6585724353790283\n",
      "Step 1 in 5530 epoch: Gen loss: 0.13759994506835938 \n",
      "             Accuracy: 0.7192458510398865\n",
      "Step 0 in 5540 epoch: Gen loss: 0.11995623260736465 \n",
      "             Accuracy: 0.6589105129241943\n",
      "Step 1 in 5540 epoch: Gen loss: 0.13719676434993744 \n",
      "             Accuracy: 0.7195451855659485\n",
      "Step 0 in 5550 epoch: Gen loss: 0.11967720091342926 \n",
      "             Accuracy: 0.6592453718185425\n",
      "Step 1 in 5550 epoch: Gen loss: 0.13679362833499908 \n",
      "             Accuracy: 0.7198449671268463\n",
      "Step 0 in 5560 epoch: Gen loss: 0.11940126866102219 \n",
      "             Accuracy: 0.6595771610736847\n",
      "Step 1 in 5560 epoch: Gen loss: 0.13639050722122192 \n",
      "             Accuracy: 0.7201452255249023\n",
      "Step 0 in 5570 epoch: Gen loss: 0.11912841349840164 \n",
      "             Accuracy: 0.6599058508872986\n",
      "Step 1 in 5570 epoch: Gen loss: 0.13598738610744476 \n",
      "             Accuracy: 0.720445990562439\n",
      "Step 0 in 5580 epoch: Gen loss: 0.11885857582092285 \n",
      "             Accuracy: 0.6602314710617065\n",
      "Step 1 in 5580 epoch: Gen loss: 0.1355842500925064 \n",
      "             Accuracy: 0.7207472622394562\n",
      "Step 0 in 5590 epoch: Gen loss: 0.11859171837568283 \n",
      "             Accuracy: 0.660554051399231\n",
      "Step 1 in 5590 epoch: Gen loss: 0.13518106937408447 \n",
      "             Accuracy: 0.7210491597652435\n",
      "Step 0 in 5600 epoch: Gen loss: 0.118327796459198 \n",
      "             Accuracy: 0.6608735918998718\n",
      "Step 1 in 5600 epoch: Gen loss: 0.13477784395217896 \n",
      "             Accuracy: 0.7213516533374786\n",
      "Step 0 in 5610 epoch: Gen loss: 0.11806677281856537 \n",
      "             Accuracy: 0.6611902415752411\n",
      "Step 1 in 5610 epoch: Gen loss: 0.13437454402446747 \n",
      "             Accuracy: 0.7216547727584839\n",
      "Step 0 in 5620 epoch: Gen loss: 0.11780860275030136 \n",
      "             Accuracy: 0.6615039706230164\n",
      "Step 1 in 5620 epoch: Gen loss: 0.1339711844921112 \n",
      "             Accuracy: 0.7219585180282593\n",
      "Step 0 in 5630 epoch: Gen loss: 0.1175532415509224 \n",
      "             Accuracy: 0.66181480884552\n",
      "Step 1 in 5630 epoch: Gen loss: 0.13356773555278778 \n",
      "             Accuracy: 0.722262978553772\n",
      "Step 0 in 5640 epoch: Gen loss: 0.11730064451694489 \n",
      "             Accuracy: 0.6621228456497192\n",
      "Step 1 in 5640 epoch: Gen loss: 0.133164182305336 \n",
      "             Accuracy: 0.7225680947303772\n",
      "Step 0 in 5650 epoch: Gen loss: 0.11705076694488525 \n",
      "             Accuracy: 0.6624280512332916\n",
      "Step 1 in 5650 epoch: Gen loss: 0.13276053965091705 \n",
      "             Accuracy: 0.7228739857673645\n",
      "Step 0 in 5660 epoch: Gen loss: 0.11680357158184052 \n",
      "             Accuracy: 0.6627305150032043\n",
      "Step 1 in 5660 epoch: Gen loss: 0.13235679268836975 \n",
      "             Accuracy: 0.7231805622577667\n",
      "Step 0 in 5670 epoch: Gen loss: 0.11655900627374649 \n",
      "             Accuracy: 0.6630302965641022\n",
      "Step 1 in 5670 epoch: Gen loss: 0.1319529265165329 \n",
      "             Accuracy: 0.723487913608551\n",
      "Step 0 in 5680 epoch: Gen loss: 0.1163170337677002 \n",
      "             Accuracy: 0.6633273959159851\n",
      "Step 1 in 5680 epoch: Gen loss: 0.1315489560365677 \n",
      "             Accuracy: 0.7237959802150726\n",
      "Step 0 in 5690 epoch: Gen loss: 0.11607760936021805 \n",
      "             Accuracy: 0.6636218428611755\n",
      "Step 1 in 5690 epoch: Gen loss: 0.13114486634731293 \n",
      "             Accuracy: 0.7241048812866211\n",
      "Step 0 in 5700 epoch: Gen loss: 0.11584068089723587 \n",
      "             Accuracy: 0.663913756608963\n",
      "Step 1 in 5700 epoch: Gen loss: 0.13074065744876862 \n",
      "             Accuracy: 0.7244145572185516\n",
      "Step 0 in 5710 epoch: Gen loss: 0.11560621857643127 \n",
      "             Accuracy: 0.6642031073570251\n",
      "Step 1 in 5710 epoch: Gen loss: 0.13033631443977356 \n",
      "             Accuracy: 0.724725067615509\n",
      "Step 0 in 5720 epoch: Gen loss: 0.11537417769432068 \n",
      "             Accuracy: 0.6644899845123291\n",
      "Step 1 in 5720 epoch: Gen loss: 0.12993186712265015 \n",
      "             Accuracy: 0.7250363826751709\n",
      "Step 0 in 5730 epoch: Gen loss: 0.11514449864625931 \n",
      "             Accuracy: 0.6647744476795197\n",
      "Step 1 in 5730 epoch: Gen loss: 0.129527285695076 \n",
      "             Accuracy: 0.725348562002182\n",
      "Step 0 in 5740 epoch: Gen loss: 0.11491715908050537 \n",
      "             Accuracy: 0.6650564670562744\n",
      "Step 1 in 5740 epoch: Gen loss: 0.12912258505821228 \n",
      "             Accuracy: 0.7256616055965424\n",
      "Step 0 in 5750 epoch: Gen loss: 0.11469209939241409 \n",
      "             Accuracy: 0.6653361320495605\n",
      "Step 1 in 5750 epoch: Gen loss: 0.12871776521205902 \n",
      "             Accuracy: 0.7259754836559296\n",
      "Step 0 in 5760 epoch: Gen loss: 0.11446928232908249 \n",
      "             Accuracy: 0.6656135320663452\n",
      "Step 1 in 5760 epoch: Gen loss: 0.12831281125545502 \n",
      "             Accuracy: 0.726290225982666\n",
      "Step 0 in 5770 epoch: Gen loss: 0.11424866318702698 \n",
      "             Accuracy: 0.6658886671066284\n",
      "Step 1 in 5770 epoch: Gen loss: 0.12790773808956146 \n",
      "             Accuracy: 0.7266058921813965\n",
      "Step 0 in 5780 epoch: Gen loss: 0.11403020471334457 \n",
      "             Accuracy: 0.6661615371704102\n",
      "Step 1 in 5780 epoch: Gen loss: 0.12750254571437836 \n",
      "             Accuracy: 0.7269225120544434\n",
      "Step 0 in 5790 epoch: Gen loss: 0.1138138622045517 \n",
      "             Accuracy: 0.66643226146698\n",
      "Step 1 in 5790 epoch: Gen loss: 0.1270972341299057 \n",
      "             Accuracy: 0.7272399663925171\n",
      "Step 0 in 5800 epoch: Gen loss: 0.11359959095716476 \n",
      "             Accuracy: 0.666700929403305\n",
      "Step 1 in 5800 epoch: Gen loss: 0.1266917884349823 \n",
      "             Accuracy: 0.727558434009552\n",
      "Step 0 in 5810 epoch: Gen loss: 0.1133873462677002 \n",
      "             Accuracy: 0.6669674515724182\n",
      "Step 1 in 5810 epoch: Gen loss: 0.12628623843193054 \n",
      "             Accuracy: 0.7278777956962585\n",
      "Step 0 in 5820 epoch: Gen loss: 0.1131770983338356 \n",
      "             Accuracy: 0.6672319769859314\n",
      "Step 1 in 5820 epoch: Gen loss: 0.12588053941726685 \n",
      "             Accuracy: 0.7281981110572815\n",
      "Step 0 in 5830 epoch: Gen loss: 0.11296878755092621 \n",
      "             Accuracy: 0.6674944758415222\n",
      "Step 1 in 5830 epoch: Gen loss: 0.1254747360944748 \n",
      "             Accuracy: 0.7285194396972656\n",
      "Step 0 in 5840 epoch: Gen loss: 0.11276238411664963 \n",
      "             Accuracy: 0.6677550673484802\n",
      "Step 1 in 5840 epoch: Gen loss: 0.125068798661232 \n",
      "             Accuracy: 0.7288417816162109\n",
      "Step 0 in 5850 epoch: Gen loss: 0.11255784332752228 \n",
      "             Accuracy: 0.6680138111114502\n",
      "Step 1 in 5850 epoch: Gen loss: 0.12466271966695786 \n",
      "             Accuracy: 0.7291651368141174\n",
      "Step 0 in 5860 epoch: Gen loss: 0.11235512793064117 \n",
      "             Accuracy: 0.6682706773281097\n",
      "Step 1 in 5860 epoch: Gen loss: 0.12425651401281357 \n",
      "             Accuracy: 0.7294895052909851\n",
      "Step 0 in 5870 epoch: Gen loss: 0.11215418577194214 \n",
      "             Accuracy: 0.668525755405426\n",
      "Step 1 in 5870 epoch: Gen loss: 0.12385017424821854 \n",
      "             Accuracy: 0.7298149466514587\n",
      "Step 0 in 5880 epoch: Gen loss: 0.11195498704910278 \n",
      "             Accuracy: 0.6687791347503662\n",
      "Step 1 in 5880 epoch: Gen loss: 0.12344368547201157 \n",
      "             Accuracy: 0.7301414608955383\n",
      "Step 0 in 5890 epoch: Gen loss: 0.11175747960805893 \n",
      "             Accuracy: 0.6690307855606079\n",
      "Step 1 in 5890 epoch: Gen loss: 0.12303705513477325 \n",
      "             Accuracy: 0.7304690778255463\n",
      "Step 0 in 5900 epoch: Gen loss: 0.11156164109706879 \n",
      "             Accuracy: 0.6692807674407959\n",
      "Step 1 in 5900 epoch: Gen loss: 0.12263026833534241 \n",
      "             Accuracy: 0.7307978272438049\n",
      "Step 0 in 5910 epoch: Gen loss: 0.11136741191148758 \n",
      "             Accuracy: 0.6695291996002197\n",
      "Step 1 in 5910 epoch: Gen loss: 0.12222331762313843 \n",
      "             Accuracy: 0.7311277091503143\n",
      "Step 0 in 5920 epoch: Gen loss: 0.11117475479841232 \n",
      "             Accuracy: 0.6697761118412018\n",
      "Step 1 in 5920 epoch: Gen loss: 0.12181620299816132 \n",
      "             Accuracy: 0.7314587831497192\n",
      "Step 0 in 5930 epoch: Gen loss: 0.11098363995552063 \n",
      "             Accuracy: 0.6700214743614197\n",
      "Step 1 in 5930 epoch: Gen loss: 0.12140890955924988 \n",
      "             Accuracy: 0.7317910492420197\n",
      "Step 0 in 5940 epoch: Gen loss: 0.11079401522874832 \n",
      "             Accuracy: 0.6702654361724854\n",
      "Step 1 in 5940 epoch: Gen loss: 0.12100142985582352 \n",
      "             Accuracy: 0.7321245074272156\n",
      "Step 0 in 5950 epoch: Gen loss: 0.11060585081577301 \n",
      "             Accuracy: 0.6705079674720764\n",
      "Step 1 in 5950 epoch: Gen loss: 0.12059374898672104 \n",
      "             Accuracy: 0.7324592769145966\n",
      "Step 0 in 5960 epoch: Gen loss: 0.11041909456253052 \n",
      "             Accuracy: 0.67074915766716\n",
      "Step 1 in 5960 epoch: Gen loss: 0.12018586695194244 \n",
      "             Accuracy: 0.7327952980995178\n",
      "Step 0 in 5970 epoch: Gen loss: 0.11023371666669846 \n",
      "             Accuracy: 0.670989066362381\n",
      "Step 1 in 5970 epoch: Gen loss: 0.11977776139974594 \n",
      "             Accuracy: 0.7331326603889465\n",
      "Step 0 in 5980 epoch: Gen loss: 0.11004967242479324 \n",
      "             Accuracy: 0.6712277233600616\n",
      "Step 1 in 5980 epoch: Gen loss: 0.11936942487955093 \n",
      "             Accuracy: 0.7334713339805603\n",
      "Step 0 in 5990 epoch: Gen loss: 0.10986693203449249 \n",
      "             Accuracy: 0.6714651584625244\n",
      "Step 1 in 5990 epoch: Gen loss: 0.11896084994077682 \n",
      "             Accuracy: 0.7338114380836487\n",
      "Step 0 in 6000 epoch: Gen loss: 0.10968543589115143 \n",
      "             Accuracy: 0.6717014908790588\n",
      "Step 1 in 6000 epoch: Gen loss: 0.11855201423168182 \n",
      "             Accuracy: 0.7341529130935669\n"
     ]
    }
   ],
   "source": [
    "new_gen_w = train(dis_dataset[0], EPOCHS, start_epoch=1, new_gen_w=new_gen_w) "
   ]
  },
  {
   "cell_type": "markdown",
   "metadata": {},
   "source": [
    "## Training metrics"
   ]
  },
  {
   "cell_type": "code",
   "execution_count": 207,
   "metadata": {},
   "outputs": [
    {
     "data": {
      "image/png": "[encoded data removed]",
      "text/plain": [
       "<Figure size 432x288 with 1 Axes>"
      ]
     },
     "metadata": {
      "needs_background": "light"
     },
     "output_type": "display_data"
    }
   ],
   "source": [
    "plt.plot(range(len(acc_results_avg)), acc_results_avg)\n",
    "plt.title(\"Training Accuracy\")\n",
    "plt.xlabel(\"Epoch\")\n",
    "plt.show()"
   ]
  },
  {
   "cell_type": "code",
   "execution_count": 208,
   "metadata": {},
   "outputs": [
    {
     "data": {
      "image/png": "[encoded data removed]",
      "text/plain": [
       "<Figure size 720x360 with 1 Axes>"
      ]
     },
     "metadata": {
      "needs_background": "light"
     },
     "output_type": "display_data"
    }
   ],
   "source": [
    "plt.figure(figsize=(10, 5))\n",
    "plt.plot(range(len(acc_results)), acc_results)\n",
    "plt.title(\"Batch wise accuracy\")\n",
    "plt.xlabel(f\"Batch number (take % {batch_size})\")\n",
    "plt.show()"
   ]
  },
  {
   "cell_type": "code",
   "execution_count": 209,
   "metadata": {},
   "outputs": [
    {
     "data": {
      "image/png": "[encoded data removed]",
      "text/plain": [
       "<Figure size 720x360 with 1 Axes>"
      ]
     },
     "metadata": {
      "needs_background": "light"
     },
     "output_type": "display_data"
    }
   ],
   "source": [
    "plt.figure(figsize=(10, 5))\n",
    "plt.plot(range(len(gloss)), gloss, label=\"Training Loss\")\n",
    "plt.title(\"Loss\")\n",
    "plt.xlabel(\"Epoch\")\n",
    "plt.legend()\n",
    "plt.show()"
   ]
  },
  {
   "cell_type": "markdown",
   "metadata": {
    "id": "7YW3dC5XHVe_"
   },
   "source": [
    "## Results compared"
   ]
  },
  {
   "cell_type": "code",
   "execution_count": 210,
   "metadata": {
    "colab": {
     "base_uri": "https://localhost:8080/",
     "height": 295
    },
    "id": "1ezLI7CXHZUy",
    "outputId": "20173ef7-a5b7-42f1-8188-5347dd97934a"
   },
   "outputs": [
    {
     "data": {
      "image/png": "[encoded data removed]",
      "text/plain": [
       "<Figure size 432x288 with 1 Axes>"
      ]
     },
     "metadata": {
      "needs_background": "light"
     },
     "output_type": "display_data"
    },
    {
     "data": {
      "image/png": "[encoded data removed]",
      "text/plain": [
       "<Figure size 432x288 with 1 Axes>"
      ]
     },
     "metadata": {
      "needs_background": "light"
     },
     "output_type": "display_data"
    }
   ],
   "source": [
    "for i in range(batch_size):\n",
    "    days =  np.arange(1, len(dis_dataset[0][0][0]) + len(dis_dataset[0][0][1]) + 1)\n",
    "    real_stats = np.append(dis_dataset[0][i][0], dis_dataset[0][i][1])\n",
    "    fake_stats = tf.concat([dis_dataset[0][i][0], qnn(dis_dataset[0][i][0], new_gen_w)], 0).numpy()\n",
    "    init_fake_stats = tf.concat([dis_dataset[0][i][0], qnn(dis_dataset[0][i][0], init_weights)], 0).numpy()\n",
    "\n",
    "    plt.plot(days, fake_stats, label=\"trained generated data\")\n",
    "    plt.plot(days, init_fake_stats, label=\"initial fake data\")\n",
    "    plt.plot(days, real_stats, label=\"real data\")\n",
    "    plt.title(\"DIS real stock price\")\n",
    "    plt.xlabel(\"Days\")\n",
    "    plt.ylabel(\"Normalized Pctg inc/dec\")\n",
    "    plt.legend()\n",
    "    plt.show()"
   ]
  }
 ],
 "metadata": {
  "colab": {
   "collapsed_sections": [],
   "name": "QGAN.ipynb",
   "provenance": []
  },
  "instance_type": "ml.m5.4xlarge",
  "kernelspec": {
   "display_name": "Python 3 (TensorFlow 2.3 Python 3.7 CPU Optimized)",
   "language": "python",
   "name": "python3__SAGEMAKER_INTERNAL__arn:aws:sagemaker:us-east-2:429704687514:image/tensorflow-2.3-cpu-py37-ubuntu18.04-v1"
  },
  "language_info": {
   "codemirror_mode": {
    "name": "ipython",
    "version": 3
   },
   "file_extension": ".py",
   "mimetype": "text/x-python",
   "name": "python",
   "nbconvert_exporter": "python",
   "pygments_lexer": "ipython3",
   "version": "3.7.10"
  }
 },
 "nbformat": 4,
 "nbformat_minor": 4
}
