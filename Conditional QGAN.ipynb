{
 "cells": [
  {
   "cell_type": "markdown",
   "metadata": {},
   "source": [
    "# A quantum adversarial learning approach to learn sequential data distributions"
   ]
  },
  {
   "cell_type": "markdown",
   "metadata": {},
   "source": [
    "The following notebook evaluates the learnability of a conditional quantum generative adversarial network in a semi-supervised learning setting. Using 15 days of arbitrary prior `DIS` stock prices as conditional labels to the quantum generator, I employ an adversarial learning approach with a classical discriminator to train the generator to learn as many sequential data sequences of 19 days as it can (15 days input, 4 days predict). After our attempts with simple quantum neural networks and reading through relevant literature, I've settled that the hope here is not for the generator to learn the underlying distribution of `DIS` stock price data but rather to numerically determine the capacity and power of a quantum generative adversarial network in learning a given number of sequential data samples. To that end, I use this QGAN template to experiment with various hyperparameter configurations to see which work better. The results of those experiments and related metric charts can be found [here](https://www.notion.so/Hyperparameter-tuning-logs-55900faebff8456394cd44a7ea235997)."
   ]
  },
  {
   "cell_type": "markdown",
   "metadata": {
    "id": "5_Jet5Qk3vlf"
   },
   "source": [
    "<hr>"
   ]
  },
  {
   "cell_type": "markdown",
   "metadata": {
    "id": "5DSuCzfc32we"
   },
   "source": [
    "## Imports"
   ]
  },
  {
   "cell_type": "code",
   "execution_count": 1,
   "metadata": {
    "id": "yUIh5KnTSvt_"
   },
   "outputs": [],
   "source": [
    "import pennylane as qml\n",
    "import tensorflow as tf\n",
    "import numpy as np\n",
    "import matplotlib.pyplot as plt"
   ]
  },
  {
   "cell_type": "code",
   "execution_count": 2,
   "metadata": {
    "id": "IEWib84pSvuC"
   },
   "outputs": [],
   "source": [
    "wires = range(15)\n",
    "n_layers = 3\n",
    "dev = qml.device('default.qubit', wires=wires)"
   ]
  },
  {
   "cell_type": "markdown",
   "metadata": {},
   "source": [
    "###### dataset structure: `[equity number][train or test][sample number][past or future]`"
   ]
  },
  {
   "cell_type": "code",
   "execution_count": 3,
   "metadata": {
    "id": "2PWDzTGPSvuD"
   },
   "outputs": [],
   "source": [
    "dataset = np.load('data/dataset.npy', allow_pickle=True)\n",
    "\n",
    "dis_dataset = dataset[1]"
   ]
  },
  {
   "cell_type": "markdown",
   "metadata": {
    "id": "5fumLe24SvuE"
   },
   "source": [
    "## Structure of QGAN"
   ]
  },
  {
   "cell_type": "markdown",
   "metadata": {
    "id": "x9Pda43PSvuE"
   },
   "source": [
    "### Generator"
   ]
  },
  {
   "cell_type": "code",
   "execution_count": 4,
   "metadata": {
    "id": "09FKQFWoSvuF"
   },
   "outputs": [],
   "source": [
    "@qml.qnode(dev, interface=\"tf\")\n",
    "def gen_circuit(b_seq, gen_weights):\n",
    "    # Embedding past time series onto circuit as conditional labels\n",
    "    qml.templates.AngleEmbedding(b_seq, wires, rotation='X')\n",
    "        \n",
    "    # Adjusting parameters of generator ansatz\n",
    "    qml.templates.StronglyEntanglingLayers(gen_weights, wires=wires)\n",
    "    \n",
    "    # Returning normalized percentage price predictions for next 4 days in dataset \n",
    "    return [qml.expval(qml.PauliZ(i)) for i in range(len(dis_dataset[0][1][1]))]"
   ]
  },
  {
   "cell_type": "code",
   "execution_count": 5,
   "metadata": {
    "id": "dR7vaWY0SvuG"
   },
   "outputs": [],
   "source": [
    "init_gen_weights = tf.Variable(np.random.uniform(-np.pi, np.pi, (n_layers, len(wires), 3)))"
   ]
  },
  {
   "cell_type": "code",
   "execution_count": 6,
   "metadata": {
    "colab": {
     "base_uri": "https://localhost:8080/",
     "height": 0
    },
    "id": "zlQ2KL1FTtxA",
    "outputId": "0afb530b-d777-46a6-9ff9-cada44e6fba8"
   },
   "outputs": [
    {
     "data": {
      "text/plain": [
       "<tf.Variable 'Variable:0' shape=(3, 15, 3) dtype=float64, numpy=\n",
       "array([[[-0.88701635, -1.54912501, -0.8525112 ],\n",
       "        [-1.53692466,  2.95251868,  2.23696445],\n",
       "        [-2.42279275,  1.84587814,  3.04860206],\n",
       "        [ 2.83959698,  1.26262586, -0.08396601],\n",
       "        [ 1.29138745, -2.56281357, -2.08070518],\n",
       "        [-1.26814322,  0.47261909,  1.62131253],\n",
       "        [-2.41086223,  0.99930757, -1.99027519],\n",
       "        [-0.72379049, -1.77472708, -1.97173395],\n",
       "        [ 1.51763824, -2.55807908,  0.12068614],\n",
       "        [ 0.45750247, -0.73728982, -1.31661051],\n",
       "        [ 1.39348662, -3.02674522,  0.62734753],\n",
       "        [ 2.2679303 , -2.37242893, -1.26380886],\n",
       "        [-2.78996186, -0.34997719,  2.14067192],\n",
       "        [-0.08138569,  2.91907192,  0.42401964],\n",
       "        [-1.17377137,  1.39837493, -0.52559872]],\n",
       "\n",
       "       [[-1.89646083, -1.54066761, -2.08148989],\n",
       "        [ 0.04691366,  0.04150308, -3.1255754 ],\n",
       "        [ 0.55573674,  2.97993866, -1.77767168],\n",
       "        [-1.16331778, -1.12303346, -1.43656612],\n",
       "        [-0.03870756, -1.86312585, -0.49761103],\n",
       "        [ 0.94801766,  1.67351154, -1.23740994],\n",
       "        [-0.10433626, -0.22921291, -3.04880472],\n",
       "        [-2.13285244, -3.03732868, -1.1796229 ],\n",
       "        [ 0.03323714, -1.63615833,  2.06603091],\n",
       "        [-2.04377114, -0.1487322 ,  2.67494932],\n",
       "        [ 1.05288011, -1.50252307, -1.57444416],\n",
       "        [ 0.674427  , -1.74325834,  0.26558764],\n",
       "        [ 1.86110462, -1.54615385, -1.57761389],\n",
       "        [-2.52451526, -0.5939706 ,  0.46219141],\n",
       "        [-1.04525626, -2.66807215, -0.34724887]],\n",
       "\n",
       "       [[-2.47034965, -0.15920592,  2.27598161],\n",
       "        [ 2.24699277, -0.08383067, -2.11384409],\n",
       "        [ 1.91446684,  1.50483647,  0.45080534],\n",
       "        [ 1.65015148, -0.02460652, -1.7471013 ],\n",
       "        [-0.76723265,  1.67742256, -0.21405401],\n",
       "        [ 3.11951529,  1.9286337 , -2.47250932],\n",
       "        [ 2.49223927, -0.6001655 , -3.03364026],\n",
       "        [ 0.87915663, -1.66383488, -0.68448136],\n",
       "        [-2.09402109,  2.32364794,  1.87964196],\n",
       "        [ 3.00102222, -0.14282596,  0.63654176],\n",
       "        [ 1.92437182,  2.3222341 ,  0.64115752],\n",
       "        [ 2.1889001 ,  1.66543075, -2.46101955],\n",
       "        [ 0.02854114, -1.45975105,  2.51823061],\n",
       "        [-0.07568733, -3.03130254, -0.14314577],\n",
       "        [-2.37658089,  1.58945146, -2.92368588]]])>"
      ]
     },
     "execution_count": 6,
     "metadata": {},
     "output_type": "execute_result"
    }
   ],
   "source": [
    "init_gen_weights"
   ]
  },
  {
   "cell_type": "code",
   "execution_count": 7,
   "metadata": {},
   "outputs": [
    {
     "data": {
      "text/plain": [
       "<tf.Tensor: shape=(4,), dtype=float64, numpy=array([ 1.55092621e-05, -1.69353143e-03, -1.00086526e-02,  9.36802328e-03])>"
      ]
     },
     "execution_count": 7,
     "metadata": {},
     "output_type": "execute_result"
    }
   ],
   "source": [
    "# Testing generator circuit QNode\n",
    "gen_circuit(dis_dataset[0][1][0], init_gen_weights)"
   ]
  },
  {
   "cell_type": "markdown",
   "metadata": {
    "id": "J5vdqNn8SvuJ"
   },
   "source": [
    "### Discriminator"
   ]
  },
  {
   "cell_type": "code",
   "execution_count": 8,
   "metadata": {
    "id": "R8XPDksNSvuJ"
   },
   "outputs": [],
   "source": [
    "def make_discrim():\n",
    "    model = tf.keras.models.Sequential()\n",
    "    model.add(tf.keras.layers.Conv1D(filters=16, kernel_size=1, input_shape=[1, 19]))\n",
    "    model.add(tf.keras.layers.LeakyReLU(alpha=0.2))\n",
    "    \n",
    "    model.add(tf.keras.layers.Conv1D(filters=16, kernel_size=1))\n",
    "    model.add(tf.keras.layers.LeakyReLU(alpha=0.2))\n",
    "    \n",
    "    model.add(tf.keras.layers.Dropout(.3))\n",
    "    model.add(tf.keras.layers.Dense(units=128, activation='relu'))\n",
    "    model.add(tf.keras.layers.Dense(units=1, activation='sigmoid'))\n",
    "    \n",
    "    return model"
   ]
  },
  {
   "cell_type": "code",
   "execution_count": 10,
   "metadata": {
    "colab": {
     "base_uri": "https://localhost:8080/",
     "height": 0
    },
    "id": "a8n-2ExLSvuJ",
    "outputId": "f8808ce5-bb01-4caa-f50c-fac7392b1f15",
    "scrolled": true
   },
   "outputs": [
    {
     "name": "stdout",
     "output_type": "stream",
     "text": [
      "Model: \"sequential_1\"\n",
      "_________________________________________________________________\n",
      "Layer (type)                 Output Shape              Param #   \n",
      "=================================================================\n",
      "conv1d_2 (Conv1D)            (None, 1, 16)             320       \n",
      "_________________________________________________________________\n",
      "leaky_re_lu_2 (LeakyReLU)    (None, 1, 16)             0         \n",
      "_________________________________________________________________\n",
      "conv1d_3 (Conv1D)            (None, 1, 16)             272       \n",
      "_________________________________________________________________\n",
      "leaky_re_lu_3 (LeakyReLU)    (None, 1, 16)             0         \n",
      "_________________________________________________________________\n",
      "dropout_1 (Dropout)          (None, 1, 16)             0         \n",
      "_________________________________________________________________\n",
      "dense_2 (Dense)              (None, 1, 128)            2176      \n",
      "_________________________________________________________________\n",
      "dense_3 (Dense)              (None, 1, 1)              129       \n",
      "=================================================================\n",
      "Total params: 2,897\n",
      "Trainable params: 2,897\n",
      "Non-trainable params: 0\n",
      "_________________________________________________________________\n"
     ]
    }
   ],
   "source": [
    "discriminator = make_discrim()\n",
    "discriminator.summary()"
   ]
  },
  {
   "cell_type": "markdown",
   "metadata": {
    "id": "mkteglBlSvuK"
   },
   "source": [
    "### Loss functions and optimizers — real is 1, fake is 0"
   ]
  },
  {
   "cell_type": "code",
   "execution_count": 12,
   "metadata": {
    "id": "nICWzgAOSvuK"
   },
   "outputs": [],
   "source": [
    "cross_entropy = tf.keras.losses.BinaryCrossentropy()\n",
    "\n",
    "def generator_loss(fake_output):\n",
    "    \"\"\"Calculating loss\"\"\"\n",
    "    return cross_entropy(np.ones_like(fake_output), fake_output)"
   ]
  },
  {
   "cell_type": "code",
   "execution_count": 13,
   "metadata": {
    "id": "PrCV9nAMSvuL"
   },
   "outputs": [],
   "source": [
    "def discriminator_loss(fake_output, real_output):    \n",
    "    \"\"\"Compute discriminator loss.\"\"\" \n",
    "    real_loss = cross_entropy(tf.ones_like(real_output), real_output)\n",
    "    fake_loss = cross_entropy(tf.zeros_like(fake_output), fake_output)\n",
    "    total_loss = real_loss + fake_loss\n",
    "    return total_loss"
   ]
  },
  {
   "cell_type": "code",
   "execution_count": 14,
   "metadata": {},
   "outputs": [],
   "source": [
    "def accuracy(real_data, fake_data):\n",
    "    m = tf.keras.metrics.MeanAbsoluteError()\n",
    "    m.update_state(real_data, fake_data)\n",
    "    acc = 1 - m.result().numpy()\n",
    "    return acc"
   ]
  },
  {
   "cell_type": "code",
   "execution_count": 15,
   "metadata": {
    "id": "yD2pNAF7SvuL"
   },
   "outputs": [],
   "source": [
    "generator_optimizer = tf.keras.optimizers.Adam(lr=0.0001)\n",
    "discriminator_optimizer = tf.keras.optimizers.Adam(lr=0.0001)"
   ]
  },
  {
   "cell_type": "markdown",
   "metadata": {
    "id": "z90NVCtw4KeP"
   },
   "source": [
    "### Train step definition"
   ]
  },
  {
   "cell_type": "code",
   "execution_count": 16,
   "metadata": {
    "id": "tYUv2VaJSvuL"
   },
   "outputs": [],
   "source": [
    "def train_step(equity_data, gen_weights):\n",
    "    \"\"\"Run train step on provided image batch.\"\"\"\n",
    "    with tf.GradientTape() as disc_tape, tf.GradientTape() as gen_tape: \n",
    "        generated_prices = tf.concat([equity_data[0], gen_circuit(equity_data[0], gen_weights)], 0)\n",
    "        generated_prices = tf.reshape(generated_prices, (1,1,(len(equity_data[0]) + len(equity_data[1]))))\n",
    "\n",
    "        real_prices = tf.concat([equity_data[0], equity_data[1]], 0)\n",
    "        real_prices = tf.reshape(real_prices, (1,1,(len(equity_data[0]) + len(equity_data[1]))))\n",
    "        \n",
    "        \"\"\"Getting outputs from discrim\"\"\"\n",
    "        real_output = discriminator(real_prices)\n",
    "        fake_output = discriminator(generated_prices)\n",
    "        \n",
    "        \"\"\"Calculating loss\"\"\"\n",
    "        gen_loss = generator_loss(fake_output)\n",
    "        disc_loss = discriminator_loss(fake_output, real_output)\n",
    "    \n",
    "    gradients_of_generator = gen_tape.gradient(gen_loss, gen_weights)\n",
    "    gradients_of_discriminator = disc_tape.gradient(disc_loss, discriminator.trainable_variables)\n",
    "\n",
    "    generator_optimizer.apply_gradients(\n",
    "        zip([gradients_of_generator], [gen_weights]))\n",
    "    discriminator_optimizer.apply_gradients(\n",
    "        zip(gradients_of_discriminator, discriminator.trainable_variables))\n",
    "    \n",
    "    \"\"\"Accuracy\"\"\"\n",
    "    acc = accuracy(equity_data[1], gen_circuit(equity_data[0], gen_weights))\n",
    "    \n",
    "    return gen_loss, disc_loss, gen_weights, acc"
   ]
  },
  {
   "cell_type": "markdown",
   "metadata": {
    "id": "EpF5loDU4RKr"
   },
   "source": [
    "### Training"
   ]
  },
  {
   "cell_type": "code",
   "execution_count": 18,
   "metadata": {},
   "outputs": [],
   "source": [
    "gloss = []\n",
    "dloss = []\n",
    "acc_results = []\n",
    "epoch_acc_results = []"
   ]
  },
  {
   "cell_type": "code",
   "execution_count": 19,
   "metadata": {
    "id": "fp7cBqT2SvuM"
   },
   "outputs": [],
   "source": [
    "EPOCHS = 2500\n",
    "batch_size = 1\n",
    "\n",
    "def train(dataset, epochs, start_epoch=1, new_gen_w=None):    \n",
    "    for epoch in range(start_epoch, start_epoch + epochs):\n",
    "        if epoch == 1:\n",
    "            new_gen_w = tf.Variable(np.ones_like(init_gen_weights.numpy()), dtype=\"float64\")\n",
    "            new_gen_w.assign(init_gen_weights)\n",
    "        \n",
    "        for i, sample in enumerate(dataset[0:batch_size]):\n",
    "            sample_b = sample[0]\n",
    "            sample_f = sample[1]\n",
    "            gl, dl, w, acc = train_step(dataset[i], new_gen_w)\n",
    "            \n",
    "            new_gen_w.assign(w)\n",
    "            acc_results.append(acc)\n",
    "            gloss.append(gl)\n",
    "            dloss.append(dl)\n",
    "        \n",
    "            if epoch % 10 == 0:\n",
    "                print(f\"Step {i} in {epoch} epoch: Gen loss: {gl} \\n         Disc loss: {dl} \\n             Accuracy: {acc}\")\n",
    "        \n",
    "        epoch_acc = 0\n",
    "        for i, sample in enumerate(dataset[0:batch_size]):\n",
    "            epoch_acc += accuracy(sample[1], gen_circuit(sample[0], new_gen_w))\n",
    "        epoch_acc = epoch_acc / len(dataset[0:batch_size])\n",
    "        epoch_acc_results.append(epoch_acc)\n",
    "\n",
    "    return new_gen_w"
   ]
  },
  {
   "cell_type": "code",
   "execution_count": 20,
   "metadata": {
    "collapsed": true,
    "jupyter": {
     "outputs_hidden": true
    }
   },
   "outputs": [
    {
     "name": "stdout",
     "output_type": "stream",
     "text": [
      "Step 0 in 10 epoch: Gen loss: 0.6624584197998047 \n",
      "         Disc loss: 1.3695714473724365 \n",
      "             Accuracy: 0.7976694703102112\n",
      "Step 0 in 20 epoch: Gen loss: 0.6642863154411316 \n",
      "         Disc loss: 1.3580408096313477 \n",
      "             Accuracy: 0.7979502081871033\n",
      "Step 0 in 30 epoch: Gen loss: 0.6664671301841736 \n",
      "         Disc loss: 1.3484387397766113 \n",
      "             Accuracy: 0.7982464283704758\n",
      "Step 0 in 40 epoch: Gen loss: 0.6695736646652222 \n",
      "         Disc loss: 1.3393096923828125 \n",
      "             Accuracy: 0.798551395535469\n",
      "Step 0 in 50 epoch: Gen loss: 0.67249596118927 \n",
      "         Disc loss: 1.330273985862732 \n",
      "             Accuracy: 0.7988499850034714\n",
      "Step 0 in 60 epoch: Gen loss: 0.6750047206878662 \n",
      "         Disc loss: 1.3211067914962769 \n",
      "             Accuracy: 0.799131765961647\n",
      "Step 0 in 70 epoch: Gen loss: 0.677492082118988 \n",
      "         Disc loss: 1.312382459640503 \n",
      "             Accuracy: 0.7994423508644104\n",
      "Step 0 in 80 epoch: Gen loss: 0.6826159954071045 \n",
      "         Disc loss: 1.3036150932312012 \n",
      "             Accuracy: 0.7997985780239105\n",
      "Step 0 in 90 epoch: Gen loss: 0.6873604655265808 \n",
      "         Disc loss: 1.2946383953094482 \n",
      "             Accuracy: 0.8001324385404587\n",
      "Step 0 in 100 epoch: Gen loss: 0.692129909992218 \n",
      "         Disc loss: 1.285362720489502 \n",
      "             Accuracy: 0.800465926527977\n",
      "Step 0 in 110 epoch: Gen loss: 0.6972368955612183 \n",
      "         Disc loss: 1.2762945890426636 \n",
      "             Accuracy: 0.8008109778165817\n",
      "Step 0 in 120 epoch: Gen loss: 0.7025539875030518 \n",
      "         Disc loss: 1.2668373584747314 \n",
      "             Accuracy: 0.801160454750061\n",
      "Step 0 in 130 epoch: Gen loss: 0.7080146670341492 \n",
      "         Disc loss: 1.2570314407348633 \n",
      "             Accuracy: 0.8015126585960388\n",
      "Step 0 in 140 epoch: Gen loss: 0.713324785232544 \n",
      "         Disc loss: 1.2468955516815186 \n",
      "             Accuracy: 0.8018769025802612\n",
      "Step 0 in 150 epoch: Gen loss: 0.7186013460159302 \n",
      "         Disc loss: 1.236504316329956 \n",
      "             Accuracy: 0.8022405207157135\n",
      "Step 0 in 160 epoch: Gen loss: 0.7242413759231567 \n",
      "         Disc loss: 1.2258740663528442 \n",
      "             Accuracy: 0.802611693739891\n",
      "Step 0 in 170 epoch: Gen loss: 0.7294454574584961 \n",
      "         Disc loss: 1.214631199836731 \n",
      "             Accuracy: 0.8029852509498596\n",
      "Step 0 in 180 epoch: Gen loss: 0.7348551154136658 \n",
      "         Disc loss: 1.2024035453796387 \n",
      "             Accuracy: 0.8033652901649475\n",
      "Step 0 in 190 epoch: Gen loss: 0.7420095801353455 \n",
      "         Disc loss: 1.1889324188232422 \n",
      "             Accuracy: 0.8037537187337875\n",
      "Step 0 in 200 epoch: Gen loss: 0.7499693036079407 \n",
      "         Disc loss: 1.1734778881072998 \n",
      "             Accuracy: 0.8041495829820633\n",
      "Step 0 in 210 epoch: Gen loss: 0.7588000297546387 \n",
      "         Disc loss: 1.157421350479126 \n",
      "             Accuracy: 0.8045603632926941\n",
      "Step 0 in 220 epoch: Gen loss: 0.7688980102539062 \n",
      "         Disc loss: 1.1404962539672852 \n",
      "             Accuracy: 0.8049857765436172\n",
      "Step 0 in 230 epoch: Gen loss: 0.7813265323638916 \n",
      "         Disc loss: 1.1215934753417969 \n",
      "             Accuracy: 0.805420771241188\n",
      "Step 0 in 240 epoch: Gen loss: 0.7939797639846802 \n",
      "         Disc loss: 1.1015440225601196 \n",
      "             Accuracy: 0.8058688640594482\n",
      "Step 0 in 250 epoch: Gen loss: 0.8065204620361328 \n",
      "         Disc loss: 1.080364465713501 \n",
      "             Accuracy: 0.8063274174928665\n",
      "Step 0 in 260 epoch: Gen loss: 0.820641815662384 \n",
      "         Disc loss: 1.058319091796875 \n",
      "             Accuracy: 0.8068052232265472\n",
      "Step 0 in 270 epoch: Gen loss: 0.8358393907546997 \n",
      "         Disc loss: 1.0359240770339966 \n",
      "             Accuracy: 0.807307094335556\n",
      "Step 0 in 280 epoch: Gen loss: 0.8527073860168457 \n",
      "         Disc loss: 1.0127675533294678 \n",
      "             Accuracy: 0.8078244477510452\n",
      "Step 0 in 290 epoch: Gen loss: 0.8695927262306213 \n",
      "         Disc loss: 0.9896601438522339 \n",
      "             Accuracy: 0.808364063501358\n",
      "Step 0 in 300 epoch: Gen loss: 0.8877188563346863 \n",
      "         Disc loss: 0.9661267995834351 \n",
      "             Accuracy: 0.8089242875576019\n",
      "Step 0 in 310 epoch: Gen loss: 0.9069108963012695 \n",
      "         Disc loss: 0.9422581195831299 \n",
      "             Accuracy: 0.809499979019165\n",
      "Step 0 in 320 epoch: Gen loss: 0.9266743659973145 \n",
      "         Disc loss: 0.9180775880813599 \n",
      "             Accuracy: 0.8100937902927399\n",
      "Step 0 in 330 epoch: Gen loss: 0.9464941024780273 \n",
      "         Disc loss: 0.8937689661979675 \n",
      "             Accuracy: 0.8107023239135742\n",
      "Step 0 in 340 epoch: Gen loss: 0.967882513999939 \n",
      "         Disc loss: 0.8692212700843811 \n",
      "             Accuracy: 0.8113263547420502\n",
      "Step 0 in 350 epoch: Gen loss: 0.9897792935371399 \n",
      "         Disc loss: 0.8442531824111938 \n",
      "             Accuracy: 0.8119665682315826\n",
      "Step 0 in 360 epoch: Gen loss: 1.0124354362487793 \n",
      "         Disc loss: 0.8190993070602417 \n",
      "             Accuracy: 0.8126183599233627\n",
      "Step 0 in 370 epoch: Gen loss: 1.036354422569275 \n",
      "         Disc loss: 0.7938225865364075 \n",
      "             Accuracy: 0.8132883608341217\n",
      "Step 0 in 380 epoch: Gen loss: 1.0617735385894775 \n",
      "         Disc loss: 0.7686049938201904 \n",
      "             Accuracy: 0.8139697909355164\n",
      "Step 0 in 390 epoch: Gen loss: 1.0881024599075317 \n",
      "         Disc loss: 0.7435415983200073 \n",
      "             Accuracy: 0.8146640807390213\n",
      "Step 0 in 400 epoch: Gen loss: 1.1165028810501099 \n",
      "         Disc loss: 0.7186707258224487 \n",
      "             Accuracy: 0.8153710216283798\n",
      "Step 0 in 410 epoch: Gen loss: 1.1448131799697876 \n",
      "         Disc loss: 0.6939931511878967 \n",
      "             Accuracy: 0.8160941451787949\n",
      "Step 0 in 420 epoch: Gen loss: 1.1736139059066772 \n",
      "         Disc loss: 0.670509934425354 \n",
      "             Accuracy: 0.8168383985757828\n",
      "Step 0 in 430 epoch: Gen loss: 1.2016743421554565 \n",
      "         Disc loss: 0.6483360528945923 \n",
      "             Accuracy: 0.8176248669624329\n",
      "Step 0 in 440 epoch: Gen loss: 1.232088565826416 \n",
      "         Disc loss: 0.6263605356216431 \n",
      "             Accuracy: 0.8184283077716827\n",
      "Step 0 in 450 epoch: Gen loss: 1.2618660926818848 \n",
      "         Disc loss: 0.6050887703895569 \n",
      "             Accuracy: 0.8192346692085266\n",
      "Step 0 in 460 epoch: Gen loss: 1.2917249202728271 \n",
      "         Disc loss: 0.5843074321746826 \n",
      "             Accuracy: 0.8200586587190628\n",
      "Step 0 in 470 epoch: Gen loss: 1.322974443435669 \n",
      "         Disc loss: 0.5640681982040405 \n",
      "             Accuracy: 0.8208920657634735\n",
      "Step 0 in 480 epoch: Gen loss: 1.3532366752624512 \n",
      "         Disc loss: 0.5444093346595764 \n",
      "             Accuracy: 0.8217422217130661\n",
      "Step 0 in 490 epoch: Gen loss: 1.384150743484497 \n",
      "         Disc loss: 0.5253270268440247 \n",
      "             Accuracy: 0.8226051181554794\n",
      "Step 0 in 500 epoch: Gen loss: 1.4155746698379517 \n",
      "         Disc loss: 0.5068208575248718 \n",
      "             Accuracy: 0.8234771192073822\n",
      "Step 0 in 510 epoch: Gen loss: 1.4479421377182007 \n",
      "         Disc loss: 0.4888784885406494 \n",
      "             Accuracy: 0.8243643045425415\n",
      "Step 0 in 520 epoch: Gen loss: 1.479318618774414 \n",
      "         Disc loss: 0.4714922308921814 \n",
      "             Accuracy: 0.8252624869346619\n",
      "Step 0 in 530 epoch: Gen loss: 1.5122212171554565 \n",
      "         Disc loss: 0.4547032415866852 \n",
      "             Accuracy: 0.8261665254831314\n",
      "Step 0 in 540 epoch: Gen loss: 1.5436158180236816 \n",
      "         Disc loss: 0.4384404122829437 \n",
      "             Accuracy: 0.8270902037620544\n",
      "Step 0 in 550 epoch: Gen loss: 1.5760267972946167 \n",
      "         Disc loss: 0.42276060581207275 \n",
      "             Accuracy: 0.8280179500579834\n",
      "Step 0 in 560 epoch: Gen loss: 1.6094406843185425 \n",
      "         Disc loss: 0.40755611658096313 \n",
      "             Accuracy: 0.8289585262537003\n",
      "Step 0 in 570 epoch: Gen loss: 1.6437100172042847 \n",
      "         Disc loss: 0.39292222261428833 \n",
      "             Accuracy: 0.8299081772565842\n",
      "Step 0 in 580 epoch: Gen loss: 1.6781080961227417 \n",
      "         Disc loss: 0.3788717985153198 \n",
      "             Accuracy: 0.8308664709329605\n",
      "Step 0 in 590 epoch: Gen loss: 1.7106481790542603 \n",
      "         Disc loss: 0.3653557002544403 \n",
      "             Accuracy: 0.8318319618701935\n",
      "Step 0 in 600 epoch: Gen loss: 1.7445098161697388 \n",
      "         Disc loss: 0.352431058883667 \n",
      "             Accuracy: 0.832808718085289\n",
      "Step 0 in 610 epoch: Gen loss: 1.7778446674346924 \n",
      "         Disc loss: 0.34014928340911865 \n",
      "             Accuracy: 0.8337910622358322\n",
      "Step 0 in 620 epoch: Gen loss: 1.8093606233596802 \n",
      "         Disc loss: 0.3283262848854065 \n",
      "             Accuracy: 0.834785670042038\n",
      "Step 0 in 630 epoch: Gen loss: 1.8411242961883545 \n",
      "         Disc loss: 0.31706610321998596 \n",
      "             Accuracy: 0.8357880115509033\n",
      "Step 0 in 640 epoch: Gen loss: 1.8736282587051392 \n",
      "         Disc loss: 0.3062598705291748 \n",
      "             Accuracy: 0.8368043899536133\n",
      "Step 0 in 650 epoch: Gen loss: 1.9062151908874512 \n",
      "         Disc loss: 0.29586276412010193 \n",
      "             Accuracy: 0.8378274738788605\n",
      "Step 0 in 660 epoch: Gen loss: 1.9399081468582153 \n",
      "         Disc loss: 0.2859177887439728 \n",
      "             Accuracy: 0.8388587534427643\n",
      "Step 0 in 670 epoch: Gen loss: 1.9716633558273315 \n",
      "         Disc loss: 0.2764282822608948 \n",
      "             Accuracy: 0.8399068415164948\n",
      "Step 0 in 680 epoch: Gen loss: 2.0036983489990234 \n",
      "         Disc loss: 0.26738065481185913 \n",
      "             Accuracy: 0.8409669399261475\n",
      "Step 0 in 690 epoch: Gen loss: 2.0357346534729004 \n",
      "         Disc loss: 0.2588177025318146 \n",
      "             Accuracy: 0.842032253742218\n",
      "Step 0 in 700 epoch: Gen loss: 2.065544605255127 \n",
      "         Disc loss: 0.2506316900253296 \n",
      "             Accuracy: 0.843111127614975\n",
      "Step 0 in 710 epoch: Gen loss: 2.0947425365448 \n",
      "         Disc loss: 0.24287700653076172 \n",
      "             Accuracy: 0.8442012220621109\n",
      "Step 0 in 720 epoch: Gen loss: 2.125092029571533 \n",
      "         Disc loss: 0.2354850172996521 \n",
      "             Accuracy: 0.8453005999326706\n",
      "Step 0 in 730 epoch: Gen loss: 2.1545615196228027 \n",
      "         Disc loss: 0.22847643494606018 \n",
      "             Accuracy: 0.8464078158140182\n",
      "Step 0 in 740 epoch: Gen loss: 2.183022975921631 \n",
      "         Disc loss: 0.22182798385620117 \n",
      "             Accuracy: 0.84752257168293\n",
      "Step 0 in 750 epoch: Gen loss: 2.2108261585235596 \n",
      "         Disc loss: 0.21550646424293518 \n",
      "             Accuracy: 0.8486499041318893\n",
      "Step 0 in 760 epoch: Gen loss: 2.239713191986084 \n",
      "         Disc loss: 0.20949852466583252 \n",
      "             Accuracy: 0.84978386759758\n",
      "Step 0 in 770 epoch: Gen loss: 2.266385555267334 \n",
      "         Disc loss: 0.20380648970603943 \n",
      "             Accuracy: 0.8509258925914764\n",
      "Step 0 in 780 epoch: Gen loss: 2.293595790863037 \n",
      "         Disc loss: 0.19839797914028168 \n",
      "             Accuracy: 0.852075070142746\n",
      "Step 0 in 790 epoch: Gen loss: 2.318098783493042 \n",
      "         Disc loss: 0.19326937198638916 \n",
      "             Accuracy: 0.8532321900129318\n",
      "Step 0 in 800 epoch: Gen loss: 2.3443851470947266 \n",
      "         Disc loss: 0.18838948011398315 \n",
      "             Accuracy: 0.8543967306613922\n",
      "Step 0 in 810 epoch: Gen loss: 2.3692739009857178 \n",
      "         Disc loss: 0.18376070261001587 \n",
      "             Accuracy: 0.855570524930954\n",
      "Step 0 in 820 epoch: Gen loss: 2.3942666053771973 \n",
      "         Disc loss: 0.17937061190605164 \n",
      "             Accuracy: 0.856748640537262\n",
      "Step 0 in 830 epoch: Gen loss: 2.418102264404297 \n",
      "         Disc loss: 0.17519670724868774 \n",
      "             Accuracy: 0.8579340577125549\n",
      "Step 0 in 840 epoch: Gen loss: 2.441777467727661 \n",
      "         Disc loss: 0.17120611667633057 \n",
      "             Accuracy: 0.859122097492218\n",
      "Step 0 in 850 epoch: Gen loss: 2.463820457458496 \n",
      "         Disc loss: 0.16742576658725739 \n",
      "             Accuracy: 0.8603180646896362\n",
      "Step 0 in 860 epoch: Gen loss: 2.4868290424346924 \n",
      "         Disc loss: 0.16382300853729248 \n",
      "             Accuracy: 0.8615235090255737\n",
      "Step 0 in 870 epoch: Gen loss: 2.51114821434021 \n",
      "         Disc loss: 0.16014963388442993 \n",
      "             Accuracy: 0.862733006477356\n",
      "Step 0 in 880 epoch: Gen loss: 2.5359859466552734 \n",
      "         Disc loss: 0.15657305717468262 \n",
      "             Accuracy: 0.8639475107192993\n",
      "Step 0 in 890 epoch: Gen loss: 2.559272527694702 \n",
      "         Disc loss: 0.15319757163524628 \n",
      "             Accuracy: 0.8651695549488068\n",
      "Step 0 in 900 epoch: Gen loss: 2.5842695236206055 \n",
      "         Disc loss: 0.1500033140182495 \n",
      "             Accuracy: 0.8664043992757797\n",
      "Step 0 in 910 epoch: Gen loss: 2.6049535274505615 \n",
      "         Disc loss: 0.1470862179994583 \n",
      "             Accuracy: 0.8676452189683914\n",
      "Step 0 in 920 epoch: Gen loss: 2.6246464252471924 \n",
      "         Disc loss: 0.14439132809638977 \n",
      "             Accuracy: 0.8688956499099731\n",
      "Step 0 in 930 epoch: Gen loss: 2.64298152923584 \n",
      "         Disc loss: 0.14185553789138794 \n",
      "             Accuracy: 0.8701493144035339\n",
      "Step 0 in 940 epoch: Gen loss: 2.6589770317077637 \n",
      "         Disc loss: 0.13948532938957214 \n",
      "             Accuracy: 0.8714047819375992\n",
      "Step 0 in 950 epoch: Gen loss: 2.6758766174316406 \n",
      "         Disc loss: 0.13724710047245026 \n",
      "             Accuracy: 0.8726623207330704\n",
      "Step 0 in 960 epoch: Gen loss: 2.69279146194458 \n",
      "         Disc loss: 0.13513459265232086 \n",
      "             Accuracy: 0.8739271461963654\n",
      "Step 0 in 970 epoch: Gen loss: 2.708829641342163 \n",
      "         Disc loss: 0.13314756751060486 \n",
      "             Accuracy: 0.875194601714611\n",
      "Step 0 in 980 epoch: Gen loss: 2.7233352661132812 \n",
      "         Disc loss: 0.13128447532653809 \n",
      "             Accuracy: 0.8764693289995193\n",
      "Step 0 in 990 epoch: Gen loss: 2.7376365661621094 \n",
      "         Disc loss: 0.1295320987701416 \n",
      "             Accuracy: 0.8777508065104485\n",
      "Step 0 in 1000 epoch: Gen loss: 2.750684976577759 \n",
      "         Disc loss: 0.12789708375930786 \n",
      "             Accuracy: 0.879032090306282\n",
      "Step 0 in 1010 epoch: Gen loss: 2.7653019428253174 \n",
      "         Disc loss: 0.12636558711528778 \n",
      "             Accuracy: 0.880317322909832\n",
      "Step 0 in 1020 epoch: Gen loss: 2.7780330181121826 \n",
      "         Disc loss: 0.12493722885847092 \n",
      "             Accuracy: 0.8816090077161789\n",
      "Step 0 in 1030 epoch: Gen loss: 2.7883529663085938 \n",
      "         Disc loss: 0.12360803037881851 \n",
      "             Accuracy: 0.8829056397080421\n",
      "Step 0 in 1040 epoch: Gen loss: 2.7990641593933105 \n",
      "         Disc loss: 0.12237605452537537 \n",
      "             Accuracy: 0.884203776717186\n",
      "Step 0 in 1050 epoch: Gen loss: 2.81061053276062 \n",
      "         Disc loss: 0.12123192846775055 \n",
      "             Accuracy: 0.8855082467198372\n",
      "Step 0 in 1060 epoch: Gen loss: 2.820174217224121 \n",
      "         Disc loss: 0.12018240988254547 \n",
      "             Accuracy: 0.8868150264024734\n",
      "Step 0 in 1070 epoch: Gen loss: 2.827831983566284 \n",
      "         Disc loss: 0.11921970546245575 \n",
      "             Accuracy: 0.8881260976195335\n",
      "Step 0 in 1080 epoch: Gen loss: 2.836911916732788 \n",
      "         Disc loss: 0.11834220588207245 \n",
      "             Accuracy: 0.8894394338130951\n",
      "Step 0 in 1090 epoch: Gen loss: 2.8440606594085693 \n",
      "         Disc loss: 0.11754772812128067 \n",
      "             Accuracy: 0.8907566070556641\n",
      "Step 0 in 1100 epoch: Gen loss: 2.8513965606689453 \n",
      "         Disc loss: 0.11683151125907898 \n",
      "             Accuracy: 0.892074465751648\n",
      "Step 0 in 1110 epoch: Gen loss: 2.8576347827911377 \n",
      "         Disc loss: 0.1161949634552002 \n",
      "             Accuracy: 0.8933946862816811\n",
      "Step 0 in 1120 epoch: Gen loss: 2.8629326820373535 \n",
      "         Disc loss: 0.11563394963741302 \n",
      "             Accuracy: 0.8946109786629677\n",
      "Step 0 in 1130 epoch: Gen loss: 2.8670670986175537 \n",
      "         Disc loss: 0.11514822393655777 \n",
      "             Accuracy: 0.8954849988222122\n",
      "Step 0 in 1140 epoch: Gen loss: 2.871126413345337 \n",
      "         Disc loss: 0.11473483592271805 \n",
      "             Accuracy: 0.8963576704263687\n",
      "Step 0 in 1150 epoch: Gen loss: 2.8747825622558594 \n",
      "         Disc loss: 0.11439226567745209 \n",
      "             Accuracy: 0.8972276598215103\n",
      "Step 0 in 1160 epoch: Gen loss: 2.878342628479004 \n",
      "         Disc loss: 0.11411723494529724 \n",
      "             Accuracy: 0.8980953842401505\n",
      "Step 0 in 1170 epoch: Gen loss: 2.879255771636963 \n",
      "         Disc loss: 0.11390965431928635 \n",
      "             Accuracy: 0.898959793150425\n",
      "Step 0 in 1180 epoch: Gen loss: 2.882336378097534 \n",
      "         Disc loss: 0.11376902461051941 \n",
      "             Accuracy: 0.8998217433691025\n",
      "Step 0 in 1190 epoch: Gen loss: 2.8819735050201416 \n",
      "         Disc loss: 0.11369321495294571 \n",
      "             Accuracy: 0.900680422782898\n",
      "Step 0 in 1200 epoch: Gen loss: 2.880990982055664 \n",
      "         Disc loss: 0.11367900669574738 \n",
      "             Accuracy: 0.901533454656601\n",
      "Step 0 in 1210 epoch: Gen loss: 2.8835525512695312 \n",
      "         Disc loss: 0.1137227714061737 \n",
      "             Accuracy: 0.9023853912949562\n",
      "Step 0 in 1220 epoch: Gen loss: 2.8808906078338623 \n",
      "         Disc loss: 0.11383421719074249 \n",
      "             Accuracy: 0.9032348021864891\n",
      "Step 0 in 1230 epoch: Gen loss: 2.8813674449920654 \n",
      "         Disc loss: 0.11400334537029266 \n",
      "             Accuracy: 0.9040818810462952\n",
      "Step 0 in 1240 epoch: Gen loss: 2.8777873516082764 \n",
      "         Disc loss: 0.11423495411872864 \n",
      "             Accuracy: 0.9049259051680565\n",
      "Step 0 in 1250 epoch: Gen loss: 2.875201940536499 \n",
      "         Disc loss: 0.1145249754190445 \n",
      "             Accuracy: 0.9057676121592522\n",
      "Step 0 in 1260 epoch: Gen loss: 2.874420642852783 \n",
      "         Disc loss: 0.11487391591072083 \n",
      "             Accuracy: 0.9066068902611732\n",
      "Step 0 in 1270 epoch: Gen loss: 2.869560718536377 \n",
      "         Disc loss: 0.11528138816356659 \n",
      "             Accuracy: 0.9074436873197556\n",
      "Step 0 in 1280 epoch: Gen loss: 2.8673229217529297 \n",
      "         Disc loss: 0.11574450880289078 \n",
      "             Accuracy: 0.9082781076431274\n",
      "Step 0 in 1290 epoch: Gen loss: 2.8635175228118896 \n",
      "         Disc loss: 0.11626740545034409 \n",
      "             Accuracy: 0.9091102927923203\n",
      "Step 0 in 1300 epoch: Gen loss: 2.8563449382781982 \n",
      "         Disc loss: 0.1168467253446579 \n",
      "             Accuracy: 0.9099403470754623\n",
      "Step 0 in 1310 epoch: Gen loss: 2.8534889221191406 \n",
      "         Disc loss: 0.11748043447732925 \n",
      "             Accuracy: 0.9107684269547462\n",
      "Step 0 in 1320 epoch: Gen loss: 2.847977638244629 \n",
      "         Disc loss: 0.11817029863595963 \n",
      "             Accuracy: 0.9115947410464287\n",
      "Step 0 in 1330 epoch: Gen loss: 2.8416824340820312 \n",
      "         Disc loss: 0.11891919374465942 \n",
      "             Accuracy: 0.9124194979667664\n",
      "Step 0 in 1340 epoch: Gen loss: 2.8361175060272217 \n",
      "         Disc loss: 0.11972036212682724 \n",
      "             Accuracy: 0.91324283182621\n",
      "Step 0 in 1350 epoch: Gen loss: 2.826767683029175 \n",
      "         Disc loss: 0.12057922780513763 \n",
      "             Accuracy: 0.914065033197403\n",
      "Step 0 in 1360 epoch: Gen loss: 2.8217461109161377 \n",
      "         Disc loss: 0.12148621678352356 \n",
      "             Accuracy: 0.9148862734436989\n",
      "Step 0 in 1370 epoch: Gen loss: 2.81619930267334 \n",
      "         Disc loss: 0.12245270609855652 \n",
      "             Accuracy: 0.9157069027423859\n",
      "Step 0 in 1380 epoch: Gen loss: 2.80411958694458 \n",
      "         Disc loss: 0.12347692996263504 \n",
      "             Accuracy: 0.9165271744132042\n",
      "Step 0 in 1390 epoch: Gen loss: 2.7982571125030518 \n",
      "         Disc loss: 0.12454912066459656 \n",
      "             Accuracy: 0.9173473119735718\n",
      "Step 0 in 1400 epoch: Gen loss: 2.7894041538238525 \n",
      "         Disc loss: 0.12568169832229614 \n",
      "             Accuracy: 0.9181677177548409\n",
      "Step 0 in 1410 epoch: Gen loss: 2.77997088432312 \n",
      "         Disc loss: 0.1268678903579712 \n",
      "             Accuracy: 0.9189886525273323\n",
      "Step 0 in 1420 epoch: Gen loss: 2.7709906101226807 \n",
      "         Disc loss: 0.12810735404491425 \n",
      "             Accuracy: 0.9198104813694954\n",
      "Step 0 in 1430 epoch: Gen loss: 2.7638449668884277 \n",
      "         Disc loss: 0.12940353155136108 \n",
      "             Accuracy: 0.9206335842609406\n",
      "Step 0 in 1440 epoch: Gen loss: 2.7518692016601562 \n",
      "         Disc loss: 0.13076001405715942 \n",
      "             Accuracy: 0.9214583337306976\n",
      "Step 0 in 1450 epoch: Gen loss: 2.740755319595337 \n",
      "         Disc loss: 0.1321728229522705 \n",
      "             Accuracy: 0.9222850874066353\n",
      "Step 0 in 1460 epoch: Gen loss: 2.731487512588501 \n",
      "         Disc loss: 0.1336413323879242 \n",
      "             Accuracy: 0.9231142401695251\n",
      "Step 0 in 1470 epoch: Gen loss: 2.7201361656188965 \n",
      "         Disc loss: 0.13516998291015625 \n",
      "             Accuracy: 0.923946239054203\n",
      "Step 0 in 1480 epoch: Gen loss: 2.709073543548584 \n",
      "         Disc loss: 0.13675935566425323 \n",
      "             Accuracy: 0.9247814938426018\n",
      "Step 0 in 1490 epoch: Gen loss: 2.697845220565796 \n",
      "         Disc loss: 0.1384112536907196 \n",
      "             Accuracy: 0.9256204515695572\n",
      "Step 0 in 1500 epoch: Gen loss: 2.685364007949829 \n",
      "         Disc loss: 0.14013200998306274 \n",
      "             Accuracy: 0.9264636039733887\n",
      "Step 0 in 1510 epoch: Gen loss: 2.6753828525543213 \n",
      "         Disc loss: 0.14191600680351257 \n",
      "             Accuracy: 0.9273113384842873\n",
      "Step 0 in 1520 epoch: Gen loss: 2.6615607738494873 \n",
      "         Disc loss: 0.14376869797706604 \n",
      "             Accuracy: 0.9281641915440559\n",
      "Step 0 in 1530 epoch: Gen loss: 2.6487209796905518 \n",
      "         Disc loss: 0.14569181203842163 \n",
      "             Accuracy: 0.9290226399898529\n",
      "Step 0 in 1540 epoch: Gen loss: 2.636352777481079 \n",
      "         Disc loss: 0.14768832921981812 \n",
      "             Accuracy: 0.9298872277140617\n",
      "Step 0 in 1550 epoch: Gen loss: 2.6232635974884033 \n",
      "         Disc loss: 0.1497626155614853 \n",
      "             Accuracy: 0.9307584390044212\n",
      "Step 0 in 1560 epoch: Gen loss: 2.609421968460083 \n",
      "         Disc loss: 0.1519174724817276 \n",
      "             Accuracy: 0.931636855006218\n",
      "Step 0 in 1570 epoch: Gen loss: 2.5954675674438477 \n",
      "         Disc loss: 0.15415671467781067 \n",
      "             Accuracy: 0.9325229898095131\n",
      "Step 0 in 1580 epoch: Gen loss: 2.581317901611328 \n",
      "         Disc loss: 0.15648433566093445 \n",
      "             Accuracy: 0.9334173798561096\n",
      "Step 0 in 1590 epoch: Gen loss: 2.566797971725464 \n",
      "         Disc loss: 0.15890531241893768 \n",
      "             Accuracy: 0.9343205839395523\n",
      "Step 0 in 1600 epoch: Gen loss: 2.551877975463867 \n",
      "         Disc loss: 0.16142433881759644 \n",
      "             Accuracy: 0.9352331012487411\n",
      "Step 0 in 1610 epoch: Gen loss: 2.5365777015686035 \n",
      "         Disc loss: 0.1640470325946808 \n",
      "             Accuracy: 0.9361554533243179\n",
      "Step 0 in 1620 epoch: Gen loss: 2.5209102630615234 \n",
      "         Disc loss: 0.16677916049957275 \n",
      "             Accuracy: 0.9370881095528603\n",
      "Step 0 in 1630 epoch: Gen loss: 2.5048563480377197 \n",
      "         Disc loss: 0.16962699592113495 \n",
      "             Accuracy: 0.9380315281450748\n",
      "Step 0 in 1640 epoch: Gen loss: 2.488401174545288 \n",
      "         Disc loss: 0.17259787023067474 \n",
      "             Accuracy: 0.9389861039817333\n",
      "Step 0 in 1650 epoch: Gen loss: 2.4715325832366943 \n",
      "         Disc loss: 0.17569895088672638 \n",
      "             Accuracy: 0.9399522617459297\n",
      "Step 0 in 1660 epoch: Gen loss: 2.454237222671509 \n",
      "         Disc loss: 0.17893821001052856 \n",
      "             Accuracy: 0.9409303180873394\n",
      "Step 0 in 1670 epoch: Gen loss: 2.4364871978759766 \n",
      "         Disc loss: 0.18232440948486328 \n",
      "             Accuracy: 0.9419205784797668\n",
      "Step 0 in 1680 epoch: Gen loss: 2.4182968139648438 \n",
      "         Disc loss: 0.1858668327331543 \n",
      "             Accuracy: 0.9429232999682426\n",
      "Step 0 in 1690 epoch: Gen loss: 2.399629592895508 \n",
      "         Disc loss: 0.18957513570785522 \n",
      "             Accuracy: 0.9439387060701847\n",
      "Step 0 in 1700 epoch: Gen loss: 2.3804640769958496 \n",
      "         Disc loss: 0.193460151553154 \n",
      "             Accuracy: 0.9449669569730759\n",
      "Step 0 in 1710 epoch: Gen loss: 2.3607895374298096 \n",
      "         Disc loss: 0.1975332647562027 \n",
      "             Accuracy: 0.9460081458091736\n",
      "Step 0 in 1720 epoch: Gen loss: 2.340592384338379 \n",
      "         Disc loss: 0.2018066793680191 \n",
      "             Accuracy: 0.9470623433589935\n",
      "Step 0 in 1730 epoch: Gen loss: 2.3198623657226562 \n",
      "         Disc loss: 0.20629256963729858 \n",
      "             Accuracy: 0.9481294825673103\n",
      "Step 0 in 1740 epoch: Gen loss: 2.298593282699585 \n",
      "         Disc loss: 0.2110053151845932 \n",
      "             Accuracy: 0.9492095038294792\n",
      "Step 0 in 1750 epoch: Gen loss: 2.2767603397369385 \n",
      "         Disc loss: 0.2159576714038849 \n",
      "             Accuracy: 0.9503021761775017\n",
      "Step 0 in 1760 epoch: Gen loss: 2.254361391067505 \n",
      "         Disc loss: 0.2211659550666809 \n",
      "             Accuracy: 0.951407253742218\n",
      "Step 0 in 1770 epoch: Gen loss: 2.2313928604125977 \n",
      "         Disc loss: 0.2266433835029602 \n",
      "             Accuracy: 0.952524334192276\n",
      "Step 0 in 1780 epoch: Gen loss: 2.207850933074951 \n",
      "         Disc loss: 0.23240670561790466 \n",
      "             Accuracy: 0.9536529779434204\n",
      "Step 0 in 1790 epoch: Gen loss: 2.183725357055664 \n",
      "         Disc loss: 0.23847104609012604 \n",
      "             Accuracy: 0.9547925852239132\n",
      "Step 0 in 1800 epoch: Gen loss: 2.1590192317962646 \n",
      "         Disc loss: 0.24485260248184204 \n",
      "             Accuracy: 0.9559425041079521\n",
      "Step 0 in 1810 epoch: Gen loss: 2.1337525844573975 \n",
      "         Disc loss: 0.2515670955181122 \n",
      "             Accuracy: 0.957101970911026\n",
      "Step 0 in 1820 epoch: Gen loss: 2.1079468727111816 \n",
      "         Disc loss: 0.2586289644241333 \n",
      "             Accuracy: 0.9582701250910759\n",
      "Step 0 in 1830 epoch: Gen loss: 2.0815958976745605 \n",
      "         Disc loss: 0.26605331897735596 \n",
      "             Accuracy: 0.9594460017979145\n",
      "Step 0 in 1840 epoch: Gen loss: 2.0547502040863037 \n",
      "         Disc loss: 0.2738519310951233 \n",
      "             Accuracy: 0.9606285616755486\n",
      "Step 0 in 1850 epoch: Gen loss: 2.0274360179901123 \n",
      "         Disc loss: 0.28203684091567993 \n",
      "             Accuracy: 0.9611318968236446\n",
      "Step 0 in 1860 epoch: Gen loss: 1.9996970891952515 \n",
      "         Disc loss: 0.2906169295310974 \n",
      "             Accuracy: 0.9605833142995834\n",
      "Step 0 in 1870 epoch: Gen loss: 1.9715802669525146 \n",
      "         Disc loss: 0.29959702491760254 \n",
      "             Accuracy: 0.9600530713796616\n",
      "Step 0 in 1880 epoch: Gen loss: 1.9431620836257935 \n",
      "         Disc loss: 0.3089793920516968 \n",
      "             Accuracy: 0.959540344774723\n",
      "Step 0 in 1890 epoch: Gen loss: 1.9145079851150513 \n",
      "         Disc loss: 0.31876078248023987 \n",
      "             Accuracy: 0.9590443000197411\n",
      "Step 0 in 1900 epoch: Gen loss: 1.8857001066207886 \n",
      "         Disc loss: 0.32893258333206177 \n",
      "             Accuracy: 0.9585640579462051\n",
      "Step 0 in 1910 epoch: Gen loss: 1.8568259477615356 \n",
      "         Disc loss: 0.33948034048080444 \n",
      "             Accuracy: 0.9580987468361855\n",
      "Step 0 in 1920 epoch: Gen loss: 1.8279882669448853 \n",
      "         Disc loss: 0.35038065910339355 \n",
      "             Accuracy: 0.9576475210487843\n",
      "Step 0 in 1930 epoch: Gen loss: 1.799298644065857 \n",
      "         Disc loss: 0.3616032600402832 \n",
      "             Accuracy: 0.9572095349431038\n",
      "Step 0 in 1940 epoch: Gen loss: 1.7708715200424194 \n",
      "         Disc loss: 0.373108446598053 \n",
      "             Accuracy: 0.9567839652299881\n",
      "Step 0 in 1950 epoch: Gen loss: 1.7428356409072876 \n",
      "         Disc loss: 0.38484784960746765 \n",
      "             Accuracy: 0.9563700631260872\n",
      "Step 0 in 1960 epoch: Gen loss: 1.715315341949463 \n",
      "         Disc loss: 0.3967648148536682 \n",
      "             Accuracy: 0.9559670835733414\n",
      "Step 0 in 1970 epoch: Gen loss: 1.6884541511535645 \n",
      "         Disc loss: 0.4087921977043152 \n",
      "             Accuracy: 0.9555744007229805\n",
      "Step 0 in 1980 epoch: Gen loss: 1.6623646020889282 \n",
      "         Disc loss: 0.42085862159729004 \n",
      "             Accuracy: 0.9551914185285568\n",
      "Step 0 in 1990 epoch: Gen loss: 1.637163758277893 \n",
      "         Disc loss: 0.4328831434249878 \n",
      "             Accuracy: 0.9548175632953644\n",
      "Step 0 in 2000 epoch: Gen loss: 1.6129755973815918 \n",
      "         Disc loss: 0.44478583335876465 \n",
      "             Accuracy: 0.9544523768126965\n",
      "Step 0 in 2010 epoch: Gen loss: 1.5899008512496948 \n",
      "         Disc loss: 0.4564812183380127 \n",
      "             Accuracy: 0.9540954194962978\n",
      "Step 0 in 2020 epoch: Gen loss: 1.5680277347564697 \n",
      "         Disc loss: 0.4678846597671509 \n",
      "             Accuracy: 0.9537463039159775\n",
      "Step 0 in 2030 epoch: Gen loss: 1.547422170639038 \n",
      "         Disc loss: 0.47891566157341003 \n",
      "             Accuracy: 0.9534046873450279\n",
      "Step 0 in 2040 epoch: Gen loss: 1.528134822845459 \n",
      "         Disc loss: 0.48950010538101196 \n",
      "             Accuracy: 0.9530702270567417\n",
      "Step 0 in 2050 epoch: Gen loss: 1.5102277994155884 \n",
      "         Disc loss: 0.499566912651062 \n",
      "             Accuracy: 0.9527426287531853\n",
      "Step 0 in 2060 epoch: Gen loss: 1.4937125444412231 \n",
      "         Disc loss: 0.5090551972389221 \n",
      "             Accuracy: 0.9524215571582317\n",
      "Step 0 in 2070 epoch: Gen loss: 1.478595495223999 \n",
      "         Disc loss: 0.5179128646850586 \n",
      "             Accuracy: 0.952106699347496\n",
      "Step 0 in 2080 epoch: Gen loss: 1.4648882150650024 \n",
      "         Disc loss: 0.5260982513427734 \n",
      "             Accuracy: 0.951797753572464\n",
      "Step 0 in 2090 epoch: Gen loss: 1.4525885581970215 \n",
      "         Disc loss: 0.533576250076294 \n",
      "             Accuracy: 0.9514944106340408\n",
      "Step 0 in 2100 epoch: Gen loss: 1.4416216611862183 \n",
      "         Disc loss: 0.5403251647949219 \n",
      "             Accuracy: 0.9511963352560997\n",
      "Step 0 in 2110 epoch: Gen loss: 1.4320154190063477 \n",
      "         Disc loss: 0.5463299751281738 \n",
      "             Accuracy: 0.9509032219648361\n",
      "Step 0 in 2120 epoch: Gen loss: 1.4236958026885986 \n",
      "         Disc loss: 0.5515846610069275 \n",
      "             Accuracy: 0.9506148025393486\n",
      "Step 0 in 2130 epoch: Gen loss: 1.4166165590286255 \n",
      "         Disc loss: 0.5560894012451172 \n",
      "             Accuracy: 0.9502833746373653\n",
      "Step 0 in 2140 epoch: Gen loss: 1.4107837677001953 \n",
      "         Disc loss: 0.5598527789115906 \n",
      "             Accuracy: 0.949534073472023\n",
      "Step 0 in 2150 epoch: Gen loss: 1.406108021736145 \n",
      "         Disc loss: 0.5628910660743713 \n",
      "             Accuracy: 0.9488061964511871\n",
      "Step 0 in 2160 epoch: Gen loss: 1.4025152921676636 \n",
      "         Disc loss: 0.5652209520339966 \n",
      "             Accuracy: 0.9480997957289219\n",
      "Step 0 in 2170 epoch: Gen loss: 1.4000097513198853 \n",
      "         Disc loss: 0.5668666362762451 \n",
      "             Accuracy: 0.9474149942398071\n",
      "Step 0 in 2180 epoch: Gen loss: 1.3984589576721191 \n",
      "         Disc loss: 0.5678560733795166 \n",
      "             Accuracy: 0.9467519633471966\n",
      "Step 0 in 2190 epoch: Gen loss: 1.3978503942489624 \n",
      "         Disc loss: 0.5682255029678345 \n",
      "             Accuracy: 0.9461108446121216\n",
      "Step 0 in 2200 epoch: Gen loss: 1.3981456756591797 \n",
      "         Disc loss: 0.5680047273635864 \n",
      "             Accuracy: 0.9454919137060642\n",
      "Step 0 in 2210 epoch: Gen loss: 1.39847993850708 \n",
      "         Disc loss: 0.5672350525856018 \n",
      "             Accuracy: 0.9448953717947006\n",
      "Step 0 in 2220 epoch: Gen loss: 1.3809216022491455 \n",
      "         Disc loss: 0.5661046504974365 \n",
      "             Accuracy: 0.9443215578794479\n",
      "Step 0 in 2230 epoch: Gen loss: 1.3938900232315063 \n",
      "         Disc loss: 0.564333438873291 \n",
      "             Accuracy: 0.9437707290053368\n",
      "Step 0 in 2240 epoch: Gen loss: 1.411861538887024 \n",
      "         Disc loss: 0.5622450113296509 \n",
      "             Accuracy: 0.9432432353496552\n",
      "Step 0 in 2250 epoch: Gen loss: 1.4134968519210815 \n",
      "         Disc loss: 0.5598104596138 \n",
      "             Accuracy: 0.9427394680678844\n",
      "Step 0 in 2260 epoch: Gen loss: 1.4132919311523438 \n",
      "         Disc loss: 0.5570539236068726 \n",
      "             Accuracy: 0.942259855568409\n",
      "Step 0 in 2270 epoch: Gen loss: 1.4184867143630981 \n",
      "         Disc loss: 0.5540184378623962 \n",
      "             Accuracy: 0.9418047517538071\n",
      "Step 0 in 2280 epoch: Gen loss: 1.4245411157608032 \n",
      "         Disc loss: 0.5507532358169556 \n",
      "             Accuracy: 0.9413745999336243\n",
      "Step 0 in 2290 epoch: Gen loss: 1.4302103519439697 \n",
      "         Disc loss: 0.5473116636276245 \n",
      "             Accuracy: 0.9409697502851486\n",
      "Step 0 in 2300 epoch: Gen loss: 1.435860276222229 \n",
      "         Disc loss: 0.5437414646148682 \n",
      "             Accuracy: 0.9405905939638615\n",
      "Step 0 in 2310 epoch: Gen loss: 1.4418249130249023 \n",
      "         Disc loss: 0.5400930047035217 \n",
      "             Accuracy: 0.9402374029159546\n",
      "Step 0 in 2320 epoch: Gen loss: 1.4480785131454468 \n",
      "         Disc loss: 0.5364128351211548 \n",
      "             Accuracy: 0.9399104379117489\n",
      "Step 0 in 2330 epoch: Gen loss: 1.4538835287094116 \n",
      "         Disc loss: 0.5327463150024414 \n",
      "             Accuracy: 0.9396098628640175\n",
      "Step 0 in 2340 epoch: Gen loss: 1.459914207458496 \n",
      "         Disc loss: 0.5291351675987244 \n",
      "             Accuracy: 0.9393357411026955\n",
      "Step 0 in 2350 epoch: Gen loss: 1.4655545949935913 \n",
      "         Disc loss: 0.5256178379058838 \n",
      "             Accuracy: 0.9390880987048149\n",
      "Step 0 in 2360 epoch: Gen loss: 1.47026789188385 \n",
      "         Disc loss: 0.5222324132919312 \n",
      "             Accuracy: 0.9388668313622475\n",
      "Step 0 in 2370 epoch: Gen loss: 1.4570952653884888 \n",
      "         Disc loss: 0.5191272497177124 \n",
      "             Accuracy: 0.9386717528104782\n",
      "Step 0 in 2380 epoch: Gen loss: 1.472167730331421 \n",
      "         Disc loss: 0.5160554647445679 \n",
      "             Accuracy: 0.9385026693344116\n",
      "Step 0 in 2390 epoch: Gen loss: 1.479623556137085 \n",
      "         Disc loss: 0.5132917165756226 \n",
      "             Accuracy: 0.9383592419326305\n",
      "Step 0 in 2400 epoch: Gen loss: 1.4900678396224976 \n",
      "         Disc loss: 0.5107632875442505 \n",
      "             Accuracy: 0.9382412023842335\n",
      "Step 0 in 2410 epoch: Gen loss: 1.4962337017059326 \n",
      "         Disc loss: 0.5085009336471558 \n",
      "             Accuracy: 0.9381482489407063\n",
      "Step 0 in 2420 epoch: Gen loss: 1.499531865119934 \n",
      "         Disc loss: 0.5065001249313354 \n",
      "             Accuracy: 0.9380800649523735\n",
      "Step 0 in 2430 epoch: Gen loss: 1.5018336772918701 \n",
      "         Disc loss: 0.5047779083251953 \n",
      "             Accuracy: 0.9380363672971725\n",
      "Step 0 in 2440 epoch: Gen loss: 1.5034844875335693 \n",
      "         Disc loss: 0.5033463835716248 \n",
      "             Accuracy: 0.9380168914794922\n",
      "Step 0 in 2450 epoch: Gen loss: 1.5052769184112549 \n",
      "         Disc loss: 0.5022115707397461 \n",
      "             Accuracy: 0.9380214139819145\n",
      "Step 0 in 2460 epoch: Gen loss: 1.5074350833892822 \n",
      "         Disc loss: 0.5013843774795532 \n",
      "             Accuracy: 0.9380497261881828\n",
      "Step 0 in 2470 epoch: Gen loss: 1.5077829360961914 \n",
      "         Disc loss: 0.5008723139762878 \n",
      "             Accuracy: 0.9381016492843628\n",
      "Step 0 in 2480 epoch: Gen loss: 1.5080984830856323 \n",
      "         Disc loss: 0.5006802082061768 \n",
      "             Accuracy: 0.9381770379841328\n",
      "Step 0 in 2490 epoch: Gen loss: 1.506176233291626 \n",
      "         Disc loss: 0.500812292098999 \n",
      "             Accuracy: 0.9382757768034935\n",
      "Step 0 in 2500 epoch: Gen loss: 1.4844011068344116 \n",
      "         Disc loss: 0.50142902135849 \n",
      "             Accuracy: 0.9383977241814137\n"
     ]
    }
   ],
   "source": [
    "new_gen_w = train(dis_dataset[0], EPOCHS, start_epoch=1) "
   ]
  },
  {
   "cell_type": "markdown",
   "metadata": {},
   "source": [
    "### Visualizing training metrics"
   ]
  },
  {
   "cell_type": "code",
   "execution_count": 270,
   "metadata": {},
   "outputs": [
    {
     "data": {
      "image/png": "[encoded data removed]",
      "text/plain": [
       "<Figure size 432x288 with 1 Axes>"
      ]
     },
     "metadata": {
      "needs_background": "light"
     },
     "output_type": "display_data"
    }
   ],
   "source": [
    "plt.plot(range(len(epoch_acc_results)), epoch_acc_results)\n",
    "plt.title(\"Training Accuracy\")\n",
    "plt.xlabel(\"Epoch\")\n",
    "plt.show()"
   ]
  },
  {
   "cell_type": "code",
   "execution_count": 271,
   "metadata": {},
   "outputs": [
    {
     "data": {
      "image/png": "[encoded data removed]",
      "text/plain": [
       "<Figure size 720x360 with 1 Axes>"
      ]
     },
     "metadata": {
      "needs_background": "light"
     },
     "output_type": "display_data"
    }
   ],
   "source": [
    "plt.figure(figsize=(10, 5))\n",
    "plt.plot(range(len(acc_results)), acc_results)\n",
    "plt.title(\"Batch wise accuracy\")\n",
    "plt.xlabel(f\"Batch number (take % {batch_size})\")\n",
    "plt.show()"
   ]
  },
  {
   "cell_type": "code",
   "execution_count": 268,
   "metadata": {},
   "outputs": [
    {
     "data": {
      "image/png": "[encoded data removed]",
      "text/plain": [
       "<Figure size 720x360 with 1 Axes>"
      ]
     },
     "metadata": {
      "needs_background": "light"
     },
     "output_type": "display_data"
    }
   ],
   "source": [
    "plt.figure(figsize=(10, 5))\n",
    "plt.plot(range(len(gloss)), gloss, label=\"Generator loss\")\n",
    "plt.plot(range(len(dloss)), dloss, label=\"Discriminator loss\")\n",
    "plt.title(\"Loss\")\n",
    "plt.xlabel(\"Epoch\")\n",
    "plt.legend()\n",
    "plt.show()"
   ]
  },
  {
   "cell_type": "markdown",
   "metadata": {
    "id": "7YW3dC5XHVe_"
   },
   "source": [
    "### Learned distribution performance"
   ]
  },
  {
   "cell_type": "code",
   "execution_count": 241,
   "metadata": {
    "colab": {
     "base_uri": "https://localhost:8080/",
     "height": 295
    },
    "id": "1ezLI7CXHZUy",
    "outputId": "20173ef7-a5b7-42f1-8188-5347dd97934a"
   },
   "outputs": [
    {
     "data": {
      "image/png": "[encoded data removed]",
      "text/plain": [
       "<Figure size 432x288 with 1 Axes>"
      ]
     },
     "metadata": {
      "needs_background": "light"
     },
     "output_type": "display_data"
    }
   ],
   "source": [
    "for i in range(batch_size):\n",
    "    days =  np.arange(1, len(dis_dataset[0][0][0]) + len(dis_dataset[0][0][1]) + 1)\n",
    "    real_stats = np.append(dis_dataset[0][i][0], dis_dataset[0][i][1])\n",
    "    fake_stats = tf.concat([dis_dataset[0][i][0], gen_circuit(dis_dataset[0][i][0], new_gen_w)], 0).numpy()\n",
    "    init_fake_stats = tf.concat([dis_dataset[0][i][0], gen_circuit(dis_dataset[0][i][0], init_gen_weights)], 0).numpy()\n",
    "\n",
    "    plt.plot(days, fake_stats, label=\"trained generated data\")\n",
    "    plt.plot(days, init_fake_stats, label=\"initial fake data\")\n",
    "    plt.plot(days, real_stats, label=\"real data\")\n",
    "    plt.title(\"DIS real stock price\")\n",
    "    plt.xlabel(\"Days\")\n",
    "    plt.ylabel(\"Normalized Pctg inc/dec\")\n",
    "    plt.legend()\n",
    "    plt.show()"
   ]
  },
  {
   "cell_type": "markdown",
   "metadata": {},
   "source": [
    "## Prior performance charts from hyperparameter tuning [log](https://www.notion.so/Hyperparameter-tuning-logs-55900faebff8456394cd44a7ea235997)"
   ]
  },
  {
   "cell_type": "markdown",
   "metadata": {},
   "source": [
    "![](./images/qgan_ex_1.png)\n",
    "![](./images/qgan_ex_2.png)\n",
    "![](./images/qgan_ex_3.png)\n",
    "![](./images/qgan_ex_4.png)\n",
    "![](./images/qgan_ex_5.png)"
   ]
  },
  {
   "cell_type": "markdown",
   "metadata": {},
   "source": [
    "<hr>"
   ]
  },
  {
   "cell_type": "markdown",
   "metadata": {},
   "source": [
    "## Conclusion"
   ]
  },
  {
   "cell_type": "markdown",
   "metadata": {},
   "source": [
    "As observed through our experiments with the QGAN, it suffers from vanishing gradients requiring dynamic monitoring and LR scheduling. Beyond that, it's evident through the performance charts that with the current configuration it is comfortably learning up to 2 distinct 19-day time sequences of data. As a next step, I would attempt solving this machine learning task with a Wasserstein hybrid-quantum generative adversarial network to tackle the problem of vanishing gradients."
   ]
  }
 ],
 "metadata": {
  "colab": {
   "collapsed_sections": [],
   "name": "QGAN.ipynb",
   "provenance": []
  },
  "instance_type": "ml.m5.4xlarge",
  "kernelspec": {
   "display_name": "Python 3 (TensorFlow 2.3 Python 3.7 CPU Optimized)",
   "language": "python",
   "name": "python3__SAGEMAKER_INTERNAL__arn:aws:sagemaker:us-east-2:429704687514:image/tensorflow-2.3-cpu-py37-ubuntu18.04-v1"
  },
  "language_info": {
   "codemirror_mode": {
    "name": "ipython",
    "version": 3
   },
   "file_extension": ".py",
   "mimetype": "text/x-python",
   "name": "python",
   "nbconvert_exporter": "python",
   "pygments_lexer": "ipython3",
   "version": "3.7.10"
  }
 },
 "nbformat": 4,
 "nbformat_minor": 4
}
