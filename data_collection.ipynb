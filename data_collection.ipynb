{
 "cells": [
  {
   "cell_type": "code",
   "execution_count": 2,
   "metadata": {},
   "outputs": [],
   "source": [
    "import yfinance as yf\n",
    "import pandas as pd"
   ]
  },
  {
   "cell_type": "code",
   "execution_count": 3,
   "metadata": {},
   "outputs": [],
   "source": [
    "equities = ['MSFT', 'DIS', 'TSLA', 'FB', 'ADBE', 'V']"
   ]
  },
  {
   "cell_type": "code",
   "execution_count": 4,
   "metadata": {},
   "outputs": [],
   "source": [
    "for equity in equities:\n",
    "    stock = yf.Ticker(equity)\n",
    "    stock_historical = stock.history(start=\"2020-10-1\", end=\"2020-10-30\", interval=\"1d\")\n",
    "    df = pd.DataFrame(stock_historical)\n",
    "    df = df.drop(['Volume', 'Dividends', 'Stock Splits'], axis=1)\n",
    "    Path = f'data/{equity}'\n",
    "    df.to_csv(Path)"
   ]
  }
 ],
 "metadata": {
  "kernelspec": {
   "display_name": "Python 3",
   "language": "python",
   "name": "python3"
  },
  "language_info": {
   "codemirror_mode": {
    "name": "ipython",
    "version": 3
   },
   "file_extension": ".py",
   "mimetype": "text/x-python",
   "name": "python",
   "nbconvert_exporter": "python",
   "pygments_lexer": "ipython3",
   "version": "3.8.3"
  }
 },
 "nbformat": 4,
 "nbformat_minor": 4
}
